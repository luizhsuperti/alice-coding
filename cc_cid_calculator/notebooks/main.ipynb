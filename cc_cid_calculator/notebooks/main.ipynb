{
 "cells": [
  {
   "cell_type": "markdown",
   "metadata": {},
   "source": [
    "## 0. Setup"
   ]
  },
  {
   "cell_type": "code",
   "execution_count": 7,
   "metadata": {},
   "outputs": [],
   "source": [
    "#standard packages\n",
    "import pandas as pd\n",
    "import numpy as np\n",
    "#import warnings\n",
    "import warnings\n",
    "warnings.filterwarnings('ignore')\n",
    "import os\n",
    "import collections\n",
    "\n",
    "#time packages\n",
    "import datetime as dt\n"
   ]
  },
  {
   "cell_type": "code",
   "execution_count": 8,
   "metadata": {},
   "outputs": [
    {
     "name": "stdout",
     "output_type": "stream",
     "text": [
      "Project directory: /Users/luiz.superti/Documents/GitHub/alice-coding/cc_cid_calculator\n"
     ]
    }
   ],
   "source": [
    "from setup import main as setup\n",
    "setup(env='vscode', project='cc_cid_calculator')"
   ]
  },
  {
   "cell_type": "code",
   "execution_count": 9,
   "metadata": {},
   "outputs": [],
   "source": [
    "from src.model import StaggDiD"
   ]
  },
  {
   "cell_type": "markdown",
   "metadata": {},
   "source": [
    "***"
   ]
  },
  {
   "cell_type": "markdown",
   "metadata": {},
   "source": [
    "## 1. extract"
   ]
  },
  {
   "cell_type": "code",
   "execution_count": 10,
   "metadata": {},
   "outputs": [
    {
     "data": {
      "text/plain": [
       "Index(['member_internal_code', 'calendar_date', 'mth_order', 'total_n_mth',\n",
       "       'current_sex', 'current_gender', 'member_age', 'current_city',\n",
       "       'current_state', 'is_b2b', 'is_pitaya', 'diseases_sev', 'tds_cost',\n",
       "       'internacao_proced_cost', 'exam_cost', 'consulta_cost', 'er_cost',\n",
       "       'alice_therapy_cost', 'other_costs', 'total_care_cost'],\n",
       "      dtype='object')"
      ]
     },
     "execution_count": 10,
     "metadata": {},
     "output_type": "execute_result"
    }
   ],
   "source": [
    "df = pd.read_csv('src/data/cid_care_cost_did_calc_df.csv')\n",
    "df.columns"
   ]
  },
  {
   "cell_type": "code",
   "execution_count": 11,
   "metadata": {},
   "outputs": [],
   "source": [
    "df['diseases_'] = df['diseases_sev'].str.split(';')\n",
    "df2 = df.explode('diseases_')\n",
    "df2['cid_'] = df2['diseases_'].apply(lambda x: str(x).strip()[0:3])\n",
    "df3 = df2[['member_internal_code','calendar_date', 'cid_']].drop_duplicates()"
   ]
  },
  {
   "cell_type": "code",
   "execution_count": 12,
   "metadata": {},
   "outputs": [
    {
     "data": {
      "text/html": [
       "<div>\n",
       "<style scoped>\n",
       "    .dataframe tbody tr th:only-of-type {\n",
       "        vertical-align: middle;\n",
       "    }\n",
       "\n",
       "    .dataframe tbody tr th {\n",
       "        vertical-align: top;\n",
       "    }\n",
       "\n",
       "    .dataframe thead th {\n",
       "        text-align: right;\n",
       "    }\n",
       "</style>\n",
       "<table border=\"1\" class=\"dataframe\">\n",
       "  <thead>\n",
       "    <tr style=\"text-align: right;\">\n",
       "      <th></th>\n",
       "      <th>member_internal_code</th>\n",
       "      <th>calendar_date</th>\n",
       "      <th>cid_</th>\n",
       "    </tr>\n",
       "  </thead>\n",
       "  <tbody>\n",
       "    <tr>\n",
       "      <th>0</th>\n",
       "      <td>NC1000Z</td>\n",
       "      <td>2022-05-31</td>\n",
       "      <td>nan</td>\n",
       "    </tr>\n",
       "    <tr>\n",
       "      <th>1</th>\n",
       "      <td>NC1000Z</td>\n",
       "      <td>2022-06-30</td>\n",
       "      <td>nan</td>\n",
       "    </tr>\n",
       "    <tr>\n",
       "      <th>2</th>\n",
       "      <td>NC1000Z</td>\n",
       "      <td>2022-07-31</td>\n",
       "      <td>nan</td>\n",
       "    </tr>\n",
       "    <tr>\n",
       "      <th>3</th>\n",
       "      <td>NC1002P</td>\n",
       "      <td>2021-12-31</td>\n",
       "      <td>nan</td>\n",
       "    </tr>\n",
       "    <tr>\n",
       "      <th>4</th>\n",
       "      <td>NC1002P</td>\n",
       "      <td>2022-01-31</td>\n",
       "      <td>nan</td>\n",
       "    </tr>\n",
       "    <tr>\n",
       "      <th>...</th>\n",
       "      <td>...</td>\n",
       "      <td>...</td>\n",
       "      <td>...</td>\n",
       "    </tr>\n",
       "    <tr>\n",
       "      <th>114409</th>\n",
       "      <td>NC1ZZWN</td>\n",
       "      <td>2022-05-31</td>\n",
       "      <td>R74</td>\n",
       "    </tr>\n",
       "    <tr>\n",
       "      <th>114410</th>\n",
       "      <td>NC1ZZWN</td>\n",
       "      <td>2022-06-30</td>\n",
       "      <td>R74</td>\n",
       "    </tr>\n",
       "    <tr>\n",
       "      <th>114411</th>\n",
       "      <td>NC1ZZWN</td>\n",
       "      <td>2022-07-31</td>\n",
       "      <td>R74</td>\n",
       "    </tr>\n",
       "    <tr>\n",
       "      <th>114412</th>\n",
       "      <td>NC1ZZWN</td>\n",
       "      <td>2022-08-31</td>\n",
       "      <td>N17</td>\n",
       "    </tr>\n",
       "    <tr>\n",
       "      <th>114412</th>\n",
       "      <td>NC1ZZWN</td>\n",
       "      <td>2022-08-31</td>\n",
       "      <td>R74</td>\n",
       "    </tr>\n",
       "  </tbody>\n",
       "</table>\n",
       "<p>294508 rows × 3 columns</p>\n",
       "</div>"
      ],
      "text/plain": [
       "       member_internal_code calendar_date cid_\n",
       "0                   NC1000Z    2022-05-31  nan\n",
       "1                   NC1000Z    2022-06-30  nan\n",
       "2                   NC1000Z    2022-07-31  nan\n",
       "3                   NC1002P    2021-12-31  nan\n",
       "4                   NC1002P    2022-01-31  nan\n",
       "...                     ...           ...  ...\n",
       "114409              NC1ZZWN    2022-05-31  R74\n",
       "114410              NC1ZZWN    2022-06-30  R74\n",
       "114411              NC1ZZWN    2022-07-31  R74\n",
       "114412              NC1ZZWN    2022-08-31  N17\n",
       "114412              NC1ZZWN    2022-08-31  R74\n",
       "\n",
       "[294508 rows x 3 columns]"
      ]
     },
     "execution_count": 12,
     "metadata": {},
     "output_type": "execute_result"
    }
   ],
   "source": [
    "df3"
   ]
  },
  {
   "cell_type": "code",
   "execution_count": 13,
   "metadata": {},
   "outputs": [],
   "source": [
    "df_row = pd.get_dummies(df3['cid_'], prefix = 'cid')\n",
    "df_row_2 = df3[['member_internal_code', 'calendar_date']].merge(df_row, how = 'inner', left_index=True, right_index=True)\n",
    "df_row_3 = df_row_2.groupby(['member_internal_code', 'calendar_date']).max().reset_index()\n",
    "df_row_3.sort_values(by=['member_internal_code', 'calendar_date'], inplace=True)\n",
    "#create a cid filter\n",
    "df_row_3.drop(columns = 'cid_nan', inplace = True)\n",
    "cids_cols = [col for col in df_row_3 if col.startswith('cid_')]\n",
    "df_row_3[cids_cols] = df_row_3[cids_cols].apply(pd.to_numeric).fillna(0)"
   ]
  },
  {
   "cell_type": "markdown",
   "metadata": {},
   "source": [
    "***"
   ]
  },
  {
   "cell_type": "code",
   "execution_count": 14,
   "metadata": {},
   "outputs": [],
   "source": [
    "df_filled = df.merge(\n",
    "                    pd.get_dummies(df.current_state, prefix = 'uf'),how = 'inner', left_index=True, right_index=True).merge(\n",
    "                        pd.get_dummies(df.current_city, prefix = 'city'),how = 'inner', left_index=True, right_index=True).drop(columns=['current_state', 'current_city'])\n",
    "df_filled['is_male'] = np.where(df_filled['current_sex']=='MALE',1,0)\n",
    "df_filled['is_trans'] = np.where(df_filled['current_sex']!=df_filled['current_gender'],1,0)\n",
    "#create the base-dummies\n",
    "df_filled.drop(columns=['current_gender','current_sex','city_São Paulo', 'uf_SP',\n",
    "                        'diseases_sev','tds_cost', 'exam_cost', 'consulta_cost',\n",
    "                        'internacao_proced_cost', 'er_cost',\n",
    "                        'alice_therapy_cost', 'other_costs'], inplace=True)\n",
    "df_filled.drop(columns=['diseases_'], inplace=True)\n",
    "\n",
    "base_covariates_list = df_filled.drop(columns = ['member_internal_code', 'calendar_date', 'mth_order','total_n_mth', 'total_care_cost']).columns.to_list()\n",
    "core_covariates = ['member_age', 'is_pitaya', 'is_male']\n",
    "y = ['total_care_cost']"
   ]
  },
  {
   "cell_type": "markdown",
   "metadata": {},
   "source": [
    "### Merge bases"
   ]
  },
  {
   "cell_type": "code",
   "execution_count": 15,
   "metadata": {},
   "outputs": [],
   "source": [
    "ml_df = df_filled.merge(df_row_3, how = 'inner', left_on=['member_internal_code', 'calendar_date'], right_on = ['member_internal_code', 'calendar_date'])\n",
    "\n",
    "#adjust variables\n",
    "ml_df['n_total_cids'] = ml_df[cids_cols].sum(axis=1)\n",
    "ml_df['ref_mth'] = (pd.to_datetime(ml_df['calendar_date']).dt.to_period('M') -   pd.to_datetime(['1970-01-31']).to_period('M')).apply(lambda x: x.n)\n",
    "\n",
    "#entry-calendar date\n",
    "ml_df['v1'] = np.where(ml_df['mth_order']==1, ml_df['ref_mth'], np.nan)\n",
    "ml_df = ml_df.merge(ml_df.groupby(['member_internal_code'])['v1'].min().rename('ref_mth_entrance_group'), how = 'inner', left_on = 'member_internal_code', right_index = True)\n",
    "ml_df['ref_mth_entrance_group'] = ml_df['ref_mth_entrance_group'].astype('Int64')\n",
    "ml_df.drop(columns = ['v1'], inplace = True)\n"
   ]
  },
  {
   "cell_type": "code",
   "execution_count": 16,
   "metadata": {},
   "outputs": [],
   "source": [
    "ml_df_calendar_base = ml_df[['member_internal_code','calendar_date','mth_order','ref_mth', 'ref_mth_entrance_group']]"
   ]
  },
  {
   "cell_type": "markdown",
   "metadata": {},
   "source": [
    "***"
   ]
  },
  {
   "cell_type": "code",
   "execution_count": 17,
   "metadata": {},
   "outputs": [],
   "source": [
    "accountable_cids = ml_df.groupby('member_internal_code')[cids_cols].min().drop_duplicates().sum(axis=0).sort_values(ascending=False)\n",
    "accountable_cids = accountable_cids[accountable_cids>=10].index.to_list()"
   ]
  },
  {
   "cell_type": "code",
   "execution_count": null,
   "metadata": {},
   "outputs": [],
   "source": [
    "entry_list_cids = []\n",
    "diagnosed_list  = []\n",
    "\n",
    "for cid in accountable_cids:\n",
    "    print('current cid:', cid)\n",
    "    #cid_list not including the cid\n",
    "    cid_list = [c for c in cids_cols if c!=cid]\n",
    "\n",
    "    temp_df = pd.concat([ml_df_calendar_base, ml_df[cid]], axis = 1)\n",
    "    temp_df.sort_values(by = ['member_internal_code', 'calendar_date'], inplace = True)\n",
    "    #\n",
    "    lag_name = cid + '_lag_1'\n",
    "    temp_df = pd.concat([temp_df,temp_df.groupby(['member_internal_code'])[cid].shift(1).rename(lag_name)], axis = 1)\n",
    "    temp_df.sort_values(by = ['member_internal_code', 'calendar_date'], inplace = True)\n",
    "    #\n",
    "    entry_name = 'entry_' + cid\n",
    "    diag_name = 'diag_' + cid\n",
    "    #\n",
    "    temp_df['v1'] = np.where((temp_df[cid]==1) & (temp_df['mth_order']==1), 1, 0)\n",
    "    temp_df['ind_diag_mth'] = np.where((temp_df[cid]==1) & (temp_df[lag_name]!=1) & (temp_df['mth_order']>=2), 1, 0)\n",
    "    temp_df = temp_df.merge(temp_df.groupby(['member_internal_code'])['v1'].max().rename(entry_name), how = 'inner', left_on = 'member_internal_code', right_index = True)\n",
    "    temp_df = temp_df.merge(temp_df.groupby(['member_internal_code'])['ind_diag_mth'].max().rename(diag_name), how = 'inner', left_on = 'member_internal_code', right_index = True)\n",
    "    temp_df.drop(columns = ['v1',lag_name], inplace = True)\n",
    "\n",
    "    if temp_df[entry_name].mean()>0:\n",
    "        \n",
    "        #DF to estimate variables\n",
    "        #treat_group_mths = temp_df[temp_df[diag_name]==1]['ref_mth_entrance_group'].unique()\n",
    "        #control_group = temp_df[(temp_df['ref_mth_entrance_group'].isin(treat_group_mths)) & (temp_df[diag_name]==0) & (temp_df[diag_name]==0)]\n",
    "        #total_df = pd.concat([temp_df[temp_df[diag_name]==1], control_group], axis = 0)\n",
    "        #df = ml_df[[base_covariates_list + cid_list + y + ['mth_order', 'ref_mth_entrance_group']].merge(total_df[[diag_name] + ['diag_mth']], how = 'inner', left_index = True, right_index = True)\n",
    "\n",
    "        entry_list_cids.append(entry_name)\n",
    "\n",
    "    if temp_df[diag_name].mean()>0:\n",
    "        diagnosed_list.append(diag_name)\n",
    "\n",
    " \n",
    "    "
   ]
  },
  {
   "cell_type": "markdown",
   "metadata": {},
   "source": [
    "#### Test for  entry"
   ]
  },
  {
   "cell_type": "code",
   "execution_count": 19,
   "metadata": {},
   "outputs": [],
   "source": [
    "treat_group_mths = temp_df[temp_df[diag_name]==1]['ref_mth_entrance_group'].unique()\n",
    "control_group = temp_df[(temp_df['ref_mth_entrance_group'].isin(treat_group_mths)) & (temp_df[diag_name]==0) & (temp_df[diag_name]==0)]\n",
    "total_df = pd.concat([temp_df[temp_df[diag_name]==1], control_group], axis = 0)\n",
    "df = ml_df[base_covariates_list + cid_list + y + ['member_internal_code','mth_order', 'ref_mth_entrance_group']].merge(total_df[[diag_name] + ['ind_diag_mth']], how = 'inner', left_index = True, right_index = True)\n",
    "df = df.merge(df[df['ind_diag_mth']==1].groupby('member_internal_code')['mth_order'].max().rename('diag_mth_order'), how = 'left', left_on = 'member_internal_code', right_index = True)"
   ]
  },
  {
   "cell_type": "code",
   "execution_count": 20,
   "metadata": {},
   "outputs": [],
   "source": [
    "from sklearn.linear_model import LogisticRegression\n",
    "from imblearn.over_sampling import SMOTE\n",
    "from imblearn.under_sampling import RandomUnderSampler\n",
    "from imblearn.pipeline import Pipeline\n",
    "\n",
    "logit = LogisticRegression()\n",
    "\n",
    "# define pipeline\n",
    "over = SMOTE(sampling_strategy=0.1)\n",
    "under = RandomUnderSampler(sampling_strategy=0.5)\n",
    "steps = [('o', over), ('u', under)]\n",
    "pipeline = Pipeline(steps=steps)"
   ]
  },
  {
   "cell_type": "code",
   "execution_count": 21,
   "metadata": {},
   "outputs": [],
   "source": [
    "X = df[df['mth_order']==1][base_covariates_list + cid_list]\n",
    "y = df[df['mth_order']==1]['diag_cid_X06']\n",
    "\n",
    "# transform the dataset\n",
    "X, y = pipeline.fit_resample(X, y)\n",
    "\n",
    "clf = logit.fit(X,y)\n",
    "\n",
    "pre_treat = clf.predict(df[df['mth_order']==1][base_covariates_list + cid_list])\n",
    "df.loc[df['mth_order']==1, 'pre_treat'] = pre_treat"
   ]
  },
  {
   "cell_type": "code",
   "execution_count": 22,
   "metadata": {},
   "outputs": [],
   "source": [
    "df = df.merge(df.groupby(['member_internal_code'])['pre_treat'].max().rename('pre_treat_max'), how = 'inner', left_on = 'member_internal_code', right_index = True)"
   ]
  },
  {
   "cell_type": "code",
   "execution_count": 23,
   "metadata": {},
   "outputs": [],
   "source": [
    "df['treat'] = np.where(df['diag_cid_X06']==1, 1, 0)\n",
    "df.loc[(df['treat']==0) & (df['pre_treat_max']==0), 'treat'] = np.nan\n",
    "\n",
    "month_list = df[df['diag_cid_X06']==1]['ref_mth_entrance_group'].unique()\n",
    "ml_df = df[df['ref_mth_entrance_group'].isin(month_list) & (df['treat'].notna())][['member_internal_code','mth_order','ref_mth_entrance_group','ind_diag_mth','diag_mth_order','treat', 'total_care_cost'] + core_covariates]"
   ]
  },
  {
   "cell_type": "markdown",
   "metadata": {},
   "source": [
    "***"
   ]
  },
  {
   "cell_type": "code",
   "execution_count": 24,
   "metadata": {},
   "outputs": [
    {
     "data": {
      "text/html": [
       "<div>\n",
       "<style scoped>\n",
       "    .dataframe tbody tr th:only-of-type {\n",
       "        vertical-align: middle;\n",
       "    }\n",
       "\n",
       "    .dataframe tbody tr th {\n",
       "        vertical-align: top;\n",
       "    }\n",
       "\n",
       "    .dataframe thead th {\n",
       "        text-align: right;\n",
       "    }\n",
       "</style>\n",
       "<table border=\"1\" class=\"dataframe\">\n",
       "  <thead>\n",
       "    <tr style=\"text-align: right;\">\n",
       "      <th></th>\n",
       "      <th>member_internal_code</th>\n",
       "      <th>mth_order</th>\n",
       "      <th>ref_mth_entrance_group</th>\n",
       "      <th>ind_diag_mth</th>\n",
       "      <th>diag_mth_order</th>\n",
       "      <th>treat</th>\n",
       "      <th>total_care_cost</th>\n",
       "      <th>member_age</th>\n",
       "      <th>is_pitaya</th>\n",
       "      <th>is_male</th>\n",
       "    </tr>\n",
       "  </thead>\n",
       "  <tbody>\n",
       "    <tr>\n",
       "      <th>98</th>\n",
       "      <td>NC1015C</td>\n",
       "      <td>1</td>\n",
       "      <td>615</td>\n",
       "      <td>0</td>\n",
       "      <td>NaN</td>\n",
       "      <td>0.0</td>\n",
       "      <td>0.000000</td>\n",
       "      <td>31.0</td>\n",
       "      <td>0</td>\n",
       "      <td>0</td>\n",
       "    </tr>\n",
       "    <tr>\n",
       "      <th>99</th>\n",
       "      <td>NC1015C</td>\n",
       "      <td>2</td>\n",
       "      <td>615</td>\n",
       "      <td>0</td>\n",
       "      <td>NaN</td>\n",
       "      <td>0.0</td>\n",
       "      <td>755.871193</td>\n",
       "      <td>31.0</td>\n",
       "      <td>0</td>\n",
       "      <td>0</td>\n",
       "    </tr>\n",
       "    <tr>\n",
       "      <th>100</th>\n",
       "      <td>NC1015C</td>\n",
       "      <td>3</td>\n",
       "      <td>615</td>\n",
       "      <td>0</td>\n",
       "      <td>NaN</td>\n",
       "      <td>0.0</td>\n",
       "      <td>1208.838007</td>\n",
       "      <td>31.0</td>\n",
       "      <td>0</td>\n",
       "      <td>0</td>\n",
       "    </tr>\n",
       "    <tr>\n",
       "      <th>101</th>\n",
       "      <td>NC1015C</td>\n",
       "      <td>4</td>\n",
       "      <td>615</td>\n",
       "      <td>0</td>\n",
       "      <td>NaN</td>\n",
       "      <td>0.0</td>\n",
       "      <td>701.092030</td>\n",
       "      <td>31.0</td>\n",
       "      <td>0</td>\n",
       "      <td>0</td>\n",
       "    </tr>\n",
       "    <tr>\n",
       "      <th>102</th>\n",
       "      <td>NC1015C</td>\n",
       "      <td>5</td>\n",
       "      <td>615</td>\n",
       "      <td>0</td>\n",
       "      <td>NaN</td>\n",
       "      <td>0.0</td>\n",
       "      <td>20708.225841</td>\n",
       "      <td>31.0</td>\n",
       "      <td>0</td>\n",
       "      <td>0</td>\n",
       "    </tr>\n",
       "    <tr>\n",
       "      <th>...</th>\n",
       "      <td>...</td>\n",
       "      <td>...</td>\n",
       "      <td>...</td>\n",
       "      <td>...</td>\n",
       "      <td>...</td>\n",
       "      <td>...</td>\n",
       "      <td>...</td>\n",
       "      <td>...</td>\n",
       "      <td>...</td>\n",
       "      <td>...</td>\n",
       "    </tr>\n",
       "    <tr>\n",
       "      <th>114310</th>\n",
       "      <td>NC1ZYWB</td>\n",
       "      <td>6</td>\n",
       "      <td>624</td>\n",
       "      <td>0</td>\n",
       "      <td>NaN</td>\n",
       "      <td>0.0</td>\n",
       "      <td>1954.909917</td>\n",
       "      <td>37.0</td>\n",
       "      <td>0</td>\n",
       "      <td>0</td>\n",
       "    </tr>\n",
       "    <tr>\n",
       "      <th>114311</th>\n",
       "      <td>NC1ZYWB</td>\n",
       "      <td>7</td>\n",
       "      <td>624</td>\n",
       "      <td>0</td>\n",
       "      <td>NaN</td>\n",
       "      <td>0.0</td>\n",
       "      <td>1635.984687</td>\n",
       "      <td>37.0</td>\n",
       "      <td>0</td>\n",
       "      <td>0</td>\n",
       "    </tr>\n",
       "    <tr>\n",
       "      <th>114312</th>\n",
       "      <td>NC1ZYWB</td>\n",
       "      <td>8</td>\n",
       "      <td>624</td>\n",
       "      <td>0</td>\n",
       "      <td>NaN</td>\n",
       "      <td>0.0</td>\n",
       "      <td>1021.145917</td>\n",
       "      <td>37.0</td>\n",
       "      <td>0</td>\n",
       "      <td>0</td>\n",
       "    </tr>\n",
       "    <tr>\n",
       "      <th>114313</th>\n",
       "      <td>NC1ZYY3</td>\n",
       "      <td>1</td>\n",
       "      <td>626</td>\n",
       "      <td>0</td>\n",
       "      <td>NaN</td>\n",
       "      <td>0.0</td>\n",
       "      <td>982.902339</td>\n",
       "      <td>25.0</td>\n",
       "      <td>0</td>\n",
       "      <td>0</td>\n",
       "    </tr>\n",
       "    <tr>\n",
       "      <th>114314</th>\n",
       "      <td>NC1ZYY3</td>\n",
       "      <td>2</td>\n",
       "      <td>626</td>\n",
       "      <td>0</td>\n",
       "      <td>NaN</td>\n",
       "      <td>0.0</td>\n",
       "      <td>607.530742</td>\n",
       "      <td>25.0</td>\n",
       "      <td>0</td>\n",
       "      <td>0</td>\n",
       "    </tr>\n",
       "  </tbody>\n",
       "</table>\n",
       "<p>17382 rows × 10 columns</p>\n",
       "</div>"
      ],
      "text/plain": [
       "       member_internal_code  mth_order  ref_mth_entrance_group  ind_diag_mth  \\\n",
       "98                  NC1015C          1                     615             0   \n",
       "99                  NC1015C          2                     615             0   \n",
       "100                 NC1015C          3                     615             0   \n",
       "101                 NC1015C          4                     615             0   \n",
       "102                 NC1015C          5                     615             0   \n",
       "...                     ...        ...                     ...           ...   \n",
       "114310              NC1ZYWB          6                     624             0   \n",
       "114311              NC1ZYWB          7                     624             0   \n",
       "114312              NC1ZYWB          8                     624             0   \n",
       "114313              NC1ZYY3          1                     626             0   \n",
       "114314              NC1ZYY3          2                     626             0   \n",
       "\n",
       "        diag_mth_order  treat  total_care_cost  member_age  is_pitaya  is_male  \n",
       "98                 NaN    0.0         0.000000        31.0          0        0  \n",
       "99                 NaN    0.0       755.871193        31.0          0        0  \n",
       "100                NaN    0.0      1208.838007        31.0          0        0  \n",
       "101                NaN    0.0       701.092030        31.0          0        0  \n",
       "102                NaN    0.0     20708.225841        31.0          0        0  \n",
       "...                ...    ...              ...         ...        ...      ...  \n",
       "114310             NaN    0.0      1954.909917        37.0          0        0  \n",
       "114311             NaN    0.0      1635.984687        37.0          0        0  \n",
       "114312             NaN    0.0      1021.145917        37.0          0        0  \n",
       "114313             NaN    0.0       982.902339        25.0          0        0  \n",
       "114314             NaN    0.0       607.530742        25.0          0        0  \n",
       "\n",
       "[17382 rows x 10 columns]"
      ]
     },
     "execution_count": 24,
     "metadata": {},
     "output_type": "execute_result"
    }
   ],
   "source": [
    "ml_df"
   ]
  },
  {
   "cell_type": "code",
   "execution_count": 25,
   "metadata": {},
   "outputs": [
    {
     "name": "stdout",
     "output_type": "stream",
     "text": [
      "615 [13.]\n",
      "617 [10.  4.]\n",
      "626 [3.]\n",
      "624 [5.]\n",
      "620 [ 3. 10.]\n",
      "622 [2.]\n",
      "628 [4. 2. 3.]\n",
      "625 [4.]\n",
      "621 [2.]\n",
      "627 [4.]\n",
      "623 [5. 6.]\n"
     ]
    }
   ],
   "source": [
    "df = pd.DataFrame()\n",
    "for pr_mth in ml_df['ref_mth_entrance_group'].unique():\n",
    "    diag_months = ml_df[(ml_df['ind_diag_mth']==1) & (ml_df['ref_mth_entrance_group']==pr_mth)]['diag_mth_order'].unique()\n",
    "    print(pr_mth, diag_months)\n",
    "    for mth in diag_months:\n",
    "        treat_df = ml_df[(ml_df['ref_mth_entrance_group']==pr_mth) & (ml_df['treat']==1) & (ml_df['diag_mth_order']==mth)]\n",
    "        treat_df['ev_an_mth'] = treat_df['mth_order'] - mth\n",
    "        control_df = ml_df[(ml_df['ref_mth_entrance_group']==pr_mth) & (ml_df['treat']==0)]\n",
    "        control_df['ev_an_mth'] = control_df['mth_order'] - mth\n",
    "\n",
    "        df = pd.concat([df,treat_df, control_df], axis = 0)\n"
   ]
  },
  {
   "cell_type": "code",
   "execution_count": 26,
   "metadata": {},
   "outputs": [],
   "source": [
    "final_ml_df = df.sort_values(['member_internal_code','ev_an_mth'])\n",
    "final_ml_df.drop(columns = ['mth_order', 'diag_mth_order', 'ind_diag_mth'], inplace = True)"
   ]
  },
  {
   "cell_type": "code",
   "execution_count": 27,
   "metadata": {},
   "outputs": [
    {
     "data": {
      "text/plain": [
       "treat  ev_an_mth\n",
       "0.0    -12.0         293.838886\n",
       "       -11.0         854.511592\n",
       "       -10.0         806.327718\n",
       "       -9.0          549.331923\n",
       "       -8.0         1152.482129\n",
       "       -7.0         1025.497922\n",
       "       -6.0         1097.968562\n",
       "       -5.0          728.235091\n",
       "       -4.0          661.307316\n",
       "       -3.0          656.513795\n",
       "       -2.0          757.525778\n",
       "       -1.0          858.149970\n",
       "        0.0          887.517453\n",
       "        1.0          889.319819\n",
       "        2.0          857.456351\n",
       "        3.0          891.810462\n",
       "        4.0          986.719749\n",
       "        5.0          976.078197\n",
       "        6.0         1202.362195\n",
       "        7.0          928.995572\n",
       "        8.0          931.675598\n",
       "        9.0          891.615147\n",
       "        10.0        1249.719932\n",
       "        11.0        1297.973187\n",
       "1.0    -12.0         420.417922\n",
       "       -11.0         688.006881\n",
       "       -10.0        1525.963141\n",
       "       -9.0          350.125671\n",
       "       -8.0         1766.932417\n",
       "       -7.0         1178.170393\n",
       "       -6.0         1124.309995\n",
       "       -5.0          881.358624\n",
       "       -4.0         1246.184895\n",
       "       -3.0         1235.340592\n",
       "       -2.0         8665.178777\n",
       "       -1.0         5307.360046\n",
       "        0.0         1980.907713\n",
       "        1.0         1012.650155\n",
       "        2.0          882.888916\n",
       "        3.0         1574.315998\n",
       "        4.0         1148.668420\n",
       "        5.0         1015.127092\n",
       "        6.0          645.985214\n",
       "        7.0          161.807755\n",
       "        8.0          224.554999\n",
       "        9.0          756.719613\n",
       "        10.0           0.000000\n",
       "        11.0           0.000000\n",
       "Name: total_care_cost, dtype: float64"
      ]
     },
     "execution_count": 27,
     "metadata": {},
     "output_type": "execute_result"
    }
   ],
   "source": [
    "final_ml_df.groupby(['treat', 'ev_an_mth'])['total_care_cost'].mean()"
   ]
  },
  {
   "cell_type": "markdown",
   "metadata": {},
   "source": [
    "***"
   ]
  },
  {
   "cell_type": "code",
   "execution_count": 29,
   "metadata": {},
   "outputs": [],
   "source": [
    "dd = StaggDiD"
   ]
  },
  {
   "cell_type": "code",
   "execution_count": 32,
   "metadata": {},
   "outputs": [
    {
     "data": {
      "text/html": [
       "<div>\n",
       "<style scoped>\n",
       "    .dataframe tbody tr th:only-of-type {\n",
       "        vertical-align: middle;\n",
       "    }\n",
       "\n",
       "    .dataframe tbody tr th {\n",
       "        vertical-align: top;\n",
       "    }\n",
       "\n",
       "    .dataframe thead th {\n",
       "        text-align: right;\n",
       "    }\n",
       "</style>\n",
       "<table border=\"1\" class=\"dataframe\">\n",
       "  <thead>\n",
       "    <tr style=\"text-align: right;\">\n",
       "      <th></th>\n",
       "      <th>time</th>\n",
       "      <th>lower_bound</th>\n",
       "      <th>mean</th>\n",
       "      <th>upper_bound</th>\n",
       "    </tr>\n",
       "  </thead>\n",
       "  <tbody>\n",
       "    <tr>\n",
       "      <th>0</th>\n",
       "      <td>-3</td>\n",
       "      <td>NaN</td>\n",
       "      <td>NaN</td>\n",
       "      <td>NaN</td>\n",
       "    </tr>\n",
       "    <tr>\n",
       "      <th>1</th>\n",
       "      <td>-2</td>\n",
       "      <td>NaN</td>\n",
       "      <td>NaN</td>\n",
       "      <td>NaN</td>\n",
       "    </tr>\n",
       "    <tr>\n",
       "      <th>2</th>\n",
       "      <td>-1</td>\n",
       "      <td>0.0</td>\n",
       "      <td>0.0</td>\n",
       "      <td>0.0</td>\n",
       "    </tr>\n",
       "    <tr>\n",
       "      <th>3</th>\n",
       "      <td>0</td>\n",
       "      <td>NaN</td>\n",
       "      <td>NaN</td>\n",
       "      <td>NaN</td>\n",
       "    </tr>\n",
       "    <tr>\n",
       "      <th>4</th>\n",
       "      <td>1</td>\n",
       "      <td>NaN</td>\n",
       "      <td>NaN</td>\n",
       "      <td>NaN</td>\n",
       "    </tr>\n",
       "    <tr>\n",
       "      <th>5</th>\n",
       "      <td>2</td>\n",
       "      <td>NaN</td>\n",
       "      <td>NaN</td>\n",
       "      <td>NaN</td>\n",
       "    </tr>\n",
       "    <tr>\n",
       "      <th>6</th>\n",
       "      <td>3</td>\n",
       "      <td>NaN</td>\n",
       "      <td>NaN</td>\n",
       "      <td>NaN</td>\n",
       "    </tr>\n",
       "    <tr>\n",
       "      <th>7</th>\n",
       "      <td>4</td>\n",
       "      <td>NaN</td>\n",
       "      <td>NaN</td>\n",
       "      <td>NaN</td>\n",
       "    </tr>\n",
       "    <tr>\n",
       "      <th>8</th>\n",
       "      <td>5</td>\n",
       "      <td>NaN</td>\n",
       "      <td>NaN</td>\n",
       "      <td>NaN</td>\n",
       "    </tr>\n",
       "  </tbody>\n",
       "</table>\n",
       "</div>"
      ],
      "text/plain": [
       "   time  lower_bound  mean  upper_bound\n",
       "0    -3          NaN   NaN          NaN\n",
       "1    -2          NaN   NaN          NaN\n",
       "2    -1          0.0   0.0          0.0\n",
       "3     0          NaN   NaN          NaN\n",
       "4     1          NaN   NaN          NaN\n",
       "5     2          NaN   NaN          NaN\n",
       "6     3          NaN   NaN          NaN\n",
       "7     4          NaN   NaN          NaN\n",
       "8     5          NaN   NaN          NaN"
      ]
     },
     "execution_count": 32,
     "metadata": {},
     "output_type": "execute_result"
    }
   ],
   "source": [
    "\n",
    "dd.att(final_ml_df, 'treat', 'total_care_cost', 'ev_an_mth', -3, 6)"
   ]
  },
  {
   "cell_type": "code",
   "execution_count": 39,
   "metadata": {},
   "outputs": [
    {
     "data": {
      "text/html": [
       "<div>\n",
       "<style scoped>\n",
       "    .dataframe tbody tr th:only-of-type {\n",
       "        vertical-align: middle;\n",
       "    }\n",
       "\n",
       "    .dataframe tbody tr th {\n",
       "        vertical-align: top;\n",
       "    }\n",
       "\n",
       "    .dataframe thead th {\n",
       "        text-align: right;\n",
       "    }\n",
       "</style>\n",
       "<table border=\"1\" class=\"dataframe\">\n",
       "  <thead>\n",
       "    <tr style=\"text-align: right;\">\n",
       "      <th></th>\n",
       "      <th>member_internal_code</th>\n",
       "      <th>total_care_cost</th>\n",
       "    </tr>\n",
       "  </thead>\n",
       "  <tbody>\n",
       "    <tr>\n",
       "      <th>7902</th>\n",
       "      <td>NC12HN0</td>\n",
       "      <td>1633.923660</td>\n",
       "    </tr>\n",
       "    <tr>\n",
       "      <th>27789</th>\n",
       "      <td>NC18S56</td>\n",
       "      <td>4.500000</td>\n",
       "    </tr>\n",
       "    <tr>\n",
       "      <th>41735</th>\n",
       "      <td>NC1D44R</td>\n",
       "      <td>0.000000</td>\n",
       "    </tr>\n",
       "    <tr>\n",
       "      <th>64021</th>\n",
       "      <td>NC1K6ZY</td>\n",
       "      <td>920.527713</td>\n",
       "    </tr>\n",
       "    <tr>\n",
       "      <th>65431</th>\n",
       "      <td>NC1KMNQ</td>\n",
       "      <td>50.449324</td>\n",
       "    </tr>\n",
       "    <tr>\n",
       "      <th>70842</th>\n",
       "      <td>NC1M7ON</td>\n",
       "      <td>1000.020072</td>\n",
       "    </tr>\n",
       "    <tr>\n",
       "      <th>71274</th>\n",
       "      <td>NC1MBXV</td>\n",
       "      <td>349.000000</td>\n",
       "    </tr>\n",
       "    <tr>\n",
       "      <th>89557</th>\n",
       "      <td>NC1S67S</td>\n",
       "      <td>2443.989252</td>\n",
       "    </tr>\n",
       "    <tr>\n",
       "      <th>91303</th>\n",
       "      <td>NC1SP6D</td>\n",
       "      <td>959.661502</td>\n",
       "    </tr>\n",
       "    <tr>\n",
       "      <th>92187</th>\n",
       "      <td>NC1SZB0</td>\n",
       "      <td>1471.867987</td>\n",
       "    </tr>\n",
       "    <tr>\n",
       "      <th>92566</th>\n",
       "      <td>NC1T49K</td>\n",
       "      <td>1970.496395</td>\n",
       "    </tr>\n",
       "    <tr>\n",
       "      <th>98660</th>\n",
       "      <td>NC1V1ND</td>\n",
       "      <td>1425.103771</td>\n",
       "    </tr>\n",
       "    <tr>\n",
       "      <th>101907</th>\n",
       "      <td>NC1W5TW</td>\n",
       "      <td>1465.547584</td>\n",
       "    </tr>\n",
       "    <tr>\n",
       "      <th>103011</th>\n",
       "      <td>NC1WJII</td>\n",
       "      <td>3599.681025</td>\n",
       "    </tr>\n",
       "  </tbody>\n",
       "</table>\n",
       "</div>"
      ],
      "text/plain": [
       "       member_internal_code  total_care_cost\n",
       "7902                NC12HN0      1633.923660\n",
       "27789               NC18S56         4.500000\n",
       "41735               NC1D44R         0.000000\n",
       "64021               NC1K6ZY       920.527713\n",
       "65431               NC1KMNQ        50.449324\n",
       "70842               NC1M7ON      1000.020072\n",
       "71274               NC1MBXV       349.000000\n",
       "89557               NC1S67S      2443.989252\n",
       "91303               NC1SP6D       959.661502\n",
       "92187               NC1SZB0      1471.867987\n",
       "92566               NC1T49K      1970.496395\n",
       "98660               NC1V1ND      1425.103771\n",
       "101907              NC1W5TW      1465.547584\n",
       "103011              NC1WJII      3599.681025"
      ]
     },
     "execution_count": 39,
     "metadata": {},
     "output_type": "execute_result"
    }
   ],
   "source": [
    "final_ml_df[(final_ml_df['ev_an_mth'] == -3) & (final_ml_df['treat'] == 1)][['member_internal_code','total_care_cost']].merge(final_ml_df[(final_ml_df['ev_an_mth'] == -3) & (final_ml_df['treat'] == 0)][['member_internal_code','total_care_cost']], how = 'inner', on = 'member_internal_code')"
   ]
  },
  {
   "cell_type": "code",
   "execution_count": 36,
   "metadata": {},
   "outputs": [
    {
     "data": {
      "text/plain": [
       "2122        306.669977\n",
       "7904        364.041400\n",
       "20134       837.458153\n",
       "27791       615.420390\n",
       "36143       133.642065\n",
       "41737       243.318064\n",
       "64023        26.180000\n",
       "65433      1683.925345\n",
       "70558         0.000000\n",
       "70844        18.443681\n",
       "71276       270.436721\n",
       "71775       119.610244\n",
       "89559      1085.796427\n",
       "91305      1226.726858\n",
       "92189       900.523210\n",
       "92568       908.382267\n",
       "94230        82.853015\n",
       "98662       154.986667\n",
       "101909     8215.388300\n",
       "103013    93272.341003\n",
       "107944      988.417183\n",
       "Name: total_care_cost, dtype: float64"
      ]
     },
     "execution_count": 36,
     "metadata": {},
     "output_type": "execute_result"
    }
   ],
   "source": [
    "final_ml_df[(final_ml_df['ev_an_mth'] == -1) & (final_ml_df['treat'] == 1)]['total_care_cost']"
   ]
  },
  {
   "cell_type": "code",
   "execution_count": 35,
   "metadata": {},
   "outputs": [
    {
     "data": {
      "text/plain": [
       "2122     NaN\n",
       "7902     NaN\n",
       "7904     NaN\n",
       "20134    NaN\n",
       "27789    NaN\n",
       "27791    NaN\n",
       "36143    NaN\n",
       "41735    NaN\n",
       "41737    NaN\n",
       "64021    NaN\n",
       "64023    NaN\n",
       "65431    NaN\n",
       "65433    NaN\n",
       "70558    NaN\n",
       "70842    NaN\n",
       "70844    NaN\n",
       "71274    NaN\n",
       "71276    NaN\n",
       "71775    NaN\n",
       "89557    NaN\n",
       "89559    NaN\n",
       "91303    NaN\n",
       "91305    NaN\n",
       "92187    NaN\n",
       "92189    NaN\n",
       "92566    NaN\n",
       "92568    NaN\n",
       "94230    NaN\n",
       "98660    NaN\n",
       "98662    NaN\n",
       "101907   NaN\n",
       "101909   NaN\n",
       "103011   NaN\n",
       "103013   NaN\n",
       "107944   NaN\n",
       "Name: total_care_cost, dtype: float64"
      ]
     },
     "execution_count": 35,
     "metadata": {},
     "output_type": "execute_result"
    }
   ],
   "source": [
    "final_ml_df[(final_ml_df['ev_an_mth'] == -3) & (final_ml_df['treat'] == 1)]['total_care_cost'] - final_ml_df[(final_ml_df['ev_an_mth'] == -1) & (final_ml_df['treat'] == 1)]['total_care_cost']"
   ]
  },
  {
   "cell_type": "code",
   "execution_count": null,
   "metadata": {},
   "outputs": [],
   "source": [
    "temp_mean_treat = np.mean(final_ml_df[(final_ml_df[time] == -3) & (final_ml_df['treat'] == 1)]['total_care_cost'] - final_ml_df[(df[time] == -1) & (df[treatment] == 1)][outcome]);\n",
    "len_treat = len(df[(df[time] == t) & (df[treatment] == 1)][outcome] - df[(df[time] == -1) & (df[treatment] == 1)][outcome]);\n",
    "            temp_var_treat = np.var(df[(df[time] == t) & (df[treatment] == 1)][outcome] - df[(df[time] == -1) & (df[treatment] == 1)][outcome]);\n",
    "            temp_mean_control = np.mean(df[(df[time] == t) & (df[treatment] == 0)][outcome] - df[(df[time] == -1) & (df[treatment] == 0)][outcome]);\n",
    "            len_control = len(df[(df[time] == t) & (df[treatment] == 1)][outcome] - df[(df[time] == -1) & (df[treatment] == 1)][outcome]);\n",
    "            temp_var_control = np.var(df[(df[time] == t) & (df[treatment] == 0)][outcome] - df[(df[time] == -1) & (df[treatment] == 0)][outcome]);   \n",
    "            \n",
    "            temp_att_dist = [(temp_var_treat - temp_mean_control), (temp_var_treat/len_treat + temp_var_control/len_control)];"
   ]
  },
  {
   "cell_type": "code",
   "execution_count": null,
   "metadata": {},
   "outputs": [],
   "source": []
  },
  {
   "cell_type": "code",
   "execution_count": null,
   "metadata": {},
   "outputs": [],
   "source": []
  },
  {
   "cell_type": "code",
   "execution_count": null,
   "metadata": {},
   "outputs": [],
   "source": [
    "ml_df.to_csv('src/data/panel_cc_cids_did_df.csv', index = False)"
   ]
  }
 ],
 "metadata": {
  "instance_type": "ml.t3.medium",
  "kernelspec": {
   "display_name": "Python 3.9.2 64-bit",
   "language": "python",
   "name": "python3"
  },
  "language_info": {
   "codemirror_mode": {
    "name": "ipython",
    "version": 3
   },
   "file_extension": ".py",
   "mimetype": "text/x-python",
   "name": "python",
   "nbconvert_exporter": "python",
   "pygments_lexer": "ipython3",
   "version": "3.9.2"
  },
  "vscode": {
   "interpreter": {
    "hash": "aee8b7b246df8f9039afb4144a1f6fd8d2ca17a180786b69acc140d282b71a49"
   }
  }
 },
 "nbformat": 4,
 "nbformat_minor": 4
}
