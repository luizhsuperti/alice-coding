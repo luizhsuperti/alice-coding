{
 "cells": [
  {
   "cell_type": "markdown",
   "metadata": {},
   "source": [
    "## 0. Setup"
   ]
  },
  {
   "cell_type": "code",
   "execution_count": 1,
   "metadata": {},
   "outputs": [],
   "source": [
    "#standard packages\n",
    "import pandas as pd\n",
    "import numpy as np\n",
    "#import warnings\n",
    "import warnings\n",
    "warnings.filterwarnings('ignore')\n",
    "import os\n",
    "import collections\n",
    "\n",
    "#time packages\n",
    "import datetime as dt\n"
   ]
  },
  {
   "cell_type": "code",
   "execution_count": 2,
   "metadata": {},
   "outputs": [
    {
     "name": "stdout",
     "output_type": "stream",
     "text": [
      "/Users/luiz.superti/Documents/GitHub/alice-coding/CausalInference-Analysis/cc_cid_calculator\n"
     ]
    }
   ],
   "source": [
    "#from setup import main as setup\n",
    "#setup(env='sagemaker', project='cc_cid_calculator')\n",
    "os.chdir('/Users/luiz.superti/Documents/GitHub/alice-coding/CausalInference-Analysis/cc_cid_calculator/')\n",
    "print(os.getcwd())  # Prints the current working directory"
   ]
  },
  {
   "cell_type": "markdown",
   "metadata": {},
   "source": [
    "***"
   ]
  },
  {
   "cell_type": "markdown",
   "metadata": {},
   "source": [
    "## 1. extract"
   ]
  },
  {
   "cell_type": "code",
   "execution_count": 3,
   "metadata": {},
   "outputs": [
    {
     "data": {
      "text/plain": [
       "Index(['member_internal_code', 'calendar_date', 'mth_order', 'total_n_mth',\n",
       "       'current_sex', 'current_gender', 'member_age', 'current_city',\n",
       "       'current_state', 'is_b2b', 'is_pitaya', 'diseases_sev', 'tds_cost',\n",
       "       'internacao_proced_cost', 'exam_cost', 'consulta_cost', 'er_cost',\n",
       "       'alice_therapy_cost', 'other_costs', 'total_care_cost'],\n",
       "      dtype='object')"
      ]
     },
     "execution_count": 3,
     "metadata": {},
     "output_type": "execute_result"
    }
   ],
   "source": [
    "df = pd.read_csv('src/data/cid_care_cost_did_calc_df.csv')\n",
    "df.columns"
   ]
  },
  {
   "cell_type": "code",
   "execution_count": 4,
   "metadata": {},
   "outputs": [],
   "source": [
    "df['diseases_'] = df['diseases_sev'].str.split(';')\n",
    "df2 = df.explode('diseases_')\n",
    "df2['cid_'] = df2['diseases_'].apply(lambda x: str(x).strip()[0:3])\n",
    "df3 = df2[['member_internal_code','calendar_date', 'cid_']].drop_duplicates()"
   ]
  },
  {
   "cell_type": "code",
   "execution_count": 5,
   "metadata": {},
   "outputs": [
    {
     "data": {
      "text/html": [
       "<div>\n",
       "<style scoped>\n",
       "    .dataframe tbody tr th:only-of-type {\n",
       "        vertical-align: middle;\n",
       "    }\n",
       "\n",
       "    .dataframe tbody tr th {\n",
       "        vertical-align: top;\n",
       "    }\n",
       "\n",
       "    .dataframe thead th {\n",
       "        text-align: right;\n",
       "    }\n",
       "</style>\n",
       "<table border=\"1\" class=\"dataframe\">\n",
       "  <thead>\n",
       "    <tr style=\"text-align: right;\">\n",
       "      <th></th>\n",
       "      <th>member_internal_code</th>\n",
       "      <th>calendar_date</th>\n",
       "      <th>cid_</th>\n",
       "    </tr>\n",
       "  </thead>\n",
       "  <tbody>\n",
       "    <tr>\n",
       "      <th>0</th>\n",
       "      <td>NC1000Z</td>\n",
       "      <td>2022-05-31</td>\n",
       "      <td>nan</td>\n",
       "    </tr>\n",
       "    <tr>\n",
       "      <th>1</th>\n",
       "      <td>NC1000Z</td>\n",
       "      <td>2022-06-30</td>\n",
       "      <td>nan</td>\n",
       "    </tr>\n",
       "    <tr>\n",
       "      <th>2</th>\n",
       "      <td>NC1000Z</td>\n",
       "      <td>2022-07-31</td>\n",
       "      <td>nan</td>\n",
       "    </tr>\n",
       "    <tr>\n",
       "      <th>3</th>\n",
       "      <td>NC1002P</td>\n",
       "      <td>2021-12-31</td>\n",
       "      <td>nan</td>\n",
       "    </tr>\n",
       "    <tr>\n",
       "      <th>4</th>\n",
       "      <td>NC1002P</td>\n",
       "      <td>2022-01-31</td>\n",
       "      <td>nan</td>\n",
       "    </tr>\n",
       "    <tr>\n",
       "      <th>...</th>\n",
       "      <td>...</td>\n",
       "      <td>...</td>\n",
       "      <td>...</td>\n",
       "    </tr>\n",
       "    <tr>\n",
       "      <th>114409</th>\n",
       "      <td>NC1ZZWN</td>\n",
       "      <td>2022-05-31</td>\n",
       "      <td>R74</td>\n",
       "    </tr>\n",
       "    <tr>\n",
       "      <th>114410</th>\n",
       "      <td>NC1ZZWN</td>\n",
       "      <td>2022-06-30</td>\n",
       "      <td>R74</td>\n",
       "    </tr>\n",
       "    <tr>\n",
       "      <th>114411</th>\n",
       "      <td>NC1ZZWN</td>\n",
       "      <td>2022-07-31</td>\n",
       "      <td>R74</td>\n",
       "    </tr>\n",
       "    <tr>\n",
       "      <th>114412</th>\n",
       "      <td>NC1ZZWN</td>\n",
       "      <td>2022-08-31</td>\n",
       "      <td>N17</td>\n",
       "    </tr>\n",
       "    <tr>\n",
       "      <th>114412</th>\n",
       "      <td>NC1ZZWN</td>\n",
       "      <td>2022-08-31</td>\n",
       "      <td>R74</td>\n",
       "    </tr>\n",
       "  </tbody>\n",
       "</table>\n",
       "<p>294508 rows × 3 columns</p>\n",
       "</div>"
      ],
      "text/plain": [
       "       member_internal_code calendar_date cid_\n",
       "0                   NC1000Z    2022-05-31  nan\n",
       "1                   NC1000Z    2022-06-30  nan\n",
       "2                   NC1000Z    2022-07-31  nan\n",
       "3                   NC1002P    2021-12-31  nan\n",
       "4                   NC1002P    2022-01-31  nan\n",
       "...                     ...           ...  ...\n",
       "114409              NC1ZZWN    2022-05-31  R74\n",
       "114410              NC1ZZWN    2022-06-30  R74\n",
       "114411              NC1ZZWN    2022-07-31  R74\n",
       "114412              NC1ZZWN    2022-08-31  N17\n",
       "114412              NC1ZZWN    2022-08-31  R74\n",
       "\n",
       "[294508 rows x 3 columns]"
      ]
     },
     "execution_count": 5,
     "metadata": {},
     "output_type": "execute_result"
    }
   ],
   "source": [
    "df3"
   ]
  },
  {
   "cell_type": "code",
   "execution_count": 6,
   "metadata": {},
   "outputs": [],
   "source": [
    "df_row = pd.get_dummies(df3['cid_'], prefix = 'cid')\n",
    "df_row_2 = df3[['member_internal_code', 'calendar_date']].merge(df_row, how = 'inner', left_index=True, right_index=True)\n",
    "df_row_3 = df_row_2.groupby(['member_internal_code', 'calendar_date']).max().reset_index()\n",
    "df_row_3.sort_values(by=['member_internal_code', 'calendar_date'], inplace=True)\n",
    "#create a cid filter\n",
    "df_row_3.drop(columns = 'cid_nan', inplace = True)\n",
    "cids_cols = [col for col in df_row_3 if col.startswith('cid_')]\n",
    "df_row_3[cids_cols] = df_row_3[cids_cols].apply(pd.to_numeric).fillna(0)"
   ]
  },
  {
   "cell_type": "markdown",
   "metadata": {},
   "source": [
    "***"
   ]
  },
  {
   "cell_type": "code",
   "execution_count": 7,
   "metadata": {},
   "outputs": [],
   "source": [
    "df_filled = df.merge(\n",
    "                    pd.get_dummies(df.current_state, prefix = 'uf'),how = 'inner', left_index=True, right_index=True).merge(\n",
    "                        pd.get_dummies(df.current_city, prefix = 'city'),how = 'inner', left_index=True, right_index=True).drop(columns=['current_state', 'current_city'])\n",
    "df_filled['is_male'] = np.where(df_filled['current_sex']=='MALE',1,0)\n",
    "df_filled['is_trans'] = np.where(df_filled['current_sex']!=df_filled['current_gender'],1,0)\n",
    "#create the base-dummies\n",
    "df_filled.drop(columns=['current_gender','current_sex','city_São Paulo', 'uf_SP',\n",
    "                        'diseases_sev','tds_cost', 'exam_cost', 'consulta_cost',\n",
    "                        'internacao_proced_cost', 'er_cost',\n",
    "                        'alice_therapy_cost', 'other_costs'], inplace=True)\n",
    "df_filled.drop(columns=['diseases_'], inplace=True)\n",
    "\n",
    "base_covariates_list = df_filled.drop(columns = ['member_internal_code', 'calendar_date', 'mth_order','total_n_mth', 'total_care_cost']).columns.to_list()\n",
    "y = ['total_care_cost']"
   ]
  },
  {
   "cell_type": "markdown",
   "metadata": {},
   "source": [
    "### Merge bases"
   ]
  },
  {
   "cell_type": "code",
   "execution_count": 8,
   "metadata": {},
   "outputs": [],
   "source": [
    "ml_df = df_filled.merge(df_row_3, how = 'inner', left_on=['member_internal_code', 'calendar_date'], right_on = ['member_internal_code', 'calendar_date'])\n",
    "\n",
    "#adjust variables\n",
    "ml_df['n_total_cids'] = ml_df[cids_cols].sum(axis=1)\n",
    "ml_df['ref_mth'] = (pd.to_datetime(ml_df['calendar_date']).dt.to_period('M') -   pd.to_datetime(['1970-01-31']).to_period('M')).apply(lambda x: x.n)\n",
    "\n",
    "#entry-calendar date\n",
    "ml_df['v1'] = np.where(ml_df['mth_order']==1, ml_df['ref_mth'], np.nan)\n",
    "ml_df = ml_df.merge(ml_df.groupby(['member_internal_code'])['v1'].min().rename('ref_mth_entrance_group'), how = 'inner', left_on = 'member_internal_code', right_index = True)\n",
    "ml_df['ref_mth_entrance_group'] = ml_df['ref_mth_entrance_group'].astype('Int64')\n",
    "ml_df.drop(columns = ['v1'], inplace = True)\n"
   ]
  },
  {
   "cell_type": "code",
   "execution_count": 9,
   "metadata": {},
   "outputs": [],
   "source": [
    "ml_df_calendar_base = ml_df[['member_internal_code','calendar_date','mth_order','ref_mth', 'ref_mth_entrance_group']]\n",
    "ml_df_calendar_base = ml_df_calendar_base"
   ]
  },
  {
   "cell_type": "markdown",
   "metadata": {},
   "source": [
    "***"
   ]
  },
  {
   "cell_type": "code",
   "execution_count": 10,
   "metadata": {},
   "outputs": [],
   "source": [
    "accountable_cids = ml_df.groupby('member_internal_code')[cids_cols].min().drop_duplicates().sum(axis=0).sort_values(ascending=False)\n",
    "accountable_cids = accountable_cids[accountable_cids>=10].index.to_list()"
   ]
  },
  {
   "cell_type": "code",
   "execution_count": null,
   "metadata": {},
   "outputs": [],
   "source": []
  },
  {
   "cell_type": "code",
   "execution_count": 11,
   "metadata": {},
   "outputs": [
    {
     "name": "stdout",
     "output_type": "stream",
     "text": [
      "current cid: cid_H52\n",
      "current cid: cid_F41\n",
      "current cid: cid_E66\n",
      "current cid: cid_F32\n",
      "current cid: cid_J30\n",
      "current cid: cid_K29\n",
      "current cid: cid_Z72\n",
      "current cid: cid_J34\n",
      "current cid: cid_G47\n",
      "current cid: cid_G43\n",
      "current cid: cid_K21\n",
      "current cid: cid_J45\n",
      "current cid: cid_P01\n",
      "current cid: cid_E28\n",
      "current cid: cid_E03\n",
      "current cid: cid_N20\n",
      "current cid: cid_M54\n",
      "current cid: cid_I84\n",
      "current cid: cid_M23\n",
      "current cid: cid_L70\n",
      "current cid: cid_F33\n",
      "current cid: cid_J35\n",
      "current cid: cid_R74\n",
      "current cid: cid_Z44\n",
      "current cid: cid_N63\n",
      "current cid: cid_P74\n",
      "current cid: cid_E78\n",
      "current cid: cid_M41\n",
      "current cid: cid_J32\n",
      "current cid: cid_B97\n",
      "current cid: cid_S93\n",
      "current cid: cid_I10\n",
      "current cid: cid_J31\n",
      "current cid: cid_F90\n",
      "current cid: cid_T83\n",
      "current cid: cid_U07\n",
      "current cid: cid_N47\n",
      "current cid: cid_N80\n",
      "current cid: cid_Z32\n",
      "current cid: cid_K30\n",
      "current cid: cid_E07\n",
      "current cid: cid_I83\n",
      "current cid: cid_N94\n",
      "current cid: cid_Z97\n",
      "current cid: cid_F51\n",
      "current cid: cid_M51\n",
      "current cid: cid_F50\n",
      "current cid: cid_P03\n",
      "current cid: cid_F31\n",
      "current cid: cid_Z96\n",
      "current cid: cid_M75\n",
      "current cid: cid_K07\n",
      "current cid: cid_E73\n",
      "current cid: cid_D25\n",
      "current cid: cid_L20\n",
      "current cid: cid_K59\n",
      "current cid: cid_M22\n",
      "current cid: cid_J42\n",
      "current cid: cid_N83\n",
      "current cid: cid_D50\n",
      "current cid: cid_K76\n",
      "current cid: cid_H18\n",
      "current cid: cid_R63\n",
      "current cid: cid_L64\n",
      "current cid: cid_K60\n",
      "current cid: cid_Z80\n",
      "current cid: cid_G44\n",
      "current cid: cid_N39\n",
      "current cid: cid_E55\n",
      "current cid: cid_L21\n",
      "current cid: cid_K42\n",
      "current cid: cid_K20\n",
      "current cid: cid_N92\n",
      "current cid: cid_Z82\n",
      "current cid: cid_N01\n",
      "current cid: cid_T93\n",
      "current cid: cid_W78\n",
      "current cid: cid_M79\n",
      "current cid: cid_N95\n",
      "current cid: cid_T82\n",
      "current cid: cid_E06\n",
      "current cid: cid_K40\n",
      "current cid: cid_T91\n",
      "current cid: cid_R05\n",
      "current cid: cid_R73\n",
      "current cid: cid_L65\n",
      "current cid: cid_E53\n",
      "current cid: cid_Z30\n",
      "current cid: cid_F60\n",
      "current cid: cid_F52\n",
      "current cid: cid_A98\n",
      "current cid: cid_B37\n",
      "current cid: cid_R10\n",
      "current cid: cid_T78\n",
      "current cid: cid_F43\n",
      "current cid: cid_Z73\n",
      "current cid: cid_S83\n",
      "current cid: cid_H91\n",
      "current cid: cid_G40\n",
      "current cid: cid_D02\n",
      "current cid: cid_D01\n",
      "current cid: cid_K82\n",
      "current cid: cid_B24\n",
      "current cid: cid_M94\n",
      "current cid: cid_L05\n",
      "current cid: cid_A04\n",
      "current cid: cid_I87\n",
      "current cid: cid_K80\n",
      "current cid: cid_L30\n",
      "current cid: cid_N60\n",
      "current cid: cid_F84\n",
      "current cid: cid_D07\n",
      "current cid: cid_G56\n",
      "current cid: cid_D12\n",
      "current cid: cid_M65\n",
      "current cid: cid_D11\n",
      "current cid: cid_S82\n",
      "current cid: cid_N64\n",
      "current cid: cid_Z34\n",
      "current cid: cid_A99\n",
      "current cid: cid_I49\n",
      "current cid: cid_L98\n",
      "current cid: cid_M25\n",
      "current cid: cid_L40\n",
      "current cid: cid_M71\n",
      "current cid: cid_L03\n",
      "current cid: cid_S62\n",
      "current cid: cid_I34\n",
      "current cid: cid_W12\n",
      "current cid: cid_F06\n",
      "current cid: cid_L60\n",
      "current cid: cid_F42\n",
      "current cid: cid_K35\n",
      "current cid: cid_D22\n",
      "current cid: cid_K25\n",
      "current cid: cid_F80\n",
      "current cid: cid_H53\n",
      "current cid: cid_J03\n",
      "current cid: cid_N93\n",
      "current cid: cid_N62\n",
      "current cid: cid_R75\n",
      "current cid: cid_M40\n",
      "current cid: cid_T05\n",
      "current cid: cid_W84\n",
      "current cid: cid_X14\n",
      "current cid: cid_H01\n",
      "current cid: cid_Q21\n",
      "current cid: cid_Z41\n",
      "current cid: cid_A53\n",
      "current cid: cid_S23\n",
      "current cid: cid_K58\n",
      "current cid: cid_H50\n",
      "current cid: cid_D34\n",
      "current cid: cid_D27\n",
      "current cid: cid_N89\n",
      "current cid: cid_R06\n",
      "current cid: cid_L71\n",
      "current cid: cid_L81\n",
      "current cid: cid_M50\n",
      "current cid: cid_A60\n",
      "current cid: cid_H93\n",
      "current cid: cid_P02\n",
      "current cid: cid_D18\n",
      "current cid: cid_T07\n",
      "current cid: cid_J06\n",
      "current cid: cid_A92\n",
      "current cid: cid_F19\n",
      "current cid: cid_E10\n",
      "current cid: cid_R51\n",
      "current cid: cid_R03\n",
      "current cid: cid_R45\n",
      "current cid: cid_F34\n",
      "current cid: cid_I82\n",
      "current cid: cid_N84\n",
      "current cid: cid_R52\n",
      "current cid: cid_R42\n",
      "current cid: cid_D03\n",
      "current cid: cid_X06\n"
     ]
    }
   ],
   "source": [
    "entry_list_cids = []\n",
    "diagnosed_list  = []\n",
    "\n",
    "for cid in accountable_cids:\n",
    "    print('current cid:', cid)\n",
    "    #cid_list not including the cid\n",
    "    cid_list = [c for c in cids_cols if c!=cid]\n",
    "\n",
    "    temp_df = pd.concat([ml_df_calendar_base, ml_df[cid]], axis = 1)\n",
    "    temp_df.sort_values(by = ['member_internal_code', 'calendar_date'], inplace = True)\n",
    "    #\n",
    "    lag_name = cid + '_lag_1'\n",
    "    temp_df = pd.concat([temp_df,temp_df.groupby(['member_internal_code'])[cid].shift(1).rename(lag_name)], axis = 1)\n",
    "    temp_df.sort_values(by = ['member_internal_code', 'calendar_date'], inplace = True)\n",
    "    #\n",
    "    entry_name = 'entry_' + cid\n",
    "    diag_name = 'diag_' + cid\n",
    "    #\n",
    "    temp_df['v1'] = np.where((temp_df[cid]==1) & (temp_df['mth_order']==1), 1, 0)\n",
    "    temp_df['diag_mth'] = np.where((temp_df[cid]==1) & (temp_df[lag_name]!=1) & (temp_df['mth_order']>=2), 1, 0)\n",
    "    temp_df = temp_df.merge(temp_df.groupby(['member_internal_code'])['v1'].max().rename(entry_name), how = 'inner', left_on = 'member_internal_code', right_index = True)\n",
    "    temp_df = temp_df.merge(temp_df.groupby(['member_internal_code'])['diag_mth'].max().rename(diag_name), how = 'inner', left_on = 'member_internal_code', right_index = True)\n",
    "    temp_df.drop(columns = ['v1',lag_name], inplace = True)\n",
    "\n",
    "    if temp_df[entry_name].mean()>0:\n",
    "        \n",
    "        #DF to estimate variables\n",
    "        #treat_group_mths = temp_df[temp_df[diag_name]==1]['ref_mth_entrance_group'].unique()\n",
    "        #control_group = temp_df[(temp_df['ref_mth_entrance_group'].isin(treat_group_mths)) & (temp_df[diag_name]==0) & (temp_df[diag_name]==0)]\n",
    "        #total_df = pd.concat([temp_df[temp_df[diag_name]==1], control_group], axis = 0)\n",
    "        #df = ml_df[[base_covariates_list + cid_list + y + ['mth_order', 'ref_mth_entrance_group']].merge(total_df[[diag_name] + ['diag_mth']], how = 'inner', left_index = True, right_index = True)\n",
    "\n",
    "        entry_list_cids.append(entry_name)\n",
    "\n",
    "    if temp_df[diag_name].mean()>0:\n",
    "        diagnosed_list.append(diag_name)\n",
    "\n",
    " \n",
    "    "
   ]
  },
  {
   "cell_type": "markdown",
   "metadata": {},
   "source": [
    "#### Test for  entry"
   ]
  },
  {
   "cell_type": "code",
   "execution_count": 12,
   "metadata": {},
   "outputs": [],
   "source": [
    "treat_group_mths = temp_df[temp_df[diag_name]==1]['ref_mth_entrance_group'].unique()\n",
    "control_group = temp_df[(temp_df['ref_mth_entrance_group'].isin(treat_group_mths)) & (temp_df[diag_name]==0) & (temp_df[diag_name]==0)]\n",
    "total_df = pd.concat([temp_df[temp_df[diag_name]==1], control_group], axis = 0)\n",
    "df = ml_df[base_covariates_list + cid_list + y + ['mth_order', 'ref_mth_entrance_group']].merge(total_df[[diag_name] + ['diag_mth']], how = 'inner', left_index = True, right_index = True)"
   ]
  },
  {
   "cell_type": "code",
   "execution_count": 17,
   "metadata": {},
   "outputs": [
    {
     "data": {
      "text/plain": [
       "0    67465\n",
       "1      196\n",
       "Name: diag_cid_X06, dtype: int64"
      ]
     },
     "execution_count": 17,
     "metadata": {},
     "output_type": "execute_result"
    }
   ],
   "source": [
    "df['diag_cid_X06'].value_counts()"
   ]
  },
  {
   "cell_type": "code",
   "execution_count": null,
   "metadata": {},
   "outputs": [],
   "source": []
  },
  {
   "cell_type": "code",
   "execution_count": null,
   "metadata": {},
   "outputs": [],
   "source": []
  },
  {
   "cell_type": "markdown",
   "metadata": {},
   "source": [
    "***"
   ]
  },
  {
   "cell_type": "code",
   "execution_count": null,
   "metadata": {},
   "outputs": [],
   "source": [
    "ml_df.to_csv('src/data/panel_cc_cids_did_df.csv', index = False)"
   ]
  }
 ],
 "metadata": {
  "instance_type": "ml.t3.medium",
  "kernelspec": {
   "display_name": "Python 3.9.2 64-bit",
   "language": "python",
   "name": "python3"
  },
  "language_info": {
   "codemirror_mode": {
    "name": "ipython",
    "version": 3
   },
   "file_extension": ".py",
   "mimetype": "text/x-python",
   "name": "python",
   "nbconvert_exporter": "python",
   "pygments_lexer": "ipython3",
   "version": "3.9.2"
  },
  "vscode": {
   "interpreter": {
    "hash": "aee8b7b246df8f9039afb4144a1f6fd8d2ca17a180786b69acc140d282b71a49"
   }
  }
 },
 "nbformat": 4,
 "nbformat_minor": 4
}
