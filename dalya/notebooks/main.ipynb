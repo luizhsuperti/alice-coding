{
 "cells": [
  {
   "cell_type": "markdown",
   "metadata": {},
   "source": [
    "# CARAI (Automated Learning and Inference for Causal Effects)\n",
    "\n",
    "- Setup;\n",
    "- Import tables;\n",
    "- Transform;\n",
    "- Export `.csv`."
   ]
  },
  {
   "cell_type": "markdown",
   "metadata": {},
   "source": [
    "# 0. Setup"
   ]
  },
  {
   "cell_type": "code",
   "execution_count": 38,
   "metadata": {},
   "outputs": [],
   "source": [
    "#standard packages\n",
    "import pandas as pd\n",
    "import numpy as np\n",
    "import os\n",
    "#import warnings\n",
    "import warnings\n",
    "warnings.filterwarnings('ignore')\n",
    "\n",
    "#machine-learning packages\n",
    "#from sklearn.preprocessing import LabelEncoder,label_binarize\n",
    "from sklearn.model_selection import train_test_split\n",
    "from sklearn.model_selection import RandomizedSearchCV\n",
    "from sklearn.ensemble import GradientBoostingClassifier,RandomForestClassifier\n",
    "from sklearn.metrics import precision_recall_curve\n",
    "from sklearn.metrics import f1_score, precision_score, recall_score, roc_auc_score, auc, accuracy_score\n",
    "#from imblearn.over_sampling import SMOTE\n",
    "#from imblearn.pipeline import Pipeline\n",
    "\n",
    "#image, visualization\n",
    "import matplotlib.pyplot as plt\n",
    "import seaborn as sns"
   ]
  },
  {
   "cell_type": "markdown",
   "metadata": {},
   "source": [
    "***"
   ]
  },
  {
   "cell_type": "markdown",
   "metadata": {},
   "source": [
    "# 1. Import transformed table & pre-(pre-process)"
   ]
  },
  {
   "cell_type": "code",
   "execution_count": 39,
   "metadata": {},
   "outputs": [
    {
     "data": {
      "text/html": [
       "<div>\n",
       "<style scoped>\n",
       "    .dataframe tbody tr th:only-of-type {\n",
       "        vertical-align: middle;\n",
       "    }\n",
       "\n",
       "    .dataframe tbody tr th {\n",
       "        vertical-align: top;\n",
       "    }\n",
       "\n",
       "    .dataframe thead th {\n",
       "        text-align: right;\n",
       "    }\n",
       "</style>\n",
       "<table border=\"1\" class=\"dataframe\">\n",
       "  <thead>\n",
       "    <tr style=\"text-align: right;\">\n",
       "      <th></th>\n",
       "      <th>program_name</th>\n",
       "      <th>program_severity</th>\n",
       "      <th>is_male</th>\n",
       "      <th>is_trans</th>\n",
       "      <th>member_age</th>\n",
       "      <th>total_mths</th>\n",
       "      <th>psico_qt_consultas</th>\n",
       "      <th>psiqui_qt_consultas</th>\n",
       "      <th>discharged</th>\n",
       "      <th>psico_custos_tot</th>\n",
       "      <th>psiqui_custos_tot</th>\n",
       "      <th>treatment_group</th>\n",
       "      <th>daly_t0</th>\n",
       "      <th>daly_t1</th>\n",
       "      <th>delta_daly</th>\n",
       "    </tr>\n",
       "  </thead>\n",
       "  <tbody>\n",
       "    <tr>\n",
       "      <th>0</th>\n",
       "      <td>Ansiedade LEVE</td>\n",
       "      <td>leve</td>\n",
       "      <td>1</td>\n",
       "      <td>0</td>\n",
       "      <td>35.0</td>\n",
       "      <td>14</td>\n",
       "      <td>9.0</td>\n",
       "      <td>0.0</td>\n",
       "      <td>0</td>\n",
       "      <td>0.0</td>\n",
       "      <td>0.0</td>\n",
       "      <td>1</td>\n",
       "      <td>0.030</td>\n",
       "      <td>0.030</td>\n",
       "      <td>0.000</td>\n",
       "    </tr>\n",
       "    <tr>\n",
       "      <th>1</th>\n",
       "      <td>Ansiedade MODERADA</td>\n",
       "      <td>moderada</td>\n",
       "      <td>1</td>\n",
       "      <td>0</td>\n",
       "      <td>36.0</td>\n",
       "      <td>3</td>\n",
       "      <td>1.0</td>\n",
       "      <td>0.0</td>\n",
       "      <td>0</td>\n",
       "      <td>150.0</td>\n",
       "      <td>0.0</td>\n",
       "      <td>1</td>\n",
       "      <td>0.030</td>\n",
       "      <td>0.030</td>\n",
       "      <td>0.000</td>\n",
       "    </tr>\n",
       "    <tr>\n",
       "      <th>2</th>\n",
       "      <td>Ansiedade LEVE</td>\n",
       "      <td>leve</td>\n",
       "      <td>0</td>\n",
       "      <td>0</td>\n",
       "      <td>32.0</td>\n",
       "      <td>8</td>\n",
       "      <td>7.0</td>\n",
       "      <td>0.0</td>\n",
       "      <td>0</td>\n",
       "      <td>560.0</td>\n",
       "      <td>0.0</td>\n",
       "      <td>1</td>\n",
       "      <td>0.030</td>\n",
       "      <td>0.523</td>\n",
       "      <td>0.493</td>\n",
       "    </tr>\n",
       "    <tr>\n",
       "      <th>3</th>\n",
       "      <td>Transtorno Tipo 1</td>\n",
       "      <td>tipo 1</td>\n",
       "      <td>0</td>\n",
       "      <td>0</td>\n",
       "      <td>33.0</td>\n",
       "      <td>4</td>\n",
       "      <td>5.0</td>\n",
       "      <td>0.0</td>\n",
       "      <td>1</td>\n",
       "      <td>630.0</td>\n",
       "      <td>0.0</td>\n",
       "      <td>1</td>\n",
       "      <td>0.523</td>\n",
       "      <td>0.000</td>\n",
       "      <td>-0.523</td>\n",
       "    </tr>\n",
       "    <tr>\n",
       "      <th>4</th>\n",
       "      <td>Transtorno Tipo 1</td>\n",
       "      <td>tipo 1</td>\n",
       "      <td>0</td>\n",
       "      <td>0</td>\n",
       "      <td>26.0</td>\n",
       "      <td>6</td>\n",
       "      <td>6.0</td>\n",
       "      <td>3.0</td>\n",
       "      <td>1</td>\n",
       "      <td>750.0</td>\n",
       "      <td>1050.0</td>\n",
       "      <td>1</td>\n",
       "      <td>0.000</td>\n",
       "      <td>0.000</td>\n",
       "      <td>0.000</td>\n",
       "    </tr>\n",
       "  </tbody>\n",
       "</table>\n",
       "</div>"
      ],
      "text/plain": [
       "         program_name program_severity  is_male  is_trans  member_age  \\\n",
       "0      Ansiedade LEVE             leve        1         0        35.0   \n",
       "1  Ansiedade MODERADA         moderada        1         0        36.0   \n",
       "2      Ansiedade LEVE             leve        0         0        32.0   \n",
       "3   Transtorno Tipo 1           tipo 1        0         0        33.0   \n",
       "4   Transtorno Tipo 1           tipo 1        0         0        26.0   \n",
       "\n",
       "   total_mths  psico_qt_consultas  psiqui_qt_consultas  discharged  \\\n",
       "0          14                 9.0                  0.0           0   \n",
       "1           3                 1.0                  0.0           0   \n",
       "2           8                 7.0                  0.0           0   \n",
       "3           4                 5.0                  0.0           1   \n",
       "4           6                 6.0                  3.0           1   \n",
       "\n",
       "   psico_custos_tot  psiqui_custos_tot  treatment_group  daly_t0  daly_t1  \\\n",
       "0               0.0                0.0                1    0.030    0.030   \n",
       "1             150.0                0.0                1    0.030    0.030   \n",
       "2             560.0                0.0                1    0.030    0.523   \n",
       "3             630.0                0.0                1    0.523    0.000   \n",
       "4             750.0             1050.0                1    0.000    0.000   \n",
       "\n",
       "   delta_daly  \n",
       "0       0.000  \n",
       "1       0.000  \n",
       "2       0.493  \n",
       "3      -0.523  \n",
       "4       0.000  "
      ]
     },
     "execution_count": 39,
     "metadata": {},
     "output_type": "execute_result"
    }
   ],
   "source": [
    "sm_df = pd.read_csv('/Users/luiz.superti/Documents/GitHub/alice-coding/ML-models/cousin-itt/csv/alice_sm_train_df.csv')\n",
    "sm_df.drop(columns = 'member_internal_code', inplace = True)\n",
    "\n",
    "sm_df['daly_t0'].fillna(0, inplace = True)\n",
    "sm_df['daly_t0'] = sm_df['daly_t0']\n",
    "sm_df['daly_t1'].fillna(0, inplace = True)\n",
    "sm_df['daly_t1'] = sm_df['daly_t1']\n",
    "\n",
    "sm_df['delta_daly'] = sm_df['daly_t1'] - sm_df['daly_t0']\n",
    "sm_df.loc[sm_df['treatment_group']==0, 'discharged'] = 1 - sm_df['discharged']\n",
    "sm_df.head(5)"
   ]
  },
  {
   "cell_type": "code",
   "execution_count": 40,
   "metadata": {},
   "outputs": [
    {
     "data": {
      "text/plain": [
       "2.8719886632026452"
      ]
     },
     "execution_count": 40,
     "metadata": {},
     "output_type": "execute_result"
    }
   ],
   "source": [
    "sm_df['psico_qt_consultas'].mean()"
   ]
  },
  {
   "cell_type": "code",
   "execution_count": 41,
   "metadata": {},
   "outputs": [
    {
     "data": {
      "text/plain": [
       "1166133.7684210525"
      ]
     },
     "execution_count": 41,
     "metadata": {},
     "output_type": "execute_result"
    }
   ],
   "source": [
    "sm_df['psico_custos_tot'].sum()"
   ]
  },
  {
   "cell_type": "code",
   "execution_count": 42,
   "metadata": {},
   "outputs": [
    {
     "data": {
      "text/plain": [
       "4.0"
      ]
     },
     "execution_count": 42,
     "metadata": {},
     "output_type": "execute_result"
    }
   ],
   "source": [
    "np.percentile(sm_df[sm_df['treatment_group']==1]['psico_qt_consultas'], 50)"
   ]
  },
  {
   "cell_type": "code",
   "execution_count": 43,
   "metadata": {},
   "outputs": [
    {
     "data": {
      "text/plain": [
       "count    1213.000000\n",
       "mean        0.142448\n",
       "std         0.211542\n",
       "min         0.000000\n",
       "25%         0.030000\n",
       "50%         0.030000\n",
       "75%         0.145000\n",
       "max         1.381000\n",
       "Name: daly_t0, dtype: float64"
      ]
     },
     "execution_count": 43,
     "metadata": {},
     "output_type": "execute_result"
    }
   ],
   "source": [
    "sm_df[sm_df['treatment_group']==1]['daly_t0'].describe()"
   ]
  },
  {
   "cell_type": "code",
   "execution_count": 44,
   "metadata": {},
   "outputs": [],
   "source": [
    "### Treatment\n",
    "sm_df['base_control'] = np.where(sm_df['treatment_group']==0,1,0)\n",
    "sm_df['treatment_0_4'] = np.where((sm_df['treatment_group']==1) & (sm_df['psico_qt_consultas']>=4) & (sm_df['psico_qt_consultas']<=7),1,0)\n",
    "sm_df['treatment_5_10'] = np.where((sm_df['treatment_group']==1) & (sm_df['psico_qt_consultas']>=8) & (sm_df['psico_qt_consultas']<=11),1,0)\n",
    "sm_df['treatment_11_'] = np.where((sm_df['treatment_group']==1) & (sm_df['psico_qt_consultas']>11),1,0)\n",
    "sm_df['treatment_0_10'] = np.where((sm_df['treatment_group']==1) & (sm_df['psico_qt_consultas']>=0) & (sm_df['psico_qt_consultas']<=10),1,0)"
   ]
  },
  {
   "cell_type": "code",
   "execution_count": 45,
   "metadata": {},
   "outputs": [],
   "source": [
    "ml_df = sm_df[((sm_df['program_severity'].isna()==True)|(sm_df['program_severity']=='tipo 1')|(sm_df['program_severity']=='tipo 2'))][['member_age','is_male','daly_t0', 'delta_daly','base_control','treatment_0_4','psico_custos_tot','treatment_0_10', 'treatment_5_10', 'treatment_11_', 'discharged', 'total_mths']]"
   ]
  },
  {
   "cell_type": "code",
   "execution_count": 46,
   "metadata": {},
   "outputs": [],
   "source": [
    "ml_df = ml_df[ml_df['is_male']==1]"
   ]
  },
  {
   "cell_type": "code",
   "execution_count": 47,
   "metadata": {},
   "outputs": [
    {
     "data": {
      "text/plain": [
       "(588, 12)"
      ]
     },
     "execution_count": 47,
     "metadata": {},
     "output_type": "execute_result"
    }
   ],
   "source": [
    "ml_df.shape"
   ]
  },
  {
   "cell_type": "code",
   "execution_count": 48,
   "metadata": {},
   "outputs": [],
   "source": [
    "#probability weights for ATE and cATE\n",
    "P_D_ = 1-np.mean(ml_df.base_control)\n",
    "p_treat_0_4 = np.mean(ml_df.treatment_0_4)/(1-np.mean(ml_df.base_control))\n",
    "p_treat_5_10 = np.mean(ml_df.treatment_5_10)/(1-np.mean(ml_df.base_control))\n",
    "p_treat_11_ = np.mean(ml_df.treatment_11_)/(1-np.mean(ml_df.base_control))"
   ]
  },
  {
   "cell_type": "code",
   "execution_count": 49,
   "metadata": {},
   "outputs": [],
   "source": [
    "p_treat_0_10 = np.mean(ml_df.treatment_0_10)/(1-np.mean(ml_df.base_control))"
   ]
  },
  {
   "cell_type": "code",
   "execution_count": 50,
   "metadata": {},
   "outputs": [
    {
     "name": "stdout",
     "output_type": "stream",
     "text": [
      "0.4517766497461929 0.18274111675126903 0.04568527918781726\n"
     ]
    }
   ],
   "source": [
    "print(p_treat_0_4,p_treat_5_10, p_treat_11_)"
   ]
  },
  {
   "cell_type": "code",
   "execution_count": 51,
   "metadata": {},
   "outputs": [
    {
     "data": {
      "text/plain": [
       "0.9238578680203047"
      ]
     },
     "execution_count": 51,
     "metadata": {},
     "output_type": "execute_result"
    }
   ],
   "source": [
    "p_treat_0_10"
   ]
  },
  {
   "cell_type": "code",
   "execution_count": 52,
   "metadata": {},
   "outputs": [
    {
     "name": "stdout",
     "output_type": "stream",
     "text": [
      "Project directory: /Users/luiz.superti/Documents/GitHub/alice-coding/ML-models/cousin-itt\n"
     ]
    }
   ],
   "source": [
    "from setup import main as setup\n",
    "setup(env='vscode', project='cousin-itt')\n",
    "from src.model import DrDidEstimator\n",
    "dr_did = DrDidEstimator()"
   ]
  },
  {
   "cell_type": "markdown",
   "metadata": {},
   "source": [
    "FULL ATE"
   ]
  },
  {
   "cell_type": "code",
   "execution_count": 53,
   "metadata": {},
   "outputs": [
    {
     "name": "stdout",
     "output_type": "stream",
     "text": [
      "IPT estimation started\n",
      "IPT optimation success: True\n",
      "WLS estimation started\n",
      "WLS optimation success: True\n"
     ]
    }
   ],
   "source": [
    "#cATT(d|d), for d = treat_0_10\n",
    "#We have to restrict base control and treatment_0_10\n",
    "catt_dd_df = ml_df[(ml_df['base_control']==1)|(ml_df['treatment_0_10']==1)]\n",
    "catt_dd_df['treat'] = np.where(catt_dd_df.treatment_0_10==1,1,0)\n",
    "\n",
    "care_cost_dd = np.sum(-catt_dd_df[catt_dd_df['discharged']==1]['delta_daly'])/np.sum(catt_dd_df[catt_dd_df['treat']==1]['psico_custos_tot'])\n",
    "\n",
    "#catt_da_df\n",
    "#We have to restrict the first alternative treatment a, and treatment_5_10, but ask for the base_control\n",
    "dr_did.fit(catt_dd_df[['member_age', 'is_male']].to_numpy(),catt_dd_df.treat, catt_dd_df.discharged) \n",
    "catt_dd = dr_did.att_mean\n",
    "catt_dd_lb = (dr_did.att_mean - 1.96*dr_did.att_sd)\n",
    "catt_dd_ub = (dr_did.att_mean + 1.96*dr_did.att_sd)\n"
   ]
  },
  {
   "cell_type": "code",
   "execution_count": 54,
   "metadata": {},
   "outputs": [
    {
     "name": "stdout",
     "output_type": "stream",
     "text": [
      "0.7619847716157708 0.8164883602387838 0.8709919488617968\n"
     ]
    }
   ],
   "source": [
    "print(catt_dd_lb, catt_dd, catt_dd_ub)"
   ]
  },
  {
   "cell_type": "markdown",
   "metadata": {},
   "source": [
    "#### ATE for d = 5 to 8"
   ]
  },
  {
   "cell_type": "code",
   "execution_count": 55,
   "metadata": {},
   "outputs": [
    {
     "name": "stdout",
     "output_type": "stream",
     "text": [
      "IPT estimation started\n",
      "IPT optimation success: True\n",
      "WLS estimation started\n",
      "WLS optimation success: True\n",
      "IPT estimation started\n",
      "IPT optimation success: True\n",
      "WLS estimation started\n",
      "WLS optimation success: True\n",
      "IPT estimation started\n",
      "IPT optimation success: True\n",
      "WLS estimation started\n",
      "WLS optimation success: True\n",
      "IPT estimation started\n",
      "IPT optimation success: True\n",
      "WLS estimation started\n",
      "WLS optimation success: True\n",
      "IPT estimation started\n",
      "IPT optimation success: True\n",
      "WLS estimation started\n",
      "WLS optimation success: True\n"
     ]
    }
   ],
   "source": [
    "#cATT(d|d), for d = treat_5_10\n",
    "#We have to restrict base control and treatment_5_10\n",
    "catt_dd_df = ml_df[(ml_df['base_control']==1)|(ml_df['treatment_5_10']==1)]\n",
    "catt_dd_df['treat'] = np.where(catt_dd_df.treatment_5_10==1,1,0)\n",
    "\n",
    "care_cost_dd = np.sum(-catt_dd_df[catt_dd_df['discharged']==1]['delta_daly'])/np.sum(catt_dd_df[catt_dd_df['treat']==1]['psico_custos_tot'])\n",
    "\n",
    "#catt_da_df\n",
    "#We have to restrict the first alternative treatment a, and treatment_5_10, but ask for the base_control\n",
    "catt_aa_df = ml_df[(ml_df['base_control']==1)|(ml_df['treatment_0_4']==1)]\n",
    "catt_aa_df['treat']  = np.where(catt_aa_df.treatment_0_4==1,1,0)\n",
    "catt_ad_df = ml_df[(ml_df['treatment_0_4']==1)|(ml_df['treatment_5_10']==1)]\n",
    "catt_ad_df['treat']  = np.where(catt_ad_df.treatment_5_10==1,1,0)\n",
    "\n",
    "#care-costs a/d\n",
    "nd = len(catt_ad_df[catt_ad_df['treat']==1]['treat'])\n",
    "cc_d = np.mean(catt_ad_df[catt_ad_df['treat']==1]['psico_custos_tot'])\n",
    "cc_a = np.mean(catt_ad_df[catt_ad_df['treat']==0]['psico_custos_tot'])\n",
    "\n",
    "care_cost_da = np.sum(-catt_ad_df[catt_ad_df['treat']==1]['delta_daly'])/(nd*cc_d) - np.sum(catt_ad_df[catt_ad_df['treat']==1]['delta_daly'])/(nd*cc_a)\n",
    "\n",
    "#We have to restrict the first alternative treatment b, and treatment_5_10, but ask for the base_control\n",
    "catt_bb_df = ml_df[(ml_df['base_control']==1)|(ml_df['treatment_11_']==1)]\n",
    "catt_bb_df['treat'] = np.where(catt_bb_df.treatment_11_==1,1,0)\n",
    "catt_bd_df = ml_df[(ml_df['treatment_11_']==1)|(ml_df['treatment_5_10']==1)]\n",
    "catt_bd_df['treat']  = np.where(catt_bd_df.treatment_5_10==1,1,0)\n",
    "\n",
    "#care-costs b/d\n",
    "nd = len(catt_bd_df[catt_bd_df['treat']==1]['treat'])\n",
    "cc_d = np.mean(catt_bd_df[catt_bd_df['treat']==1]['psico_custos_tot'])\n",
    "cc_b = np.mean(catt_bd_df[catt_bd_df['treat']==0]['psico_custos_tot'])\n",
    "\n",
    "care_cost_db = np.sum(-catt_bd_df[catt_bd_df['treat']==1]['delta_daly'])/(nd*cc_d) - np.sum(catt_bd_df[catt_bd_df['treat']==1]['delta_daly'])/(nd*cc_b)\n",
    "\n",
    "#catt_dd\n",
    "dr_did.fit(catt_dd_df[['member_age', 'is_male']].to_numpy(),catt_dd_df.treat, catt_dd_df.discharged) \n",
    "catt_dd = p_treat_5_10*dr_did.att_mean\n",
    "catt_dd_lb = p_treat_5_10*(dr_did.att_mean - 1.96*dr_did.att_sd)\n",
    "catt_dd_ub = p_treat_5_10*(dr_did.att_mean + 1.96*dr_did.att_sd)\n",
    "\n",
    "#catt_da\n",
    "dr_did.fit(catt_aa_df[['member_age', 'is_male']].to_numpy(),catt_aa_df.treat, catt_aa_df.discharged) \n",
    "catt_aa = dr_did.att_mean\n",
    "catt_aa_lb = (dr_did.att_mean - 1.96*dr_did.att_sd)\n",
    "catt_aa_ub = (dr_did.att_mean + 1.96*dr_did.att_sd)\n",
    "dr_did.fit(catt_ad_df[['member_age', 'is_male', 'daly_t0']].to_numpy(),catt_ad_df.treat, catt_ad_df.discharged) \n",
    "catt_ad = dr_did.att_mean\n",
    "catt_ad_lb = (dr_did.att_mean - 1.96*dr_did.att_sd)\n",
    "catt_ad_ub = (dr_did.att_mean + 1.96*dr_did.att_sd)\n",
    "catt_da = p_treat_0_4*(catt_aa-catt_ad)\n",
    "catt_da_lb = p_treat_0_4*np.fmin((catt_aa_lb-catt_ad_ub),(catt_aa_lb - catt_ad_lb))\n",
    "catt_da_ub = p_treat_0_4*np.fmax((catt_aa_ub-catt_ad_ub),(catt_aa_ub - catt_ad_lb)) \n",
    "\n",
    "#catt_db\n",
    "dr_did.fit(catt_bb_df[['member_age', 'is_male']].to_numpy(),catt_bb_df.treat, catt_bb_df.discharged) \n",
    "catt_bb = dr_did.att_mean\n",
    "catt_bb_lb = (dr_did.att_mean - 1.96*dr_did.att_sd)\n",
    "catt_bb_ub = (dr_did.att_mean + 1.96*dr_did.att_sd)\n",
    "dr_did.fit(catt_bd_df[['member_age', 'is_male', 'daly_t0']].to_numpy(),catt_bd_df.treat, catt_bd_df.discharged) \n",
    "catt_bd = dr_did.att_mean\n",
    "catt_bd_lb = (dr_did.att_mean - 1.96*dr_did.att_sd)\n",
    "catt_bd_ub = (dr_did.att_mean + 1.96*dr_did.att_sd)\n",
    "catt_db = p_treat_11_*(catt_bb-catt_bd)\n",
    "catt_db_lb = p_treat_11_*np.fmin((catt_bb_lb-catt_bd_ub),(catt_bb_lb - catt_bd_lb))\n",
    "catt_db_ub = p_treat_11_*np.fmax((catt_bb_ub-catt_bd_ub),(catt_bb_ub - catt_bd_lb))\n",
    "\n",
    "##############\n",
    "ate_5_10 = catt_dd + catt_da + catt_db\n",
    "ate_5_10_lb = catt_dd_lb + catt_da_lb + catt_db_lb\n",
    "ate_5_10_ub = catt_dd_ub + catt_da_ub + catt_db_ub\n",
    "\n",
    "cost_eff_5_10 = 10000*(care_cost_dd*catt_dd + care_cost_da*catt_da + care_cost_db*catt_db)\n",
    "cost_eff_5_10_lb = 10000*(care_cost_dd*catt_dd_lb + care_cost_da*catt_da_lb + care_cost_db*catt_db_lb)\n",
    "cost_eff_5_10_ub = 10000*(care_cost_dd*catt_dd_ub + care_cost_da*catt_da_ub + care_cost_db*catt_db_ub)"
   ]
  },
  {
   "cell_type": "markdown",
   "metadata": {},
   "source": [
    "#### ATE for d = 0 to 4"
   ]
  },
  {
   "cell_type": "code",
   "execution_count": 56,
   "metadata": {},
   "outputs": [
    {
     "name": "stdout",
     "output_type": "stream",
     "text": [
      "IPT estimation started\n",
      "IPT optimation success: True\n",
      "WLS estimation started\n",
      "WLS optimation success: True\n",
      "IPT estimation started\n",
      "IPT optimation success: True\n",
      "WLS estimation started\n",
      "WLS optimation success: True\n",
      "IPT estimation started\n",
      "IPT optimation success: True\n",
      "WLS estimation started\n",
      "WLS optimation success: True\n",
      "IPT estimation started\n",
      "IPT optimation success: True\n",
      "WLS estimation started\n",
      "WLS optimation success: True\n",
      "IPT estimation started\n",
      "IPT optimation success: True\n",
      "WLS estimation started\n",
      "WLS optimation success: True\n"
     ]
    }
   ],
   "source": [
    "#cATT(d|d), for d = treat_0_4\n",
    "#We have to restrict base control and treatment_0_4\n",
    "catt_dd_df = ml_df[(ml_df['base_control']==1)|(ml_df['treatment_0_4']==1)]\n",
    "catt_dd_df['treat'] = np.where(catt_dd_df.treatment_0_4==1,1,0)\n",
    "\n",
    "care_cost_dd = np.sum(-catt_dd_df[catt_dd_df['discharged']==1]['delta_daly'])/np.sum(catt_dd_df[catt_dd_df['treat']==1]['psico_custos_tot'])\n",
    "\n",
    "#catt_da_df\n",
    "#We have to restrict the first alternative treatment a, and d, but ask for the base_control\n",
    "catt_aa_df = ml_df[(ml_df['base_control']==1)|(ml_df['treatment_5_10']==1)]\n",
    "catt_aa_df['treat'] = np.where(catt_aa_df.treatment_5_10==1,1,0)\n",
    "catt_ad_df = ml_df[(ml_df['treatment_5_10']==1)|(ml_df['treatment_0_4']==1)]\n",
    "catt_ad_df['treat'] = np.where(catt_ad_df.treatment_0_4==1,1,0)\n",
    "\n",
    "#care-costs a/d\n",
    "nd = len(catt_ad_df[catt_ad_df['treat']==1]['treat'])\n",
    "cc_d = np.mean(catt_ad_df[catt_ad_df['treat']==1]['psico_custos_tot'])\n",
    "cc_a = np.mean(catt_ad_df[catt_ad_df['treat']==0]['psico_custos_tot'])\n",
    "\n",
    "care_cost_da = np.sum(-catt_ad_df[catt_ad_df['treat']==1]['delta_daly'])/(nd*cc_d) - np.sum(catt_ad_df[catt_ad_df['treat']==1]['delta_daly'])/(nd*cc_a)\n",
    "\n",
    "#We have to restrict the first alternative treatment b, and d, but ask for the base_control\n",
    "catt_bb_df = ml_df[(ml_df['base_control']==1)|(ml_df['treatment_11_']==1)]\n",
    "catt_bb_df['treat'] = np.where(catt_bb_df.treatment_11_==1,1,0)\n",
    "catt_bd_df = ml_df[(ml_df['treatment_11_']==1)|(ml_df['treatment_0_4']==1)]\n",
    "catt_bd_df['treat'] = np.where(catt_bd_df.treatment_0_4==1,1,0)\n",
    "\n",
    "#care-costs b/d\n",
    "nd = len(catt_bd_df[catt_bd_df['treat']==1]['treat'])\n",
    "cc_d = np.mean(catt_bd_df[catt_bd_df['treat']==1]['psico_custos_tot'])\n",
    "cc_b = np.mean(catt_bd_df[catt_bd_df['treat']==0]['psico_custos_tot'])\n",
    "\n",
    "care_cost_db = np.sum(-catt_bd_df[catt_bd_df['treat']==1]['delta_daly'])/(nd*cc_d) - np.sum(catt_bd_df[catt_bd_df['treat']==1]['delta_daly'])/(nd*cc_b)\n",
    "\n",
    "#catt_dd\n",
    "dr_did.fit(catt_dd_df[['member_age', 'is_male']].to_numpy(),catt_dd_df.treat, catt_dd_df.discharged) \n",
    "catt_dd = p_treat_0_4*dr_did.att_mean\n",
    "catt_dd_lb = p_treat_0_4*(dr_did.att_mean - 1.96*dr_did.att_sd)\n",
    "catt_dd_ub = p_treat_0_4*(dr_did.att_mean + 1.96*dr_did.att_sd)\n",
    "\n",
    "#catt_da\n",
    "dr_did.fit(catt_aa_df[['member_age', 'is_male']].to_numpy(),catt_aa_df.treat, catt_aa_df.discharged) \n",
    "catt_aa = dr_did.att_mean\n",
    "catt_aa_lb = (dr_did.att_mean - 1.96*dr_did.att_sd)\n",
    "catt_aa_ub = (dr_did.att_mean + 1.96*dr_did.att_sd)\n",
    "dr_did.fit(catt_ad_df[['member_age', 'is_male', 'daly_t0']].to_numpy(),catt_ad_df.treat, catt_ad_df.discharged) \n",
    "catt_ad = dr_did.att_mean\n",
    "catt_ad_lb = (dr_did.att_mean - 1.96*dr_did.att_sd)\n",
    "catt_ad_ub = (dr_did.att_mean + 1.96*dr_did.att_sd)\n",
    "\n",
    "catt_da = p_treat_5_10*(catt_aa-catt_ad)\n",
    "catt_da_lb = p_treat_5_10*np.fmin((catt_aa_lb-catt_ad_ub),(catt_aa_lb - catt_ad_lb))\n",
    "catt_da_ub = p_treat_5_10*np.fmax((catt_aa_ub-catt_ad_ub),(catt_aa_ub - catt_ad_lb)) \n",
    "\n",
    "#catt_db\n",
    "dr_did.fit(catt_bb_df[['member_age', 'is_male']].to_numpy(),catt_bb_df.treat, catt_bb_df.discharged) \n",
    "catt_bb = dr_did.att_mean\n",
    "catt_bb_lb = (dr_did.att_mean - 1.96*dr_did.att_sd)\n",
    "catt_bb_ub = (dr_did.att_mean + 1.96*dr_did.att_sd)\n",
    "dr_did.fit(catt_bd_df[['member_age', 'is_male', 'daly_t0']].to_numpy(),catt_bd_df.treat, catt_bd_df.discharged) \n",
    "catt_bd = dr_did.att_mean\n",
    "catt_bd_lb = (dr_did.att_mean - 1.96*dr_did.att_sd)\n",
    "catt_bd_ub = (dr_did.att_mean + 1.96*dr_did.att_sd)\n",
    "\n",
    "catt_db = p_treat_11_*(catt_bb-catt_bd)\n",
    "catt_db_lb = p_treat_11_*np.fmin((catt_bb_lb-catt_bd_ub),(catt_bb_lb - catt_bd_lb))\n",
    "catt_db_ub = p_treat_11_*np.fmax((catt_bb_ub-catt_bd_ub),(catt_bb_ub - catt_bd_lb))\n",
    "\n",
    "\n",
    "#\n",
    "ate_0_4 = catt_dd + catt_da + catt_db\n",
    "cost_eff_0_4 = 10000*(care_cost_dd*catt_dd + care_cost_da*catt_da + care_cost_db*catt_db)  \n",
    "cost_eff_0_4_lb = 10000*(care_cost_dd*catt_dd_lb + care_cost_da*catt_da_lb + care_cost_db*catt_db_lb)\n",
    "cost_eff_0_4_ub = 10000*(care_cost_dd*catt_dd_ub + care_cost_da*catt_da_ub + care_cost_db*catt_db_ub)"
   ]
  },
  {
   "cell_type": "markdown",
   "metadata": {},
   "source": [
    "#### ATE for d >= 9"
   ]
  },
  {
   "cell_type": "code",
   "execution_count": 57,
   "metadata": {},
   "outputs": [
    {
     "name": "stdout",
     "output_type": "stream",
     "text": [
      "IPT estimation started\n",
      "IPT optimation success: True\n",
      "WLS estimation started\n",
      "WLS optimation success: True\n",
      "IPT estimation started\n",
      "IPT optimation success: True\n",
      "WLS estimation started\n",
      "WLS optimation success: True\n",
      "IPT estimation started\n",
      "IPT optimation success: True\n",
      "WLS estimation started\n",
      "WLS optimation success: True\n",
      "IPT estimation started\n",
      "IPT optimation success: True\n",
      "WLS estimation started\n",
      "WLS optimation success: True\n",
      "IPT estimation started\n",
      "IPT optimation success: True\n",
      "WLS estimation started\n",
      "WLS optimation success: True\n"
     ]
    }
   ],
   "source": [
    "#cATT(d|d), for d = treat_11_\n",
    "#We have to restrict base control and treatment_0_4\n",
    "catt_dd_df = ml_df[(ml_df['base_control']==1)|(ml_df['treatment_11_']==1)]\n",
    "catt_dd_df['treat'] = np.where(catt_dd_df.treatment_11_==1,1,0)\n",
    "\n",
    "care_cost_dd = np.sum(-catt_dd_df[catt_dd_df['discharged']==1]['delta_daly'])/np.sum(catt_dd_df[catt_dd_df['treat']==1]['psico_custos_tot'])\n",
    "\n",
    "#catt_da_df\n",
    "#We have to restrict the first alternative treatment a, and d, but ask for the base_control\n",
    "catt_aa_df = ml_df[(ml_df['base_control']==1)|(ml_df['treatment_0_4']==1)]\n",
    "catt_aa_df['treat'] = np.where(catt_aa_df.treatment_0_4==1,1,0)\n",
    "catt_ad_df = ml_df[(ml_df['treatment_0_4']==1)|(ml_df['treatment_11_']==1)]\n",
    "catt_ad_df['treat'] = np.where(catt_ad_df.treatment_11_==1,1,0)\n",
    "\n",
    "\n",
    "#care-costs a/d\n",
    "nd = len(catt_ad_df[catt_ad_df['treat']==1]['treat'])\n",
    "cc_d = np.mean(catt_ad_df[catt_ad_df['treat']==1]['psico_custos_tot'])\n",
    "cc_a = np.mean(catt_ad_df[catt_ad_df['treat']==0]['psico_custos_tot'])\n",
    "\n",
    "care_cost_da = np.sum(-catt_ad_df[catt_ad_df['treat']==1]['delta_daly'])/(nd*cc_d) - np.sum(catt_ad_df[catt_ad_df['treat']==1]['delta_daly'])/(nd*cc_a)\n",
    "\n",
    "\n",
    "\n",
    "#We have to restrict the first alternative treatment b, and d, but ask for the base_control\n",
    "catt_bb_df = ml_df[(ml_df['base_control']==1)|(ml_df['treatment_5_10']==1)]\n",
    "catt_bb_df['treat'] = np.where(catt_bb_df.treatment_5_10==1,1,0)\n",
    "catt_bd_df = ml_df[(ml_df['treatment_5_10']==1)|(ml_df['treatment_11_']==1)]\n",
    "catt_bd_df['treat'] = np.where(catt_bd_df.treatment_11_==1,1,0)\n",
    "\n",
    "\n",
    "\n",
    "#care-costs b/d\n",
    "nd = len(catt_bd_df[catt_bd_df['treat']==1]['treat'])\n",
    "cc_d = np.mean(catt_bd_df[catt_bd_df['treat']==1]['psico_custos_tot'])\n",
    "cc_b = np.mean(catt_bd_df[catt_bd_df['treat']==0]['psico_custos_tot'])\n",
    "\n",
    "care_cost_db = np.sum(-catt_bd_df[catt_bd_df['treat']==1]['delta_daly'])/(nd*cc_d) - np.sum(catt_bd_df[catt_bd_df['treat']==1]['delta_daly'])/(nd*cc_b)\n",
    "\n",
    "#catt_dd\n",
    "dr_did.fit(catt_dd_df[['member_age', 'is_male', 'daly_t0']].to_numpy(),catt_dd_df.treat, catt_dd_df.discharged) \n",
    "catt_dd = p_treat_11_*dr_did.att_mean\n",
    "catt_dd_lb = p_treat_11_*(dr_did.att_mean - 1.96*dr_did.att_sd)\n",
    "catt_dd_ub = p_treat_11_*(dr_did.att_mean + 1.96*dr_did.att_sd)\n",
    "\n",
    "#catt_da\n",
    "dr_did.fit(catt_aa_df[['member_age', 'is_male', 'daly_t0']].to_numpy(),catt_aa_df.treat, catt_aa_df.discharged) \n",
    "catt_aa = dr_did.att_mean\n",
    "catt_aa_lb = (dr_did.att_mean - 1.96*dr_did.att_sd)\n",
    "catt_aa_ub = (dr_did.att_mean + 1.96*dr_did.att_sd)\n",
    "\n",
    "dr_did.fit(catt_ad_df[['member_age', 'is_male', 'daly_t0']].to_numpy(),catt_ad_df.treat, catt_ad_df.discharged) \n",
    "catt_ad = dr_did.att_mean\n",
    "catt_ad_lb = (dr_did.att_mean - 1.96*dr_did.att_sd)\n",
    "catt_ad_ub = (dr_did.att_mean + 1.96*dr_did.att_sd)\n",
    "\n",
    "catt_da = p_treat_0_4*(catt_aa-catt_ad)\n",
    "catt_da_lb = p_treat_0_4*np.fmin((catt_aa_lb-catt_ad_ub),(catt_aa_lb - catt_ad_lb))\n",
    "catt_da_ub = p_treat_0_4*np.fmax((catt_aa_ub-catt_ad_ub),(catt_aa_ub - catt_ad_lb)) \n",
    "\n",
    "\n",
    "\n",
    "#catt_db\n",
    "dr_did.fit(catt_bb_df[['member_age', 'is_male', 'daly_t0']].to_numpy(),catt_bb_df.treat, catt_bb_df.discharged) \n",
    "catt_bb = dr_did.att_mean\n",
    "catt_bd_lb = (dr_did.att_mean - 1.96*dr_did.att_sd)\n",
    "catt_bd_ub = (dr_did.att_mean + 1.96*dr_did.att_sd)\n",
    "\n",
    "dr_did.fit(catt_bd_df[['member_age', 'is_male', 'daly_t0']].to_numpy(),catt_bd_df.treat, catt_bd_df.discharged) \n",
    "catt_bd = dr_did.att_mean\n",
    "catt_bd_lb = (dr_did.att_mean - 1.96*dr_did.att_sd)\n",
    "catt_bd_ub = (dr_did.att_mean + 1.96*dr_did.att_sd)\n",
    "\n",
    "catt_db = p_treat_5_10*(catt_bb-catt_bd)\n",
    "catt_db_lb = p_treat_5_10*np.fmin((catt_bb_lb-catt_bd_ub),(catt_bb_lb - catt_bd_lb))\n",
    "catt_db_ub = p_treat_5_10*np.fmax((catt_bb_ub-catt_bd_ub),(catt_bb_ub - catt_bd_lb))\n",
    "#\n",
    "ate_11_ = catt_dd + catt_da + catt_db\n",
    "cost_eff_11_ = 10000*(care_cost_dd*catt_dd + care_cost_da*catt_da + care_cost_db*catt_db)  \n",
    "cost_eff_11_lb = 10000*(care_cost_dd*catt_dd_lb + care_cost_da*catt_da_lb + care_cost_db*catt_db_lb)\n",
    "cost_eff_11_ub = 10000*(care_cost_dd*catt_dd_ub + care_cost_da*catt_da_ub + care_cost_db*catt_db_ub)\n"
   ]
  },
  {
   "cell_type": "markdown",
   "metadata": {},
   "source": [
    "#### cost-effectivenss prints"
   ]
  },
  {
   "cell_type": "code",
   "execution_count": 58,
   "metadata": {},
   "outputs": [
    {
     "name": "stdout",
     "output_type": "stream",
     "text": [
      "0.9182066984453097 1.068132388198055 1.2180580779508001\n"
     ]
    }
   ],
   "source": [
    "print(cost_eff_0_4_lb,cost_eff_0_4,cost_eff_0_4_ub)"
   ]
  },
  {
   "cell_type": "code",
   "execution_count": 59,
   "metadata": {},
   "outputs": [
    {
     "name": "stdout",
     "output_type": "stream",
     "text": [
      "0.48069755905022965 0.597325010781185 0.7139524625121404\n"
     ]
    }
   ],
   "source": [
    "print(cost_eff_5_10_lb,cost_eff_5_10,cost_eff_5_10_ub)"
   ]
  },
  {
   "cell_type": "code",
   "execution_count": 60,
   "metadata": {},
   "outputs": [
    {
     "name": "stdout",
     "output_type": "stream",
     "text": [
      "nan nan nan\n"
     ]
    }
   ],
   "source": [
    "print(cost_eff_11_lb,cost_eff_11_,cost_eff_11_ub)"
   ]
  },
  {
   "cell_type": "markdown",
   "metadata": {},
   "source": [
    "***"
   ]
  },
  {
   "cell_type": "markdown",
   "metadata": {},
   "source": [
    "# 2. Model & Analysis of cATE\n"
   ]
  }
 ],
 "metadata": {
  "instance_type": "ml.t3.medium",
  "kernelspec": {
   "display_name": "Python 3.9.2 64-bit",
   "language": "python",
   "name": "python3"
  },
  "language_info": {
   "codemirror_mode": {
    "name": "ipython",
    "version": 3
   },
   "file_extension": ".py",
   "mimetype": "text/x-python",
   "name": "python",
   "nbconvert_exporter": "python",
   "pygments_lexer": "ipython3",
   "version": "3.9.2"
  },
  "vscode": {
   "interpreter": {
    "hash": "aee8b7b246df8f9039afb4144a1f6fd8d2ca17a180786b69acc140d282b71a49"
   }
  }
 },
 "nbformat": 4,
 "nbformat_minor": 4
}
