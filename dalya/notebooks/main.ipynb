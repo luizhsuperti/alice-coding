{
 "cells": [
  {
   "cell_type": "markdown",
   "metadata": {},
   "source": [
    "# DALYA (Automated Learning and Inference for Causal Effects)\n",
    "\n",
    "- Setup;\n",
    "- Import tables;\n",
    "- Transform;\n",
    "- Export `.csv`."
   ]
  },
  {
   "cell_type": "markdown",
   "metadata": {},
   "source": [
    "# 0. Setup"
   ]
  },
  {
   "cell_type": "code",
   "execution_count": 7,
   "metadata": {},
   "outputs": [],
   "source": [
    "#standard packages\n",
    "import pandas as pd\n",
    "import numpy as np\n",
    "import os\n",
    "#import warnings\n",
    "import warnings\n",
    "warnings.filterwarnings('ignore')\n",
    "\n",
    "#machine-learning packages\n",
    "from sklearn.model_selection import train_test_split\n",
    "from sklearn.model_selection import RandomizedSearchCV\n",
    "import dowhy\n",
    "from dowhy import CausalModel\n",
    "\n",
    "#image, visualization\n",
    "import matplotlib.pyplot as plt\n",
    "import seaborn as sns"
   ]
  },
  {
   "cell_type": "markdown",
   "metadata": {},
   "source": [
    "***"
   ]
  },
  {
   "cell_type": "markdown",
   "metadata": {},
   "source": [
    "# 1. Import transformed table & pre-(pre-process)"
   ]
  },
  {
   "cell_type": "code",
   "execution_count": 8,
   "metadata": {},
   "outputs": [
    {
     "data": {
      "text/html": [
       "<div>\n",
       "<style scoped>\n",
       "    .dataframe tbody tr th:only-of-type {\n",
       "        vertical-align: middle;\n",
       "    }\n",
       "\n",
       "    .dataframe tbody tr th {\n",
       "        vertical-align: top;\n",
       "    }\n",
       "\n",
       "    .dataframe thead th {\n",
       "        text-align: right;\n",
       "    }\n",
       "</style>\n",
       "<table border=\"1\" class=\"dataframe\">\n",
       "  <thead>\n",
       "    <tr style=\"text-align: right;\">\n",
       "      <th></th>\n",
       "      <th>program_name</th>\n",
       "      <th>program_severity</th>\n",
       "      <th>is_male</th>\n",
       "      <th>is_trans</th>\n",
       "      <th>member_age</th>\n",
       "      <th>total_mths</th>\n",
       "      <th>psico_qt_consultas</th>\n",
       "      <th>psiqui_qt_consultas</th>\n",
       "      <th>discharged</th>\n",
       "      <th>psico_custos_tot</th>\n",
       "      <th>psiqui_custos_tot</th>\n",
       "      <th>treatment_group</th>\n",
       "      <th>daly_t0</th>\n",
       "      <th>daly_t1</th>\n",
       "      <th>delta_daly</th>\n",
       "    </tr>\n",
       "  </thead>\n",
       "  <tbody>\n",
       "    <tr>\n",
       "      <th>0</th>\n",
       "      <td>Ansiedade LEVE</td>\n",
       "      <td>leve</td>\n",
       "      <td>1</td>\n",
       "      <td>0</td>\n",
       "      <td>35.0</td>\n",
       "      <td>14</td>\n",
       "      <td>9.0</td>\n",
       "      <td>0.0</td>\n",
       "      <td>0</td>\n",
       "      <td>0.0</td>\n",
       "      <td>0.0</td>\n",
       "      <td>1</td>\n",
       "      <td>0.030</td>\n",
       "      <td>0.030</td>\n",
       "      <td>0.000</td>\n",
       "    </tr>\n",
       "    <tr>\n",
       "      <th>1</th>\n",
       "      <td>Ansiedade MODERADA</td>\n",
       "      <td>moderada</td>\n",
       "      <td>1</td>\n",
       "      <td>0</td>\n",
       "      <td>36.0</td>\n",
       "      <td>3</td>\n",
       "      <td>1.0</td>\n",
       "      <td>0.0</td>\n",
       "      <td>0</td>\n",
       "      <td>150.0</td>\n",
       "      <td>0.0</td>\n",
       "      <td>1</td>\n",
       "      <td>0.030</td>\n",
       "      <td>0.030</td>\n",
       "      <td>0.000</td>\n",
       "    </tr>\n",
       "    <tr>\n",
       "      <th>2</th>\n",
       "      <td>Ansiedade LEVE</td>\n",
       "      <td>leve</td>\n",
       "      <td>0</td>\n",
       "      <td>0</td>\n",
       "      <td>32.0</td>\n",
       "      <td>8</td>\n",
       "      <td>7.0</td>\n",
       "      <td>0.0</td>\n",
       "      <td>0</td>\n",
       "      <td>560.0</td>\n",
       "      <td>0.0</td>\n",
       "      <td>1</td>\n",
       "      <td>0.030</td>\n",
       "      <td>0.523</td>\n",
       "      <td>0.493</td>\n",
       "    </tr>\n",
       "    <tr>\n",
       "      <th>3</th>\n",
       "      <td>Transtorno Tipo 1</td>\n",
       "      <td>tipo 1</td>\n",
       "      <td>0</td>\n",
       "      <td>0</td>\n",
       "      <td>33.0</td>\n",
       "      <td>4</td>\n",
       "      <td>5.0</td>\n",
       "      <td>0.0</td>\n",
       "      <td>1</td>\n",
       "      <td>630.0</td>\n",
       "      <td>0.0</td>\n",
       "      <td>1</td>\n",
       "      <td>0.523</td>\n",
       "      <td>0.000</td>\n",
       "      <td>-0.523</td>\n",
       "    </tr>\n",
       "    <tr>\n",
       "      <th>4</th>\n",
       "      <td>Transtorno Tipo 1</td>\n",
       "      <td>tipo 1</td>\n",
       "      <td>0</td>\n",
       "      <td>0</td>\n",
       "      <td>26.0</td>\n",
       "      <td>6</td>\n",
       "      <td>6.0</td>\n",
       "      <td>3.0</td>\n",
       "      <td>1</td>\n",
       "      <td>750.0</td>\n",
       "      <td>1050.0</td>\n",
       "      <td>1</td>\n",
       "      <td>0.000</td>\n",
       "      <td>0.000</td>\n",
       "      <td>0.000</td>\n",
       "    </tr>\n",
       "  </tbody>\n",
       "</table>\n",
       "</div>"
      ],
      "text/plain": [
       "         program_name program_severity  is_male  is_trans  member_age  \\\n",
       "0      Ansiedade LEVE             leve        1         0        35.0   \n",
       "1  Ansiedade MODERADA         moderada        1         0        36.0   \n",
       "2      Ansiedade LEVE             leve        0         0        32.0   \n",
       "3   Transtorno Tipo 1           tipo 1        0         0        33.0   \n",
       "4   Transtorno Tipo 1           tipo 1        0         0        26.0   \n",
       "\n",
       "   total_mths  psico_qt_consultas  psiqui_qt_consultas  discharged  \\\n",
       "0          14                 9.0                  0.0           0   \n",
       "1           3                 1.0                  0.0           0   \n",
       "2           8                 7.0                  0.0           0   \n",
       "3           4                 5.0                  0.0           1   \n",
       "4           6                 6.0                  3.0           1   \n",
       "\n",
       "   psico_custos_tot  psiqui_custos_tot  treatment_group  daly_t0  daly_t1  \\\n",
       "0               0.0                0.0                1    0.030    0.030   \n",
       "1             150.0                0.0                1    0.030    0.030   \n",
       "2             560.0                0.0                1    0.030    0.523   \n",
       "3             630.0                0.0                1    0.523    0.000   \n",
       "4             750.0             1050.0                1    0.000    0.000   \n",
       "\n",
       "   delta_daly  \n",
       "0       0.000  \n",
       "1       0.000  \n",
       "2       0.493  \n",
       "3      -0.523  \n",
       "4       0.000  "
      ]
     },
     "execution_count": 8,
     "metadata": {},
     "output_type": "execute_result"
    }
   ],
   "source": [
    "sm_df = pd.read_csv('/Users/luiz.superti/Documents/GitHub/alice-coding/ML-models/dalya/csv/alice_sm_train_df.csv')\n",
    "sm_df.drop(columns = 'member_internal_code', inplace = True)\n",
    "\n",
    "sm_df['daly_t0'].fillna(0, inplace = True)\n",
    "sm_df['daly_t0'] = sm_df['daly_t0']\n",
    "sm_df['daly_t1'].fillna(0, inplace = True)\n",
    "sm_df['daly_t1'] = sm_df['daly_t1']\n",
    "\n",
    "sm_df['delta_daly'] = sm_df['daly_t1'] - sm_df['daly_t0']\n",
    "sm_df.loc[sm_df['treatment_group']==0, 'discharged'] = 1 - sm_df['discharged']\n",
    "sm_df.head(5)"
   ]
  },
  {
   "cell_type": "code",
   "execution_count": 9,
   "metadata": {},
   "outputs": [],
   "source": [
    "### Treatment\n",
    "sm_df['base_control'] = np.where(sm_df['treatment_group']==0,1,0)\n",
    "sm_df['treatment_0_4'] = np.where((sm_df['treatment_group']==1) & (sm_df['psico_qt_consultas']>=4) & (sm_df['psico_qt_consultas']<=7),1,0)\n",
    "sm_df['treatment_5_10'] = np.where((sm_df['treatment_group']==1) & (sm_df['psico_qt_consultas']>=8) & (sm_df['psico_qt_consultas']<=11),1,0)\n",
    "sm_df['treatment_11_'] = np.where((sm_df['treatment_group']==1) & (sm_df['psico_qt_consultas']>11),1,0)\n",
    "sm_df['treatment_0_10'] = np.where((sm_df['treatment_group']==1) & (sm_df['psico_qt_consultas']>=0) & (sm_df['psico_qt_consultas']<=10),1,0)"
   ]
  },
  {
   "cell_type": "code",
   "execution_count": 10,
   "metadata": {},
   "outputs": [],
   "source": [
    "ml_df = sm_df[((sm_df['program_severity'].isna()==True)|(sm_df['program_severity']=='tipo 1')|(sm_df['program_severity']=='tipo 2'))][['member_age','is_male','daly_t0', 'delta_daly','base_control','treatment_0_4','psico_custos_tot','treatment_0_10', 'treatment_5_10', 'treatment_11_', 'discharged', 'total_mths']]"
   ]
  },
  {
   "cell_type": "code",
   "execution_count": 11,
   "metadata": {},
   "outputs": [],
   "source": [
    "#cATT(d|d), for d = treat_0_10\n",
    "#We have to restrict base control and treatment_0_10\n",
    "catt_dd_df = ml_df[(ml_df['base_control']==1)|(ml_df['treatment_0_10']==1)]\n",
    "catt_dd_df['treat'] = np.where(catt_dd_df.treatment_0_10==1,1,0)"
   ]
  },
  {
   "cell_type": "code",
   "execution_count": 12,
   "metadata": {},
   "outputs": [
    {
     "data": {
      "text/html": [
       "<div>\n",
       "<style scoped>\n",
       "    .dataframe tbody tr th:only-of-type {\n",
       "        vertical-align: middle;\n",
       "    }\n",
       "\n",
       "    .dataframe tbody tr th {\n",
       "        vertical-align: top;\n",
       "    }\n",
       "\n",
       "    .dataframe thead th {\n",
       "        text-align: right;\n",
       "    }\n",
       "</style>\n",
       "<table border=\"1\" class=\"dataframe\">\n",
       "  <thead>\n",
       "    <tr style=\"text-align: right;\">\n",
       "      <th></th>\n",
       "      <th>member_age</th>\n",
       "      <th>is_male</th>\n",
       "      <th>daly_t0</th>\n",
       "      <th>delta_daly</th>\n",
       "      <th>base_control</th>\n",
       "      <th>treatment_0_4</th>\n",
       "      <th>psico_custos_tot</th>\n",
       "      <th>treatment_0_10</th>\n",
       "      <th>treatment_5_10</th>\n",
       "      <th>treatment_11_</th>\n",
       "      <th>discharged</th>\n",
       "      <th>total_mths</th>\n",
       "      <th>treat</th>\n",
       "    </tr>\n",
       "  </thead>\n",
       "  <tbody>\n",
       "    <tr>\n",
       "      <th>3</th>\n",
       "      <td>33.0</td>\n",
       "      <td>0</td>\n",
       "      <td>0.523</td>\n",
       "      <td>-0.523</td>\n",
       "      <td>0</td>\n",
       "      <td>1</td>\n",
       "      <td>630.0</td>\n",
       "      <td>1</td>\n",
       "      <td>0</td>\n",
       "      <td>0</td>\n",
       "      <td>1</td>\n",
       "      <td>4</td>\n",
       "      <td>1</td>\n",
       "    </tr>\n",
       "    <tr>\n",
       "      <th>4</th>\n",
       "      <td>26.0</td>\n",
       "      <td>0</td>\n",
       "      <td>0.000</td>\n",
       "      <td>0.000</td>\n",
       "      <td>0</td>\n",
       "      <td>1</td>\n",
       "      <td>750.0</td>\n",
       "      <td>1</td>\n",
       "      <td>0</td>\n",
       "      <td>0</td>\n",
       "      <td>1</td>\n",
       "      <td>6</td>\n",
       "      <td>1</td>\n",
       "    </tr>\n",
       "    <tr>\n",
       "      <th>5</th>\n",
       "      <td>26.0</td>\n",
       "      <td>0</td>\n",
       "      <td>0.032</td>\n",
       "      <td>-0.032</td>\n",
       "      <td>0</td>\n",
       "      <td>0</td>\n",
       "      <td>300.0</td>\n",
       "      <td>1</td>\n",
       "      <td>0</td>\n",
       "      <td>0</td>\n",
       "      <td>1</td>\n",
       "      <td>9</td>\n",
       "      <td>1</td>\n",
       "    </tr>\n",
       "    <tr>\n",
       "      <th>6</th>\n",
       "      <td>33.0</td>\n",
       "      <td>0</td>\n",
       "      <td>0.000</td>\n",
       "      <td>0.000</td>\n",
       "      <td>0</td>\n",
       "      <td>0</td>\n",
       "      <td>0.0</td>\n",
       "      <td>1</td>\n",
       "      <td>0</td>\n",
       "      <td>0</td>\n",
       "      <td>0</td>\n",
       "      <td>7</td>\n",
       "      <td>1</td>\n",
       "    </tr>\n",
       "    <tr>\n",
       "      <th>9</th>\n",
       "      <td>26.0</td>\n",
       "      <td>0</td>\n",
       "      <td>0.132</td>\n",
       "      <td>-0.132</td>\n",
       "      <td>0</td>\n",
       "      <td>1</td>\n",
       "      <td>2400.0</td>\n",
       "      <td>1</td>\n",
       "      <td>0</td>\n",
       "      <td>0</td>\n",
       "      <td>1</td>\n",
       "      <td>6</td>\n",
       "      <td>1</td>\n",
       "    </tr>\n",
       "    <tr>\n",
       "      <th>14</th>\n",
       "      <td>27.0</td>\n",
       "      <td>1</td>\n",
       "      <td>0.523</td>\n",
       "      <td>-0.523</td>\n",
       "      <td>0</td>\n",
       "      <td>0</td>\n",
       "      <td>630.0</td>\n",
       "      <td>1</td>\n",
       "      <td>0</td>\n",
       "      <td>0</td>\n",
       "      <td>1</td>\n",
       "      <td>4</td>\n",
       "      <td>1</td>\n",
       "    </tr>\n",
       "    <tr>\n",
       "      <th>16</th>\n",
       "      <td>25.0</td>\n",
       "      <td>0</td>\n",
       "      <td>0.000</td>\n",
       "      <td>0.000</td>\n",
       "      <td>0</td>\n",
       "      <td>1</td>\n",
       "      <td>1500.0</td>\n",
       "      <td>1</td>\n",
       "      <td>0</td>\n",
       "      <td>0</td>\n",
       "      <td>0</td>\n",
       "      <td>5</td>\n",
       "      <td>1</td>\n",
       "    </tr>\n",
       "    <tr>\n",
       "      <th>17</th>\n",
       "      <td>29.0</td>\n",
       "      <td>0</td>\n",
       "      <td>0.523</td>\n",
       "      <td>-0.523</td>\n",
       "      <td>0</td>\n",
       "      <td>0</td>\n",
       "      <td>750.0</td>\n",
       "      <td>1</td>\n",
       "      <td>0</td>\n",
       "      <td>0</td>\n",
       "      <td>1</td>\n",
       "      <td>3</td>\n",
       "      <td>1</td>\n",
       "    </tr>\n",
       "    <tr>\n",
       "      <th>18</th>\n",
       "      <td>29.0</td>\n",
       "      <td>0</td>\n",
       "      <td>0.568</td>\n",
       "      <td>-0.568</td>\n",
       "      <td>0</td>\n",
       "      <td>1</td>\n",
       "      <td>1350.0</td>\n",
       "      <td>1</td>\n",
       "      <td>0</td>\n",
       "      <td>0</td>\n",
       "      <td>1</td>\n",
       "      <td>4</td>\n",
       "      <td>1</td>\n",
       "    </tr>\n",
       "    <tr>\n",
       "      <th>19</th>\n",
       "      <td>30.0</td>\n",
       "      <td>0</td>\n",
       "      <td>0.000</td>\n",
       "      <td>0.000</td>\n",
       "      <td>0</td>\n",
       "      <td>1</td>\n",
       "      <td>3300.0</td>\n",
       "      <td>1</td>\n",
       "      <td>0</td>\n",
       "      <td>0</td>\n",
       "      <td>1</td>\n",
       "      <td>11</td>\n",
       "      <td>1</td>\n",
       "    </tr>\n",
       "  </tbody>\n",
       "</table>\n",
       "</div>"
      ],
      "text/plain": [
       "    member_age  is_male  daly_t0  delta_daly  base_control  treatment_0_4  \\\n",
       "3         33.0        0    0.523      -0.523             0              1   \n",
       "4         26.0        0    0.000       0.000             0              1   \n",
       "5         26.0        0    0.032      -0.032             0              0   \n",
       "6         33.0        0    0.000       0.000             0              0   \n",
       "9         26.0        0    0.132      -0.132             0              1   \n",
       "14        27.0        1    0.523      -0.523             0              0   \n",
       "16        25.0        0    0.000       0.000             0              1   \n",
       "17        29.0        0    0.523      -0.523             0              0   \n",
       "18        29.0        0    0.568      -0.568             0              1   \n",
       "19        30.0        0    0.000       0.000             0              1   \n",
       "\n",
       "    psico_custos_tot  treatment_0_10  treatment_5_10  treatment_11_  \\\n",
       "3              630.0               1               0              0   \n",
       "4              750.0               1               0              0   \n",
       "5              300.0               1               0              0   \n",
       "6                0.0               1               0              0   \n",
       "9             2400.0               1               0              0   \n",
       "14             630.0               1               0              0   \n",
       "16            1500.0               1               0              0   \n",
       "17             750.0               1               0              0   \n",
       "18            1350.0               1               0              0   \n",
       "19            3300.0               1               0              0   \n",
       "\n",
       "    discharged  total_mths  treat  \n",
       "3            1           4      1  \n",
       "4            1           6      1  \n",
       "5            1           9      1  \n",
       "6            0           7      1  \n",
       "9            1           6      1  \n",
       "14           1           4      1  \n",
       "16           0           5      1  \n",
       "17           1           3      1  \n",
       "18           1           4      1  \n",
       "19           1          11      1  "
      ]
     },
     "execution_count": 12,
     "metadata": {},
     "output_type": "execute_result"
    }
   ],
   "source": [
    "catt_dd_df.head(10)"
   ]
  },
  {
   "cell_type": "code",
   "execution_count": 15,
   "metadata": {},
   "outputs": [],
   "source": [
    "base_model = CausalModel(data = ml_df[['discharged','treatment_0_10','daly_t0', 'member_age', 'is_male']],\n",
    "                         treatment = 'treatment_0_10',\n",
    "                         outcome= 'delta_daly',\n",
    "                         common_causes = ['member_age', 'is_male'])\n"
   ]
  },
  {
   "cell_type": "code",
   "execution_count": 16,
   "metadata": {},
   "outputs": [
    {
     "data": {
      "text/plain": [
       "0    851\n",
       "1     53\n",
       "Name: discharged, dtype: int64"
      ]
     },
     "execution_count": 16,
     "metadata": {},
     "output_type": "execute_result"
    }
   ],
   "source": [
    "catt_dd_df[catt_dd_df['base_control']==1]['discharged'].value_counts()"
   ]
  },
  {
   "cell_type": "code",
   "execution_count": 17,
   "metadata": {},
   "outputs": [
    {
     "data": {
      "image/png": "[encoded data removed]",
      "text/plain": [
       "<Figure size 576x432 with 1 Axes>"
      ]
     },
     "metadata": {},
     "output_type": "display_data"
    }
   ],
   "source": [
    "base_model.view_model()"
   ]
  },
  {
   "cell_type": "code",
   "execution_count": 33,
   "metadata": {},
   "outputs": [
    {
     "name": "stdout",
     "output_type": "stream",
     "text": [
      "Estimand type: nonparametric-ate\n",
      "\n",
      "### Estimand : 1\n",
      "Estimand name: backdoor\n",
      "Estimand expression:\n",
      "       d                                                  \n",
      "────────────────(E[discharged|is_male,daly_t0,member_age])\n",
      "d[treatment₀ ₁₀]                                          \n",
      "Estimand assumption 1, Unconfoundedness: If U→{treatment_0_10} and U→discharged then P(discharged|treatment_0_10,is_male,daly_t0,member_age,U) = P(discharged|treatment_0_10,is_male,daly_t0,member_age)\n",
      "\n",
      "### Estimand : 2\n",
      "Estimand name: iv\n",
      "No such variable(s) found!\n",
      "\n",
      "### Estimand : 3\n",
      "Estimand name: frontdoor\n",
      "No such variable(s) found!\n",
      "\n"
     ]
    }
   ],
   "source": [
    "identified_estimand = base_model.identify_effect(proceed_when_unidentifiable=True)\n",
    "print(identified_estimand)"
   ]
  },
  {
   "cell_type": "markdown",
   "metadata": {},
   "source": [
    "No Dowhy, primeiro precisamos setar o baseModel, que é onde deixamos o dataframe pandas, com as variaveis tratamento, outcome, e covariadas (common causes). A instancia .identifiy_effect faz o grafico para mostrar o estimando do efeito causal.\n",
    "\n",
    "\n",
    "Para o nosso DRDiD, precisamos modificar o .estimate_effect, que entra o identified estimand, com um method_name). O method name é que entraria o DRDiD mais simples"
   ]
  },
  {
   "cell_type": "code",
   "execution_count": null,
   "metadata": {},
   "outputs": [],
   "source": [
    "estimate = base_model.estimate_effect(identified_estimand,\n",
    "                                 method_name=\"backdoor.propensity_score_stratification\")         \n",
    "print(estimate)\n",
    "print(\"Causal Estimate is \" + str(estimate.value))"
   ]
  },
  {
   "cell_type": "code",
   "execution_count": null,
   "metadata": {},
   "outputs": [],
   "source": []
  },
  {
   "cell_type": "code",
   "execution_count": null,
   "metadata": {},
   "outputs": [],
   "source": []
  },
  {
   "cell_type": "code",
   "execution_count": null,
   "metadata": {},
   "outputs": [],
   "source": []
  },
  {
   "cell_type": "code",
   "execution_count": null,
   "metadata": {},
   "outputs": [],
   "source": []
  },
  {
   "cell_type": "markdown",
   "metadata": {},
   "source": [
    "****"
   ]
  },
  {
   "cell_type": "code",
   "execution_count": 18,
   "metadata": {},
   "outputs": [
    {
     "data": {
      "text/html": [
       "<div>\n",
       "<style scoped>\n",
       "    .dataframe tbody tr th:only-of-type {\n",
       "        vertical-align: middle;\n",
       "    }\n",
       "\n",
       "    .dataframe tbody tr th {\n",
       "        vertical-align: top;\n",
       "    }\n",
       "\n",
       "    .dataframe thead th {\n",
       "        text-align: right;\n",
       "    }\n",
       "</style>\n",
       "<table border=\"1\" class=\"dataframe\">\n",
       "  <thead>\n",
       "    <tr style=\"text-align: right;\">\n",
       "      <th></th>\n",
       "      <th>Z0</th>\n",
       "      <th>Z1</th>\n",
       "      <th>W0</th>\n",
       "      <th>W1</th>\n",
       "      <th>W2</th>\n",
       "      <th>W3</th>\n",
       "      <th>W4</th>\n",
       "      <th>v0</th>\n",
       "      <th>y</th>\n",
       "    </tr>\n",
       "  </thead>\n",
       "  <tbody>\n",
       "    <tr>\n",
       "      <th>0</th>\n",
       "      <td>1.0</td>\n",
       "      <td>0.845201</td>\n",
       "      <td>-1.941082</td>\n",
       "      <td>0.519187</td>\n",
       "      <td>0.644934</td>\n",
       "      <td>0.001550</td>\n",
       "      <td>1.149972</td>\n",
       "      <td>True</td>\n",
       "      <td>8.017748</td>\n",
       "    </tr>\n",
       "    <tr>\n",
       "      <th>1</th>\n",
       "      <td>0.0</td>\n",
       "      <td>0.837583</td>\n",
       "      <td>-1.368542</td>\n",
       "      <td>-1.295909</td>\n",
       "      <td>1.320892</td>\n",
       "      <td>0.426058</td>\n",
       "      <td>0.763225</td>\n",
       "      <td>True</td>\n",
       "      <td>9.435173</td>\n",
       "    </tr>\n",
       "    <tr>\n",
       "      <th>2</th>\n",
       "      <td>0.0</td>\n",
       "      <td>0.253142</td>\n",
       "      <td>-2.837295</td>\n",
       "      <td>-2.296692</td>\n",
       "      <td>-0.074001</td>\n",
       "      <td>0.928185</td>\n",
       "      <td>0.828946</td>\n",
       "      <td>False</td>\n",
       "      <td>-10.152664</td>\n",
       "    </tr>\n",
       "    <tr>\n",
       "      <th>3</th>\n",
       "      <td>0.0</td>\n",
       "      <td>0.870248</td>\n",
       "      <td>1.114219</td>\n",
       "      <td>-4.152724</td>\n",
       "      <td>0.421994</td>\n",
       "      <td>0.620473</td>\n",
       "      <td>-1.095595</td>\n",
       "      <td>True</td>\n",
       "      <td>7.860360</td>\n",
       "    </tr>\n",
       "    <tr>\n",
       "      <th>4</th>\n",
       "      <td>0.0</td>\n",
       "      <td>0.883528</td>\n",
       "      <td>0.152124</td>\n",
       "      <td>0.215479</td>\n",
       "      <td>1.532346</td>\n",
       "      <td>0.929882</td>\n",
       "      <td>-0.997254</td>\n",
       "      <td>True</td>\n",
       "      <td>14.840956</td>\n",
       "    </tr>\n",
       "    <tr>\n",
       "      <th>...</th>\n",
       "      <td>...</td>\n",
       "      <td>...</td>\n",
       "      <td>...</td>\n",
       "      <td>...</td>\n",
       "      <td>...</td>\n",
       "      <td>...</td>\n",
       "      <td>...</td>\n",
       "      <td>...</td>\n",
       "      <td>...</td>\n",
       "    </tr>\n",
       "    <tr>\n",
       "      <th>9995</th>\n",
       "      <td>1.0</td>\n",
       "      <td>0.987641</td>\n",
       "      <td>1.655326</td>\n",
       "      <td>-1.868185</td>\n",
       "      <td>0.343719</td>\n",
       "      <td>-0.054250</td>\n",
       "      <td>1.255434</td>\n",
       "      <td>True</td>\n",
       "      <td>17.862407</td>\n",
       "    </tr>\n",
       "    <tr>\n",
       "      <th>9996</th>\n",
       "      <td>1.0</td>\n",
       "      <td>0.283482</td>\n",
       "      <td>-1.427279</td>\n",
       "      <td>-2.201633</td>\n",
       "      <td>-1.436415</td>\n",
       "      <td>-0.972712</td>\n",
       "      <td>-1.500732</td>\n",
       "      <td>False</td>\n",
       "      <td>-19.499982</td>\n",
       "    </tr>\n",
       "    <tr>\n",
       "      <th>9997</th>\n",
       "      <td>0.0</td>\n",
       "      <td>0.425376</td>\n",
       "      <td>0.670560</td>\n",
       "      <td>0.398291</td>\n",
       "      <td>-0.491913</td>\n",
       "      <td>0.721454</td>\n",
       "      <td>1.925341</td>\n",
       "      <td>True</td>\n",
       "      <td>19.046494</td>\n",
       "    </tr>\n",
       "    <tr>\n",
       "      <th>9998</th>\n",
       "      <td>1.0</td>\n",
       "      <td>0.316240</td>\n",
       "      <td>-2.841384</td>\n",
       "      <td>-0.144855</td>\n",
       "      <td>1.200957</td>\n",
       "      <td>2.157929</td>\n",
       "      <td>0.423847</td>\n",
       "      <td>True</td>\n",
       "      <td>8.711185</td>\n",
       "    </tr>\n",
       "    <tr>\n",
       "      <th>9999</th>\n",
       "      <td>0.0</td>\n",
       "      <td>0.422247</td>\n",
       "      <td>-0.421112</td>\n",
       "      <td>-2.713465</td>\n",
       "      <td>1.514361</td>\n",
       "      <td>1.174313</td>\n",
       "      <td>-0.629898</td>\n",
       "      <td>True</td>\n",
       "      <td>9.697097</td>\n",
       "    </tr>\n",
       "  </tbody>\n",
       "</table>\n",
       "<p>10000 rows × 9 columns</p>\n",
       "</div>"
      ],
      "text/plain": [
       "       Z0        Z1        W0        W1        W2        W3        W4     v0  \\\n",
       "0     1.0  0.845201 -1.941082  0.519187  0.644934  0.001550  1.149972   True   \n",
       "1     0.0  0.837583 -1.368542 -1.295909  1.320892  0.426058  0.763225   True   \n",
       "2     0.0  0.253142 -2.837295 -2.296692 -0.074001  0.928185  0.828946  False   \n",
       "3     0.0  0.870248  1.114219 -4.152724  0.421994  0.620473 -1.095595   True   \n",
       "4     0.0  0.883528  0.152124  0.215479  1.532346  0.929882 -0.997254   True   \n",
       "...   ...       ...       ...       ...       ...       ...       ...    ...   \n",
       "9995  1.0  0.987641  1.655326 -1.868185  0.343719 -0.054250  1.255434   True   \n",
       "9996  1.0  0.283482 -1.427279 -2.201633 -1.436415 -0.972712 -1.500732  False   \n",
       "9997  0.0  0.425376  0.670560  0.398291 -0.491913  0.721454  1.925341   True   \n",
       "9998  1.0  0.316240 -2.841384 -0.144855  1.200957  2.157929  0.423847   True   \n",
       "9999  0.0  0.422247 -0.421112 -2.713465  1.514361  1.174313 -0.629898   True   \n",
       "\n",
       "              y  \n",
       "0      8.017748  \n",
       "1      9.435173  \n",
       "2    -10.152664  \n",
       "3      7.860360  \n",
       "4     14.840956  \n",
       "...         ...  \n",
       "9995  17.862407  \n",
       "9996 -19.499982  \n",
       "9997  19.046494  \n",
       "9998   8.711185  \n",
       "9999   9.697097  \n",
       "\n",
       "[10000 rows x 9 columns]"
      ]
     },
     "execution_count": 18,
     "metadata": {},
     "output_type": "execute_result"
    }
   ],
   "source": [
    "import dowhy.datasets \n",
    "data = dowhy.datasets.linear_dataset(beta=10,\n",
    "        num_common_causes=5, \n",
    "        num_instruments = 2,\n",
    "        num_treatments=1,\n",
    "        num_samples=10000,\n",
    "        treatment_is_binary=True,\n",
    "        outcome_is_binary=False,\n",
    "        stddev_treatment_noise=10)\n",
    "df = data[\"df\"]\n",
    "df"
   ]
  },
  {
   "cell_type": "code",
   "execution_count": 19,
   "metadata": {},
   "outputs": [],
   "source": [
    "# With graph\n",
    "model=CausalModel(\n",
    "        data = df,\n",
    "        treatment=data[\"treatment_name\"],\n",
    "        outcome=data[\"outcome_name\"],\n",
    "        graph=data[\"gml_graph\"],\n",
    "        instruments=data[\"instrument_names\"]\n",
    "        )"
   ]
  },
  {
   "cell_type": "code",
   "execution_count": 20,
   "metadata": {},
   "outputs": [
    {
     "data": {
      "image/png": "[encoded data removed]",
      "text/plain": [
       "<Figure size 576x432 with 1 Axes>"
      ]
     },
     "metadata": {},
     "output_type": "display_data"
    }
   ],
   "source": [
    "model.view_model()\n"
   ]
  },
  {
   "cell_type": "code",
   "execution_count": 22,
   "metadata": {},
   "outputs": [
    {
     "name": "stdout",
     "output_type": "stream",
     "text": [
      "Estimand type: nonparametric-ate\n",
      "\n",
      "### Estimand : 1\n",
      "Estimand name: backdoor\n",
      "Estimand expression:\n",
      "  d                       \n",
      "─────(E[y|W2,W1,W4,W0,W3])\n",
      "d[v₀]                     \n",
      "Estimand assumption 1, Unconfoundedness: If U→{v0} and U→y then P(y|v0,W2,W1,W4,W0,W3,U) = P(y|v0,W2,W1,W4,W0,W3)\n",
      "\n",
      "### Estimand : 2\n",
      "Estimand name: iv\n",
      "Estimand expression:\n",
      " ⎡                              -1⎤\n",
      " ⎢    d        ⎛    d          ⎞  ⎥\n",
      "E⎢─────────(y)⋅⎜─────────([v₀])⎟  ⎥\n",
      " ⎣d[Z₀  Z₁]    ⎝d[Z₀  Z₁]      ⎠  ⎦\n",
      "Estimand assumption 1, As-if-random: If U→→y then ¬(U →→{Z0,Z1})\n",
      "Estimand assumption 2, Exclusion: If we remove {Z0,Z1}→{v0}, then ¬({Z0,Z1}→y)\n",
      "\n",
      "### Estimand : 3\n",
      "Estimand name: frontdoor\n",
      "No such variable(s) found!\n",
      "\n"
     ]
    }
   ],
   "source": [
    "identified_estimand = model.identify_effect(proceed_when_unidentifiable=True)\n",
    "print(identified_estimand)\n"
   ]
  },
  {
   "cell_type": "markdown",
   "metadata": {},
   "source": [
    "***"
   ]
  },
  {
   "cell_type": "code",
   "execution_count": 48,
   "metadata": {},
   "outputs": [],
   "source": [
    "#probability weights for ATE and cATE\n",
    "P_D_ = 1-np.mean(ml_df.base_control)\n",
    "p_treat_0_4 = np.mean(ml_df.treatment_0_4)/(1-np.mean(ml_df.base_control))\n",
    "p_treat_5_10 = np.mean(ml_df.treatment_5_10)/(1-np.mean(ml_df.base_control))\n",
    "p_treat_11_ = np.mean(ml_df.treatment_11_)/(1-np.mean(ml_df.base_control))"
   ]
  },
  {
   "cell_type": "code",
   "execution_count": 49,
   "metadata": {},
   "outputs": [],
   "source": [
    "p_treat_0_10 = np.mean(ml_df.treatment_0_10)/(1-np.mean(ml_df.base_control))"
   ]
  },
  {
   "cell_type": "code",
   "execution_count": 50,
   "metadata": {},
   "outputs": [
    {
     "name": "stdout",
     "output_type": "stream",
     "text": [
      "0.4517766497461929 0.18274111675126903 0.04568527918781726\n"
     ]
    }
   ],
   "source": [
    "print(p_treat_0_4,p_treat_5_10, p_treat_11_)"
   ]
  },
  {
   "cell_type": "code",
   "execution_count": 51,
   "metadata": {},
   "outputs": [
    {
     "data": {
      "text/plain": [
       "0.9238578680203047"
      ]
     },
     "execution_count": 51,
     "metadata": {},
     "output_type": "execute_result"
    }
   ],
   "source": [
    "p_treat_0_10"
   ]
  },
  {
   "cell_type": "code",
   "execution_count": 40,
   "metadata": {},
   "outputs": [
    {
     "name": "stdout",
     "output_type": "stream",
     "text": [
      "Project directory: /Users/luiz.superti/Documents/GitHub/alice-coding/ML-models/dalya\n"
     ]
    }
   ],
   "source": [
    "from setup import main as setup\n",
    "setup(env='vscode', project='dalya')\n",
    "from src.model import DrDidEstimator\n",
    "dr_did = DrDidEstimator()"
   ]
  },
  {
   "cell_type": "markdown",
   "metadata": {},
   "source": [
    "FULL ATE"
   ]
  },
  {
   "cell_type": "code",
   "execution_count": null,
   "metadata": {},
   "outputs": [],
   "source": [
    "catt_dd_df.loc[catt_dd_df['treat']==0, 'discharged'] "
   ]
  },
  {
   "cell_type": "code",
   "execution_count": 47,
   "metadata": {},
   "outputs": [
    {
     "name": "stdout",
     "output_type": "stream",
     "text": [
      "IPT estimation started\n",
      "IPT optimation success: True\n",
      "WLS estimation started\n",
      "WLS optimation success: True\n"
     ]
    }
   ],
   "source": [
    "#cATT(d|d), for d = treat_0_10\n",
    "#We have to restrict base control and treatment_0_10\n",
    "catt_dd_df = ml_df[(ml_df['base_control']==1)|(ml_df['treatment_0_10']==1)]\n",
    "catt_dd_df['treat'] = np.where(catt_dd_df.treatment_0_10==1,1,0)\n",
    "#catt_dd_df.loc[catt_dd_df['treat']==0, 'discharged'] = (catt_dd_df['discharged'] -1) * -1 \n",
    "\n",
    "care_cost_dd = np.sum(-catt_dd_df[catt_dd_df['discharged']==1]['delta_daly'])/np.sum(catt_dd_df[catt_dd_df['treat']==1]['psico_custos_tot'])\n",
    "\n",
    "#catt_da_df\n",
    "#We have to restrict the first alternative treatment a, and treatment_5_10, but ask for the base_control\n",
    "dr_did.fit(catt_dd_df[['member_age', 'is_male']].to_numpy(),catt_dd_df.treat, catt_dd_df.discharged) \n",
    "catt_dd = dr_did.att_mean\n",
    "catt_dd_lb = (dr_did.att_mean - 1.96*dr_did.att_sd)\n",
    "catt_dd_ub = (dr_did.att_mean + 1.96*dr_did.att_sd)\n"
   ]
  },
  {
   "cell_type": "code",
   "execution_count": 48,
   "metadata": {},
   "outputs": [
    {
     "data": {
      "text/plain": [
       "treat  discharged\n",
       "0      0             851\n",
       "1      1             484\n",
       "       0              94\n",
       "0      1              53\n",
       "dtype: int64"
      ]
     },
     "execution_count": 48,
     "metadata": {},
     "output_type": "execute_result"
    }
   ],
   "source": [
    "catt_dd_df[['treat', 'discharged']].value_counts()"
   ]
  },
  {
   "cell_type": "code",
   "execution_count": 44,
   "metadata": {},
   "outputs": [
    {
     "name": "stdout",
     "output_type": "stream",
     "text": [
      "-0.11548015809580384 -0.07559574319549403 -0.03571132829518423\n"
     ]
    }
   ],
   "source": [
    "print(catt_dd_lb, catt_dd, catt_dd_ub)"
   ]
  },
  {
   "cell_type": "markdown",
   "metadata": {},
   "source": [
    "#### ATE for d = 5 to 8"
   ]
  },
  {
   "cell_type": "code",
   "execution_count": 55,
   "metadata": {},
   "outputs": [
    {
     "name": "stdout",
     "output_type": "stream",
     "text": [
      "IPT estimation started\n",
      "IPT optimation success: True\n",
      "WLS estimation started\n",
      "WLS optimation success: True\n",
      "IPT estimation started\n",
      "IPT optimation success: True\n",
      "WLS estimation started\n",
      "WLS optimation success: True\n",
      "IPT estimation started\n",
      "IPT optimation success: True\n",
      "WLS estimation started\n",
      "WLS optimation success: True\n",
      "IPT estimation started\n",
      "IPT optimation success: True\n",
      "WLS estimation started\n",
      "WLS optimation success: True\n",
      "IPT estimation started\n",
      "IPT optimation success: True\n",
      "WLS estimation started\n",
      "WLS optimation success: True\n"
     ]
    }
   ],
   "source": [
    "#cATT(d|d), for d = treat_5_10\n",
    "#We have to restrict base control and treatment_5_10\n",
    "catt_dd_df = ml_df[(ml_df['base_control']==1)|(ml_df['treatment_5_10']==1)]\n",
    "catt_dd_df['treat'] = np.where(catt_dd_df.treatment_5_10==1,1,0)\n",
    "\n",
    "care_cost_dd = np.sum(-catt_dd_df[catt_dd_df['discharged']==1]['delta_daly'])/np.sum(catt_dd_df[catt_dd_df['treat']==1]['psico_custos_tot'])\n",
    "\n",
    "#catt_da_df\n",
    "#We have to restrict the first alternative treatment a, and treatment_5_10, but ask for the base_control\n",
    "catt_aa_df = ml_df[(ml_df['base_control']==1)|(ml_df['treatment_0_4']==1)]\n",
    "catt_aa_df['treat']  = np.where(catt_aa_df.treatment_0_4==1,1,0)\n",
    "catt_ad_df = ml_df[(ml_df['treatment_0_4']==1)|(ml_df['treatment_5_10']==1)]\n",
    "catt_ad_df['treat']  = np.where(catt_ad_df.treatment_5_10==1,1,0)\n",
    "\n",
    "#care-costs a/d\n",
    "nd = len(catt_ad_df[catt_ad_df['treat']==1]['treat'])\n",
    "cc_d = np.mean(catt_ad_df[catt_ad_df['treat']==1]['psico_custos_tot'])\n",
    "cc_a = np.mean(catt_ad_df[catt_ad_df['treat']==0]['psico_custos_tot'])\n",
    "\n",
    "care_cost_da = np.sum(-catt_ad_df[catt_ad_df['treat']==1]['delta_daly'])/(nd*cc_d) - np.sum(catt_ad_df[catt_ad_df['treat']==1]['delta_daly'])/(nd*cc_a)\n",
    "\n",
    "#We have to restrict the first alternative treatment b, and treatment_5_10, but ask for the base_control\n",
    "catt_bb_df = ml_df[(ml_df['base_control']==1)|(ml_df['treatment_11_']==1)]\n",
    "catt_bb_df['treat'] = np.where(catt_bb_df.treatment_11_==1,1,0)\n",
    "catt_bd_df = ml_df[(ml_df['treatment_11_']==1)|(ml_df['treatment_5_10']==1)]\n",
    "catt_bd_df['treat']  = np.where(catt_bd_df.treatment_5_10==1,1,0)\n",
    "\n",
    "#care-costs b/d\n",
    "nd = len(catt_bd_df[catt_bd_df['treat']==1]['treat'])\n",
    "cc_d = np.mean(catt_bd_df[catt_bd_df['treat']==1]['psico_custos_tot'])\n",
    "cc_b = np.mean(catt_bd_df[catt_bd_df['treat']==0]['psico_custos_tot'])\n",
    "\n",
    "care_cost_db = np.sum(-catt_bd_df[catt_bd_df['treat']==1]['delta_daly'])/(nd*cc_d) - np.sum(catt_bd_df[catt_bd_df['treat']==1]['delta_daly'])/(nd*cc_b)\n",
    "\n",
    "#catt_dd\n",
    "dr_did.fit(catt_dd_df[['member_age', 'is_male']].to_numpy(),catt_dd_df.treat, catt_dd_df.discharged) \n",
    "catt_dd = p_treat_5_10*dr_did.att_mean\n",
    "catt_dd_lb = p_treat_5_10*(dr_did.att_mean - 1.96*dr_did.att_sd)\n",
    "catt_dd_ub = p_treat_5_10*(dr_did.att_mean + 1.96*dr_did.att_sd)\n",
    "\n",
    "#catt_da\n",
    "dr_did.fit(catt_aa_df[['member_age', 'is_male']].to_numpy(),catt_aa_df.treat, catt_aa_df.discharged) \n",
    "catt_aa = dr_did.att_mean\n",
    "catt_aa_lb = (dr_did.att_mean - 1.96*dr_did.att_sd)\n",
    "catt_aa_ub = (dr_did.att_mean + 1.96*dr_did.att_sd)\n",
    "dr_did.fit(catt_ad_df[['member_age', 'is_male', 'daly_t0']].to_numpy(),catt_ad_df.treat, catt_ad_df.discharged) \n",
    "catt_ad = dr_did.att_mean\n",
    "catt_ad_lb = (dr_did.att_mean - 1.96*dr_did.att_sd)\n",
    "catt_ad_ub = (dr_did.att_mean + 1.96*dr_did.att_sd)\n",
    "catt_da = p_treat_0_4*(catt_aa-catt_ad)\n",
    "catt_da_lb = p_treat_0_4*np.fmin((catt_aa_lb-catt_ad_ub),(catt_aa_lb - catt_ad_lb))\n",
    "catt_da_ub = p_treat_0_4*np.fmax((catt_aa_ub-catt_ad_ub),(catt_aa_ub - catt_ad_lb)) \n",
    "\n",
    "#catt_db\n",
    "dr_did.fit(catt_bb_df[['member_age', 'is_male']].to_numpy(),catt_bb_df.treat, catt_bb_df.discharged) \n",
    "catt_bb = dr_did.att_mean\n",
    "catt_bb_lb = (dr_did.att_mean - 1.96*dr_did.att_sd)\n",
    "catt_bb_ub = (dr_did.att_mean + 1.96*dr_did.att_sd)\n",
    "dr_did.fit(catt_bd_df[['member_age', 'is_male', 'daly_t0']].to_numpy(),catt_bd_df.treat, catt_bd_df.discharged) \n",
    "catt_bd = dr_did.att_mean\n",
    "catt_bd_lb = (dr_did.att_mean - 1.96*dr_did.att_sd)\n",
    "catt_bd_ub = (dr_did.att_mean + 1.96*dr_did.att_sd)\n",
    "catt_db = p_treat_11_*(catt_bb-catt_bd)\n",
    "catt_db_lb = p_treat_11_*np.fmin((catt_bb_lb-catt_bd_ub),(catt_bb_lb - catt_bd_lb))\n",
    "catt_db_ub = p_treat_11_*np.fmax((catt_bb_ub-catt_bd_ub),(catt_bb_ub - catt_bd_lb))\n",
    "\n",
    "##############\n",
    "ate_5_10 = catt_dd + catt_da + catt_db\n",
    "ate_5_10_lb = catt_dd_lb + catt_da_lb + catt_db_lb\n",
    "ate_5_10_ub = catt_dd_ub + catt_da_ub + catt_db_ub\n",
    "\n",
    "cost_eff_5_10 = 10000*(care_cost_dd*catt_dd + care_cost_da*catt_da + care_cost_db*catt_db)\n",
    "cost_eff_5_10_lb = 10000*(care_cost_dd*catt_dd_lb + care_cost_da*catt_da_lb + care_cost_db*catt_db_lb)\n",
    "cost_eff_5_10_ub = 10000*(care_cost_dd*catt_dd_ub + care_cost_da*catt_da_ub + care_cost_db*catt_db_ub)"
   ]
  },
  {
   "cell_type": "markdown",
   "metadata": {},
   "source": [
    "#### ATE for d = 0 to 4"
   ]
  },
  {
   "cell_type": "code",
   "execution_count": 56,
   "metadata": {},
   "outputs": [
    {
     "name": "stdout",
     "output_type": "stream",
     "text": [
      "IPT estimation started\n",
      "IPT optimation success: True\n",
      "WLS estimation started\n",
      "WLS optimation success: True\n",
      "IPT estimation started\n",
      "IPT optimation success: True\n",
      "WLS estimation started\n",
      "WLS optimation success: True\n",
      "IPT estimation started\n",
      "IPT optimation success: True\n",
      "WLS estimation started\n",
      "WLS optimation success: True\n",
      "IPT estimation started\n",
      "IPT optimation success: True\n",
      "WLS estimation started\n",
      "WLS optimation success: True\n",
      "IPT estimation started\n",
      "IPT optimation success: True\n",
      "WLS estimation started\n",
      "WLS optimation success: True\n"
     ]
    }
   ],
   "source": [
    "#cATT(d|d), for d = treat_0_4\n",
    "#We have to restrict base control and treatment_0_4\n",
    "catt_dd_df = ml_df[(ml_df['base_control']==1)|(ml_df['treatment_0_4']==1)]\n",
    "catt_dd_df['treat'] = np.where(catt_dd_df.treatment_0_4==1,1,0)\n",
    "\n",
    "care_cost_dd = np.sum(-catt_dd_df[catt_dd_df['discharged']==1]['delta_daly'])/np.sum(catt_dd_df[catt_dd_df['treat']==1]['psico_custos_tot'])\n",
    "\n",
    "#catt_da_df\n",
    "#We have to restrict the first alternative treatment a, and d, but ask for the base_control\n",
    "catt_aa_df = ml_df[(ml_df['base_control']==1)|(ml_df['treatment_5_10']==1)]\n",
    "catt_aa_df['treat'] = np.where(catt_aa_df.treatment_5_10==1,1,0)\n",
    "catt_ad_df = ml_df[(ml_df['treatment_5_10']==1)|(ml_df['treatment_0_4']==1)]\n",
    "catt_ad_df['treat'] = np.where(catt_ad_df.treatment_0_4==1,1,0)\n",
    "\n",
    "#care-costs a/d\n",
    "nd = len(catt_ad_df[catt_ad_df['treat']==1]['treat'])\n",
    "cc_d = np.mean(catt_ad_df[catt_ad_df['treat']==1]['psico_custos_tot'])\n",
    "cc_a = np.mean(catt_ad_df[catt_ad_df['treat']==0]['psico_custos_tot'])\n",
    "\n",
    "care_cost_da = np.sum(-catt_ad_df[catt_ad_df['treat']==1]['delta_daly'])/(nd*cc_d) - np.sum(catt_ad_df[catt_ad_df['treat']==1]['delta_daly'])/(nd*cc_a)\n",
    "\n",
    "#We have to restrict the first alternative treatment b, and d, but ask for the base_control\n",
    "catt_bb_df = ml_df[(ml_df['base_control']==1)|(ml_df['treatment_11_']==1)]\n",
    "catt_bb_df['treat'] = np.where(catt_bb_df.treatment_11_==1,1,0)\n",
    "catt_bd_df = ml_df[(ml_df['treatment_11_']==1)|(ml_df['treatment_0_4']==1)]\n",
    "catt_bd_df['treat'] = np.where(catt_bd_df.treatment_0_4==1,1,0)\n",
    "\n",
    "#care-costs b/d\n",
    "nd = len(catt_bd_df[catt_bd_df['treat']==1]['treat'])\n",
    "cc_d = np.mean(catt_bd_df[catt_bd_df['treat']==1]['psico_custos_tot'])\n",
    "cc_b = np.mean(catt_bd_df[catt_bd_df['treat']==0]['psico_custos_tot'])\n",
    "\n",
    "care_cost_db = np.sum(-catt_bd_df[catt_bd_df['treat']==1]['delta_daly'])/(nd*cc_d) - np.sum(catt_bd_df[catt_bd_df['treat']==1]['delta_daly'])/(nd*cc_b)\n",
    "\n",
    "#catt_dd\n",
    "dr_did.fit(catt_dd_df[['member_age', 'is_male']].to_numpy(),catt_dd_df.treat, catt_dd_df.discharged) \n",
    "catt_dd = p_treat_0_4*dr_did.att_mean\n",
    "catt_dd_lb = p_treat_0_4*(dr_did.att_mean - 1.96*dr_did.att_sd)\n",
    "catt_dd_ub = p_treat_0_4*(dr_did.att_mean + 1.96*dr_did.att_sd)\n",
    "\n",
    "#catt_da\n",
    "dr_did.fit(catt_aa_df[['member_age', 'is_male']].to_numpy(),catt_aa_df.treat, catt_aa_df.discharged) \n",
    "catt_aa = dr_did.att_mean\n",
    "catt_aa_lb = (dr_did.att_mean - 1.96*dr_did.att_sd)\n",
    "catt_aa_ub = (dr_did.att_mean + 1.96*dr_did.att_sd)\n",
    "dr_did.fit(catt_ad_df[['member_age', 'is_male', 'daly_t0']].to_numpy(),catt_ad_df.treat, catt_ad_df.discharged) \n",
    "catt_ad = dr_did.att_mean\n",
    "catt_ad_lb = (dr_did.att_mean - 1.96*dr_did.att_sd)\n",
    "catt_ad_ub = (dr_did.att_mean + 1.96*dr_did.att_sd)\n",
    "\n",
    "catt_da = p_treat_5_10*(catt_aa-catt_ad)\n",
    "catt_da_lb = p_treat_5_10*np.fmin((catt_aa_lb-catt_ad_ub),(catt_aa_lb - catt_ad_lb))\n",
    "catt_da_ub = p_treat_5_10*np.fmax((catt_aa_ub-catt_ad_ub),(catt_aa_ub - catt_ad_lb)) \n",
    "\n",
    "#catt_db\n",
    "dr_did.fit(catt_bb_df[['member_age', 'is_male']].to_numpy(),catt_bb_df.treat, catt_bb_df.discharged) \n",
    "catt_bb = dr_did.att_mean\n",
    "catt_bb_lb = (dr_did.att_mean - 1.96*dr_did.att_sd)\n",
    "catt_bb_ub = (dr_did.att_mean + 1.96*dr_did.att_sd)\n",
    "dr_did.fit(catt_bd_df[['member_age', 'is_male', 'daly_t0']].to_numpy(),catt_bd_df.treat, catt_bd_df.discharged) \n",
    "catt_bd = dr_did.att_mean\n",
    "catt_bd_lb = (dr_did.att_mean - 1.96*dr_did.att_sd)\n",
    "catt_bd_ub = (dr_did.att_mean + 1.96*dr_did.att_sd)\n",
    "\n",
    "catt_db = p_treat_11_*(catt_bb-catt_bd)\n",
    "catt_db_lb = p_treat_11_*np.fmin((catt_bb_lb-catt_bd_ub),(catt_bb_lb - catt_bd_lb))\n",
    "catt_db_ub = p_treat_11_*np.fmax((catt_bb_ub-catt_bd_ub),(catt_bb_ub - catt_bd_lb))\n",
    "\n",
    "\n",
    "#\n",
    "ate_0_4 = catt_dd + catt_da + catt_db\n",
    "cost_eff_0_4 = 10000*(care_cost_dd*catt_dd + care_cost_da*catt_da + care_cost_db*catt_db)  \n",
    "cost_eff_0_4_lb = 10000*(care_cost_dd*catt_dd_lb + care_cost_da*catt_da_lb + care_cost_db*catt_db_lb)\n",
    "cost_eff_0_4_ub = 10000*(care_cost_dd*catt_dd_ub + care_cost_da*catt_da_ub + care_cost_db*catt_db_ub)"
   ]
  },
  {
   "cell_type": "markdown",
   "metadata": {},
   "source": [
    "#### ATE for d >= 9"
   ]
  },
  {
   "cell_type": "code",
   "execution_count": 57,
   "metadata": {},
   "outputs": [
    {
     "name": "stdout",
     "output_type": "stream",
     "text": [
      "IPT estimation started\n",
      "IPT optimation success: True\n",
      "WLS estimation started\n",
      "WLS optimation success: True\n",
      "IPT estimation started\n",
      "IPT optimation success: True\n",
      "WLS estimation started\n",
      "WLS optimation success: True\n",
      "IPT estimation started\n",
      "IPT optimation success: True\n",
      "WLS estimation started\n",
      "WLS optimation success: True\n",
      "IPT estimation started\n",
      "IPT optimation success: True\n",
      "WLS estimation started\n",
      "WLS optimation success: True\n",
      "IPT estimation started\n",
      "IPT optimation success: True\n",
      "WLS estimation started\n",
      "WLS optimation success: True\n"
     ]
    }
   ],
   "source": [
    "#cATT(d|d), for d = treat_11_\n",
    "#We have to restrict base control and treatment_0_4\n",
    "catt_dd_df = ml_df[(ml_df['base_control']==1)|(ml_df['treatment_11_']==1)]\n",
    "catt_dd_df['treat'] = np.where(catt_dd_df.treatment_11_==1,1,0)\n",
    "\n",
    "care_cost_dd = np.sum(-catt_dd_df[catt_dd_df['discharged']==1]['delta_daly'])/np.sum(catt_dd_df[catt_dd_df['treat']==1]['psico_custos_tot'])\n",
    "\n",
    "#catt_da_df\n",
    "#We have to restrict the first alternative treatment a, and d, but ask for the base_control\n",
    "catt_aa_df = ml_df[(ml_df['base_control']==1)|(ml_df['treatment_0_4']==1)]\n",
    "catt_aa_df['treat'] = np.where(catt_aa_df.treatment_0_4==1,1,0)\n",
    "catt_ad_df = ml_df[(ml_df['treatment_0_4']==1)|(ml_df['treatment_11_']==1)]\n",
    "catt_ad_df['treat'] = np.where(catt_ad_df.treatment_11_==1,1,0)\n",
    "\n",
    "\n",
    "#care-costs a/d\n",
    "nd = len(catt_ad_df[catt_ad_df['treat']==1]['treat'])\n",
    "cc_d = np.mean(catt_ad_df[catt_ad_df['treat']==1]['psico_custos_tot'])\n",
    "cc_a = np.mean(catt_ad_df[catt_ad_df['treat']==0]['psico_custos_tot'])\n",
    "\n",
    "care_cost_da = np.sum(-catt_ad_df[catt_ad_df['treat']==1]['delta_daly'])/(nd*cc_d) - np.sum(catt_ad_df[catt_ad_df['treat']==1]['delta_daly'])/(nd*cc_a)\n",
    "\n",
    "\n",
    "\n",
    "#We have to restrict the first alternative treatment b, and d, but ask for the base_control\n",
    "catt_bb_df = ml_df[(ml_df['base_control']==1)|(ml_df['treatment_5_10']==1)]\n",
    "catt_bb_df['treat'] = np.where(catt_bb_df.treatment_5_10==1,1,0)\n",
    "catt_bd_df = ml_df[(ml_df['treatment_5_10']==1)|(ml_df['treatment_11_']==1)]\n",
    "catt_bd_df['treat'] = np.where(catt_bd_df.treatment_11_==1,1,0)\n",
    "\n",
    "\n",
    "\n",
    "#care-costs b/d\n",
    "nd = len(catt_bd_df[catt_bd_df['treat']==1]['treat'])\n",
    "cc_d = np.mean(catt_bd_df[catt_bd_df['treat']==1]['psico_custos_tot'])\n",
    "cc_b = np.mean(catt_bd_df[catt_bd_df['treat']==0]['psico_custos_tot'])\n",
    "\n",
    "care_cost_db = np.sum(-catt_bd_df[catt_bd_df['treat']==1]['delta_daly'])/(nd*cc_d) - np.sum(catt_bd_df[catt_bd_df['treat']==1]['delta_daly'])/(nd*cc_b)\n",
    "\n",
    "#catt_dd\n",
    "dr_did.fit(catt_dd_df[['member_age', 'is_male', 'daly_t0']].to_numpy(),catt_dd_df.treat, catt_dd_df.discharged) \n",
    "catt_dd = p_treat_11_*dr_did.att_mean\n",
    "catt_dd_lb = p_treat_11_*(dr_did.att_mean - 1.96*dr_did.att_sd)\n",
    "catt_dd_ub = p_treat_11_*(dr_did.att_mean + 1.96*dr_did.att_sd)\n",
    "\n",
    "#catt_da\n",
    "dr_did.fit(catt_aa_df[['member_age', 'is_male', 'daly_t0']].to_numpy(),catt_aa_df.treat, catt_aa_df.discharged) \n",
    "catt_aa = dr_did.att_mean\n",
    "catt_aa_lb = (dr_did.att_mean - 1.96*dr_did.att_sd)\n",
    "catt_aa_ub = (dr_did.att_mean + 1.96*dr_did.att_sd)\n",
    "\n",
    "dr_did.fit(catt_ad_df[['member_age', 'is_male', 'daly_t0']].to_numpy(),catt_ad_df.treat, catt_ad_df.discharged) \n",
    "catt_ad = dr_did.att_mean\n",
    "catt_ad_lb = (dr_did.att_mean - 1.96*dr_did.att_sd)\n",
    "catt_ad_ub = (dr_did.att_mean + 1.96*dr_did.att_sd)\n",
    "\n",
    "catt_da = p_treat_0_4*(catt_aa-catt_ad)\n",
    "catt_da_lb = p_treat_0_4*np.fmin((catt_aa_lb-catt_ad_ub),(catt_aa_lb - catt_ad_lb))\n",
    "catt_da_ub = p_treat_0_4*np.fmax((catt_aa_ub-catt_ad_ub),(catt_aa_ub - catt_ad_lb)) \n",
    "\n",
    "\n",
    "\n",
    "#catt_db\n",
    "dr_did.fit(catt_bb_df[['member_age', 'is_male', 'daly_t0']].to_numpy(),catt_bb_df.treat, catt_bb_df.discharged) \n",
    "catt_bb = dr_did.att_mean\n",
    "catt_bd_lb = (dr_did.att_mean - 1.96*dr_did.att_sd)\n",
    "catt_bd_ub = (dr_did.att_mean + 1.96*dr_did.att_sd)\n",
    "\n",
    "dr_did.fit(catt_bd_df[['member_age', 'is_male', 'daly_t0']].to_numpy(),catt_bd_df.treat, catt_bd_df.discharged) \n",
    "catt_bd = dr_did.att_mean\n",
    "catt_bd_lb = (dr_did.att_mean - 1.96*dr_did.att_sd)\n",
    "catt_bd_ub = (dr_did.att_mean + 1.96*dr_did.att_sd)\n",
    "\n",
    "catt_db = p_treat_5_10*(catt_bb-catt_bd)\n",
    "catt_db_lb = p_treat_5_10*np.fmin((catt_bb_lb-catt_bd_ub),(catt_bb_lb - catt_bd_lb))\n",
    "catt_db_ub = p_treat_5_10*np.fmax((catt_bb_ub-catt_bd_ub),(catt_bb_ub - catt_bd_lb))\n",
    "#\n",
    "ate_11_ = catt_dd + catt_da + catt_db\n",
    "cost_eff_11_ = 10000*(care_cost_dd*catt_dd + care_cost_da*catt_da + care_cost_db*catt_db)  \n",
    "cost_eff_11_lb = 10000*(care_cost_dd*catt_dd_lb + care_cost_da*catt_da_lb + care_cost_db*catt_db_lb)\n",
    "cost_eff_11_ub = 10000*(care_cost_dd*catt_dd_ub + care_cost_da*catt_da_ub + care_cost_db*catt_db_ub)\n"
   ]
  },
  {
   "cell_type": "markdown",
   "metadata": {},
   "source": [
    "#### cost-effectivenss prints"
   ]
  },
  {
   "cell_type": "code",
   "execution_count": 58,
   "metadata": {},
   "outputs": [
    {
     "name": "stdout",
     "output_type": "stream",
     "text": [
      "0.9182066984453097 1.068132388198055 1.2180580779508001\n"
     ]
    }
   ],
   "source": [
    "print(cost_eff_0_4_lb,cost_eff_0_4,cost_eff_0_4_ub)"
   ]
  },
  {
   "cell_type": "code",
   "execution_count": 59,
   "metadata": {},
   "outputs": [
    {
     "name": "stdout",
     "output_type": "stream",
     "text": [
      "0.48069755905022965 0.597325010781185 0.7139524625121404\n"
     ]
    }
   ],
   "source": [
    "print(cost_eff_5_10_lb,cost_eff_5_10,cost_eff_5_10_ub)"
   ]
  },
  {
   "cell_type": "code",
   "execution_count": 60,
   "metadata": {},
   "outputs": [
    {
     "name": "stdout",
     "output_type": "stream",
     "text": [
      "nan nan nan\n"
     ]
    }
   ],
   "source": [
    "print(cost_eff_11_lb,cost_eff_11_,cost_eff_11_ub)"
   ]
  },
  {
   "cell_type": "markdown",
   "metadata": {},
   "source": [
    "***"
   ]
  },
  {
   "cell_type": "markdown",
   "metadata": {},
   "source": [
    "# 2. Model & Analysis of cATE\n"
   ]
  }
 ],
 "metadata": {
  "instance_type": "ml.t3.medium",
  "kernelspec": {
   "display_name": "Python 3.9.2 64-bit",
   "language": "python",
   "name": "python3"
  },
  "language_info": {
   "codemirror_mode": {
    "name": "ipython",
    "version": 3
   },
   "file_extension": ".py",
   "mimetype": "text/x-python",
   "name": "python",
   "nbconvert_exporter": "python",
   "pygments_lexer": "ipython3",
   "version": "3.9.2"
  },
  "vscode": {
   "interpreter": {
    "hash": "aee8b7b246df8f9039afb4144a1f6fd8d2ca17a180786b69acc140d282b71a49"
   }
  }
 },
 "nbformat": 4,
 "nbformat_minor": 4
}
