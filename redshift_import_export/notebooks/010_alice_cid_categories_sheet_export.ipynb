{
 "cells": [
  {
   "cell_type": "markdown",
   "metadata": {},
   "source": [
    "# Alice CID categorization sheet export\n",
    "\n",
    "The *gestão de saúde magenta* squad inputs dw weights for daly calculations manually in a google sheet. This notebook is to export the sheet, after downloading from the Google Drive and storing it in a local computer. Since the sheet is updated not very often, there is not much gain from automating the process in Airflow (*yet*).\n",
    "\n",
    "Steps:\n",
    "\n",
    "    - Download the google sheet DALY weights and store it in the 'redshift_import_export\\external\\' package folder;\n",
    "\n",
    "    - run this notebook to upload to Redshift;\n",
    "    \n",
    "    - use the DW to make calculations, new tables, dashes...\n",
    "***"
   ]
  },
  {
   "cell_type": "markdown",
   "metadata": {},
   "source": [
    "## 0. Setup"
   ]
  },
  {
   "cell_type": "code",
   "execution_count": 15,
   "metadata": {},
   "outputs": [],
   "source": [
    "#connection to redshift\n",
    "from redshift_import_export.interfaces.data_interactor import DataInteractor\n",
    "di = DataInteractor()\n",
    "import requests\n",
    "\n",
    "\n",
    "#standard packages\n",
    "import warnings\n",
    "warnings.filterwarnings('ignore')\n",
    "import os\n",
    "import collections\n",
    "import pandas as pd\n",
    "import numpy as np\n",
    "\n",
    "\n",
    "\n",
    "#time packages\n",
    "import datetime as dt"
   ]
  },
  {
   "cell_type": "markdown",
   "metadata": {},
   "source": [
    "## 1. Import"
   ]
  },
  {
   "cell_type": "code",
   "execution_count": 16,
   "metadata": {},
   "outputs": [],
   "source": [
    "alice_categories = pd.read_csv(os.path.abspath(os.path.join(os.getcwd(), os.pardir)) + '/data/external/alice_cid_categories.csv')\n",
    "overall_cid_categories = pd.read_csv(os.path.abspath(os.path.join(os.getcwd(), os.pardir)) + '/data/external/overall_cid_categories.csv')\n",
    "alice_acute_classes = pd.read_csv(os.path.abspath(os.path.join(os.getcwd(), os.pardir)) + '/data/external/alice_acute_class.csv')"
   ]
  },
  {
   "attachments": {},
   "cell_type": "markdown",
   "metadata": {},
   "source": [
    "### 2. Transform"
   ]
  },
  {
   "cell_type": "code",
   "execution_count": 17,
   "metadata": {},
   "outputs": [
    {
     "name": "stdout",
     "output_type": "stream",
     "text": [
      "Index(['cid', 'chapter', 'group', 'category', 'subcategory'], dtype='object')\n"
     ]
    }
   ],
   "source": [
    "overall_cid_categories.rename(columns={'Disease.Code.Value': 'cid','capitulo': 'chapter', 'grupos': 'group', 'categorias': 'category', 'subcategorias': 'subcategory'}, inplace = True)\n",
    "overall_cid_categories = overall_cid_categories[['cid', 'chapter', 'group', 'category', 'subcategory']]\n",
    "print(overall_cid_categories.columns)\n"
   ]
  },
  {
   "cell_type": "code",
   "execution_count": 18,
   "metadata": {},
   "outputs": [
    {
     "name": "stdout",
     "output_type": "stream",
     "text": [
      "Index(['cid', 'alice_category'], dtype='object')\n"
     ]
    }
   ],
   "source": [
    "alice_categories.rename(columns={'Disease.Code.Value': 'cid', 'Categoria 2.0': 'alice_category'}, inplace = True)\n",
    "print(alice_categories.columns)\n"
   ]
  },
  {
   "cell_type": "code",
   "execution_count": 19,
   "metadata": {},
   "outputs": [
    {
     "name": "stdout",
     "output_type": "stream",
     "text": [
      "Index(['cid', 'alice_acute_class'], dtype='object')\n"
     ]
    }
   ],
   "source": [
    "alice_acute_classes.rename(columns = {'CID 10': 'cid','categoria alice': 'alice_category', 'agudo ou longitudinal?': 'alice_acute_class'}, inplace = True)\n",
    "alice_acute_classes = alice_acute_classes[['cid', 'alice_acute_class']]\n",
    "alice_acute_classes = alice_acute_classes.drop_duplicates()\n",
    "print(alice_acute_classes.columns)"
   ]
  },
  {
   "attachments": {},
   "cell_type": "markdown",
   "metadata": {},
   "source": [
    "## 3. Merge"
   ]
  },
  {
   "cell_type": "code",
   "execution_count": 21,
   "metadata": {},
   "outputs": [
    {
     "data": {
      "text/html": [
       "<div>\n",
       "<style scoped>\n",
       "    .dataframe tbody tr th:only-of-type {\n",
       "        vertical-align: middle;\n",
       "    }\n",
       "\n",
       "    .dataframe tbody tr th {\n",
       "        vertical-align: top;\n",
       "    }\n",
       "\n",
       "    .dataframe thead th {\n",
       "        text-align: right;\n",
       "    }\n",
       "</style>\n",
       "<table border=\"1\" class=\"dataframe\">\n",
       "  <thead>\n",
       "    <tr style=\"text-align: right;\">\n",
       "      <th></th>\n",
       "      <th>cid</th>\n",
       "      <th>chapter</th>\n",
       "      <th>group</th>\n",
       "      <th>category</th>\n",
       "      <th>subcategory</th>\n",
       "      <th>alice_category</th>\n",
       "      <th>alice_acute_class</th>\n",
       "    </tr>\n",
       "  </thead>\n",
       "  <tbody>\n",
       "    <tr>\n",
       "      <th>0</th>\n",
       "      <td>A01</td>\n",
       "      <td>Capítulo I - Algumas doenças infecciosas e par...</td>\n",
       "      <td>Doenças infecciosas intestinais</td>\n",
       "      <td>Febres tifóide e paratifóide</td>\n",
       "      <td>Febres tifóide e paratifóide</td>\n",
       "      <td>NaN</td>\n",
       "      <td>agudo</td>\n",
       "    </tr>\n",
       "    <tr>\n",
       "      <th>1</th>\n",
       "      <td>A02</td>\n",
       "      <td>Capítulo I - Algumas doenças infecciosas e par...</td>\n",
       "      <td>Doenças infecciosas intestinais</td>\n",
       "      <td>Outras infecções por Salmonella</td>\n",
       "      <td>Outras infecções por Salmonella</td>\n",
       "      <td>Infecções gastrointestinais</td>\n",
       "      <td>NaN</td>\n",
       "    </tr>\n",
       "    <tr>\n",
       "      <th>2</th>\n",
       "      <td>A022</td>\n",
       "      <td>Capítulo I - Algumas doenças infecciosas e par...</td>\n",
       "      <td>Doenças infecciosas intestinais</td>\n",
       "      <td>Outras infecções por Salmonella</td>\n",
       "      <td>Infecções localizadas por salmonela</td>\n",
       "      <td>NaN</td>\n",
       "      <td>agudo</td>\n",
       "    </tr>\n",
       "    <tr>\n",
       "      <th>3</th>\n",
       "      <td>A04</td>\n",
       "      <td>Capítulo I - Algumas doenças infecciosas e par...</td>\n",
       "      <td>Doenças infecciosas intestinais</td>\n",
       "      <td>Outras infecções intestinais bacterianas</td>\n",
       "      <td>Outras infecções intestinais bacterianas</td>\n",
       "      <td>Infecções gastrointestinais</td>\n",
       "      <td>NaN</td>\n",
       "    </tr>\n",
       "    <tr>\n",
       "      <th>4</th>\n",
       "      <td>A049</td>\n",
       "      <td>Capítulo I - Algumas doenças infecciosas e par...</td>\n",
       "      <td>Doenças infecciosas intestinais</td>\n",
       "      <td>Outras infecções intestinais bacterianas</td>\n",
       "      <td>Infecção intestinal bacteriana não especificada</td>\n",
       "      <td>Infecções gastrointestinais</td>\n",
       "      <td>agudo</td>\n",
       "    </tr>\n",
       "    <tr>\n",
       "      <th>5</th>\n",
       "      <td>A05</td>\n",
       "      <td>Capítulo I - Algumas doenças infecciosas e par...</td>\n",
       "      <td>Doenças infecciosas intestinais</td>\n",
       "      <td>Outras intoxicações alimentares bacterianas, n...</td>\n",
       "      <td>Outras intoxicações alimentares bacterianas, n...</td>\n",
       "      <td>NaN</td>\n",
       "      <td>NaN</td>\n",
       "    </tr>\n",
       "    <tr>\n",
       "      <th>6</th>\n",
       "      <td>A059</td>\n",
       "      <td>Capítulo I - Algumas doenças infecciosas e par...</td>\n",
       "      <td>Doenças infecciosas intestinais</td>\n",
       "      <td>Outras intoxicações alimentares bacterianas, n...</td>\n",
       "      <td>Intoxicação alimentar bacteriana não especificada</td>\n",
       "      <td>Infecções gastrointestinais</td>\n",
       "      <td>agudo</td>\n",
       "    </tr>\n",
       "    <tr>\n",
       "      <th>7</th>\n",
       "      <td>A06</td>\n",
       "      <td>Capítulo I - Algumas doenças infecciosas e par...</td>\n",
       "      <td>Doenças infecciosas intestinais</td>\n",
       "      <td>Amebíase</td>\n",
       "      <td>Amebíase</td>\n",
       "      <td>Infecções gastrointestinais</td>\n",
       "      <td>NaN</td>\n",
       "    </tr>\n",
       "    <tr>\n",
       "      <th>8</th>\n",
       "      <td>A069</td>\n",
       "      <td>Capítulo I - Algumas doenças infecciosas e par...</td>\n",
       "      <td>Doenças infecciosas intestinais</td>\n",
       "      <td>Amebíase</td>\n",
       "      <td>Amebíase não especificada</td>\n",
       "      <td>NaN</td>\n",
       "      <td>agudo</td>\n",
       "    </tr>\n",
       "    <tr>\n",
       "      <th>9</th>\n",
       "      <td>A071</td>\n",
       "      <td>Capítulo I - Algumas doenças infecciosas e par...</td>\n",
       "      <td>Doenças infecciosas intestinais</td>\n",
       "      <td>Outras doenças intestinais por protozoários</td>\n",
       "      <td>Giardíase [lamblíase]</td>\n",
       "      <td>Infecções gastrointestinais</td>\n",
       "      <td>agudo</td>\n",
       "    </tr>\n",
       "  </tbody>\n",
       "</table>\n",
       "</div>"
      ],
      "text/plain": [
       "    cid                                            chapter  \\\n",
       "0   A01  Capítulo I - Algumas doenças infecciosas e par...   \n",
       "1   A02  Capítulo I - Algumas doenças infecciosas e par...   \n",
       "2  A022  Capítulo I - Algumas doenças infecciosas e par...   \n",
       "3   A04  Capítulo I - Algumas doenças infecciosas e par...   \n",
       "4  A049  Capítulo I - Algumas doenças infecciosas e par...   \n",
       "5   A05  Capítulo I - Algumas doenças infecciosas e par...   \n",
       "6  A059  Capítulo I - Algumas doenças infecciosas e par...   \n",
       "7   A06  Capítulo I - Algumas doenças infecciosas e par...   \n",
       "8  A069  Capítulo I - Algumas doenças infecciosas e par...   \n",
       "9  A071  Capítulo I - Algumas doenças infecciosas e par...   \n",
       "\n",
       "                             group  \\\n",
       "0  Doenças infecciosas intestinais   \n",
       "1  Doenças infecciosas intestinais   \n",
       "2  Doenças infecciosas intestinais   \n",
       "3  Doenças infecciosas intestinais   \n",
       "4  Doenças infecciosas intestinais   \n",
       "5  Doenças infecciosas intestinais   \n",
       "6  Doenças infecciosas intestinais   \n",
       "7  Doenças infecciosas intestinais   \n",
       "8  Doenças infecciosas intestinais   \n",
       "9  Doenças infecciosas intestinais   \n",
       "\n",
       "                                            category  \\\n",
       "0                       Febres tifóide e paratifóide   \n",
       "1                    Outras infecções por Salmonella   \n",
       "2                    Outras infecções por Salmonella   \n",
       "3           Outras infecções intestinais bacterianas   \n",
       "4           Outras infecções intestinais bacterianas   \n",
       "5  Outras intoxicações alimentares bacterianas, n...   \n",
       "6  Outras intoxicações alimentares bacterianas, n...   \n",
       "7                                           Amebíase   \n",
       "8                                           Amebíase   \n",
       "9        Outras doenças intestinais por protozoários   \n",
       "\n",
       "                                         subcategory  \\\n",
       "0                       Febres tifóide e paratifóide   \n",
       "1                    Outras infecções por Salmonella   \n",
       "2                Infecções localizadas por salmonela   \n",
       "3           Outras infecções intestinais bacterianas   \n",
       "4    Infecção intestinal bacteriana não especificada   \n",
       "5  Outras intoxicações alimentares bacterianas, n...   \n",
       "6  Intoxicação alimentar bacteriana não especificada   \n",
       "7                                           Amebíase   \n",
       "8                          Amebíase não especificada   \n",
       "9                              Giardíase [lamblíase]   \n",
       "\n",
       "                alice_category alice_acute_class  \n",
       "0                          NaN             agudo  \n",
       "1  Infecções gastrointestinais               NaN  \n",
       "2                          NaN             agudo  \n",
       "3  Infecções gastrointestinais               NaN  \n",
       "4  Infecções gastrointestinais             agudo  \n",
       "5                          NaN               NaN  \n",
       "6  Infecções gastrointestinais             agudo  \n",
       "7  Infecções gastrointestinais               NaN  \n",
       "8                          NaN             agudo  \n",
       "9  Infecções gastrointestinais             agudo  "
      ]
     },
     "execution_count": 21,
     "metadata": {},
     "output_type": "execute_result"
    }
   ],
   "source": [
    "df = overall_cid_categories.merge(alice_categories, how = 'left', on = 'cid').merge(alice_acute_classes, how = 'left', on = 'cid')\n",
    "df.drop_duplicates(subset=['cid'], inplace = True)\n",
    "df.head(10)"
   ]
  },
  {
   "attachments": {},
   "cell_type": "markdown",
   "metadata": {},
   "source": [
    "## 4. Export"
   ]
  },
  {
   "cell_type": "code",
   "execution_count": 22,
   "metadata": {},
   "outputs": [
    {
     "name": "stdout",
     "output_type": "stream",
     "text": [
      "Table alice_cid_categories inserted successfully, with 2907 rows.\n"
     ]
    }
   ],
   "source": [
    "di.redshift.insert_table(df, table_name='alice_cid_categories', if_exists='replace')"
   ]
  },
  {
   "cell_type": "code",
   "execution_count": null,
   "metadata": {},
   "outputs": [],
   "source": []
  }
 ],
 "metadata": {
  "kernelspec": {
   "display_name": "Python 3.9.2 64-bit",
   "language": "python",
   "name": "python3"
  },
  "language_info": {
   "codemirror_mode": {
    "name": "ipython",
    "version": 3
   },
   "file_extension": ".py",
   "mimetype": "text/x-python",
   "name": "python",
   "nbconvert_exporter": "python",
   "pygments_lexer": "ipython3",
   "version": "3.9.2"
  },
  "orig_nbformat": 4,
  "vscode": {
   "interpreter": {
    "hash": "aee8b7b246df8f9039afb4144a1f6fd8d2ca17a180786b69acc140d282b71a49"
   }
  }
 },
 "nbformat": 4,
 "nbformat_minor": 2
}
