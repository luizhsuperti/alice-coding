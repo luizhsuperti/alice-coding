{
 "cells": [
  {
   "cell_type": "markdown",
   "metadata": {},
   "source": [
    "# Alice CID categorization sheet export\n",
    "\n",
    "The *gestão de saúde magenta* squad inputs dw weights for daly calculations manually in a google sheet. This notebook is to export the sheet, after downloading from the Google Drive and storing it in a local computer. Since the sheet is updated not very often, there is not much gain from automating the process in Airflow (*yet*).\n",
    "\n",
    "Steps:\n",
    "\n",
    "    - Download the google sheet DALY weights and store it in the 'redshift_import_export\\external\\' package folder;\n",
    "\n",
    "    - run this notebook to upload to Redshift;\n",
    "    \n",
    "    - use the DW to make calculations, new tables, dashes...\n",
    "***"
   ]
  },
  {
   "cell_type": "markdown",
   "metadata": {},
   "source": [
    "## 0. Setup"
   ]
  },
  {
   "cell_type": "code",
   "execution_count": 5,
   "metadata": {},
   "outputs": [],
   "source": [
    "#connection to redshift\n",
    "from redshift_import_export.interfaces.data_interactor import DataInteractor\n",
    "di = DataInteractor()\n",
    "import requests\n",
    "\n",
    "\n",
    "#standard packages\n",
    "import warnings\n",
    "warnings.filterwarnings('ignore')\n",
    "import os\n",
    "import collections\n",
    "import pandas as pd\n",
    "import numpy as np\n",
    "\n",
    "\n",
    "\n",
    "#time packages\n",
    "import datetime as dt"
   ]
  },
  {
   "cell_type": "markdown",
   "metadata": {},
   "source": [
    "## 1. Import"
   ]
  },
  {
   "cell_type": "code",
   "execution_count": 6,
   "metadata": {},
   "outputs": [],
   "source": [
    "df1 = pd.read_csv(os.path.abspath(os.path.join(os.getcwd(), os.pardir)) + '/data/external/input_alice_cids_one.csv')\n",
    "df2 = pd.read_csv(os.path.abspath(os.path.join(os.getcwd(), os.pardir)) + '/data/external/input_alice_cids_two.csv')"
   ]
  },
  {
   "cell_type": "code",
   "execution_count": 7,
   "metadata": {},
   "outputs": [
    {
     "data": {
      "text/plain": [
       "Index(['CID 10', 'agudo ou longitudinal?'], dtype='object')"
      ]
     },
     "execution_count": 7,
     "metadata": {},
     "output_type": "execute_result"
    }
   ],
   "source": [
    "df1.columns"
   ]
  },
  {
   "cell_type": "code",
   "execution_count": 8,
   "metadata": {},
   "outputs": [
    {
     "data": {
      "text/plain": [
       "Index(['Unnamed: 0', 'Disease.Code.Value', 'capitulo', 'grupos', 'categorias',\n",
       "       'subcategorias', 'VOLUME', 'Categoria - Sugestão Bia',\n",
       "       'Categoria - Sugestão Janos', 'Categoria - ALICE', 'Categoria 2.0',\n",
       "       'Protocolo AA?', 'Obs'],\n",
       "      dtype='object')"
      ]
     },
     "execution_count": 8,
     "metadata": {},
     "output_type": "execute_result"
    }
   ],
   "source": [
    "df2.columns"
   ]
  },
  {
   "cell_type": "markdown",
   "metadata": {},
   "source": [
    "## 2. Transform"
   ]
  },
  {
   "cell_type": "code",
   "execution_count": 10,
   "metadata": {},
   "outputs": [],
   "source": [
    "df1.rename(columns = {'CID 10': 'cid', 'agudo ou longitudinal?': 'alice_acute_class'}, inplace = True)"
   ]
  },
  {
   "cell_type": "code",
   "execution_count": 11,
   "metadata": {},
   "outputs": [],
   "source": [
    "df2.rename(columns={'Disease.Code.Value': 'cid', 'Categoria 2.0': 'alice_category', 'capitulo': 'chapter', 'grupos': 'group', 'categorias': 'category', 'subcategorias': 'subcategory'}, inplace = True)\n",
    "df2 = df2[['cid', 'alice_category', 'chapter', 'group', 'category', 'subcategory']]\n"
   ]
  },
  {
   "cell_type": "code",
   "execution_count": 12,
   "metadata": {},
   "outputs": [
    {
     "data": {
      "text/html": [
       "<div>\n",
       "<style scoped>\n",
       "    .dataframe tbody tr th:only-of-type {\n",
       "        vertical-align: middle;\n",
       "    }\n",
       "\n",
       "    .dataframe tbody tr th {\n",
       "        vertical-align: top;\n",
       "    }\n",
       "\n",
       "    .dataframe thead th {\n",
       "        text-align: right;\n",
       "    }\n",
       "</style>\n",
       "<table border=\"1\" class=\"dataframe\">\n",
       "  <thead>\n",
       "    <tr style=\"text-align: right;\">\n",
       "      <th></th>\n",
       "      <th>cid</th>\n",
       "      <th>alice_category</th>\n",
       "      <th>chapter</th>\n",
       "      <th>group</th>\n",
       "      <th>category</th>\n",
       "      <th>subcategory</th>\n",
       "      <th>alice_acute_class</th>\n",
       "    </tr>\n",
       "  </thead>\n",
       "  <tbody>\n",
       "    <tr>\n",
       "      <th>0</th>\n",
       "      <td>K35</td>\n",
       "      <td>Abdome agudo</td>\n",
       "      <td>Capítulo XI - Doenças do aparelho digestivo</td>\n",
       "      <td>Doenças do apêndice</td>\n",
       "      <td>Apendicite aguda</td>\n",
       "      <td>Apendicite aguda</td>\n",
       "      <td>NaN</td>\n",
       "    </tr>\n",
       "    <tr>\n",
       "      <th>1</th>\n",
       "      <td>K37</td>\n",
       "      <td>Abdome agudo</td>\n",
       "      <td>Capítulo XI - Doenças do aparelho digestivo</td>\n",
       "      <td>Doenças do apêndice</td>\n",
       "      <td>Apendicite, sem outras especificações</td>\n",
       "      <td>Apendicite, sem outras especificações</td>\n",
       "      <td>agudo</td>\n",
       "    </tr>\n",
       "    <tr>\n",
       "      <th>2</th>\n",
       "      <td>K36</td>\n",
       "      <td>Abdome agudo</td>\n",
       "      <td>Capítulo XI - Doenças do aparelho digestivo</td>\n",
       "      <td>Doenças do apêndice</td>\n",
       "      <td>Outras formas de apendicite</td>\n",
       "      <td>Outras formas de apendicite</td>\n",
       "      <td>agudo</td>\n",
       "    </tr>\n",
       "    <tr>\n",
       "      <th>3</th>\n",
       "      <td>K561</td>\n",
       "      <td>Abdome agudo</td>\n",
       "      <td>Capítulo XI - Doenças do aparelho digestivo</td>\n",
       "      <td>Outras doenças dos intestinos</td>\n",
       "      <td>Íleo paralítico e obstrução intestinal sem hérnia</td>\n",
       "      <td>Intussuscepção</td>\n",
       "      <td>longitudinal</td>\n",
       "    </tr>\n",
       "    <tr>\n",
       "      <th>4</th>\n",
       "      <td>K562</td>\n",
       "      <td>Abdome agudo</td>\n",
       "      <td>Capítulo XI - Doenças do aparelho digestivo</td>\n",
       "      <td>Outras doenças dos intestinos</td>\n",
       "      <td>Íleo paralítico e obstrução intestinal sem hérnia</td>\n",
       "      <td>Volvo</td>\n",
       "      <td>longitudinal</td>\n",
       "    </tr>\n",
       "    <tr>\n",
       "      <th>5</th>\n",
       "      <td>K564</td>\n",
       "      <td>Abdome agudo</td>\n",
       "      <td>Capítulo XI - Doenças do aparelho digestivo</td>\n",
       "      <td>Outras doenças dos intestinos</td>\n",
       "      <td>Íleo paralítico e obstrução intestinal sem hérnia</td>\n",
       "      <td>Outras obstruções do intestino</td>\n",
       "      <td>agudo</td>\n",
       "    </tr>\n",
       "    <tr>\n",
       "      <th>6</th>\n",
       "      <td>K565</td>\n",
       "      <td>Abdome agudo</td>\n",
       "      <td>Capítulo XI - Doenças do aparelho digestivo</td>\n",
       "      <td>Outras doenças dos intestinos</td>\n",
       "      <td>Íleo paralítico e obstrução intestinal sem hérnia</td>\n",
       "      <td>Aderências intestinais (bridas) com obstrução</td>\n",
       "      <td>longitudinal</td>\n",
       "    </tr>\n",
       "    <tr>\n",
       "      <th>7</th>\n",
       "      <td>K566</td>\n",
       "      <td>Abdome agudo</td>\n",
       "      <td>Capítulo XI - Doenças do aparelho digestivo</td>\n",
       "      <td>Outras doenças dos intestinos</td>\n",
       "      <td>Íleo paralítico e obstrução intestinal sem hérnia</td>\n",
       "      <td>Outras formas de obstrução intestinal, e as nã...</td>\n",
       "      <td>longitudinal</td>\n",
       "    </tr>\n",
       "    <tr>\n",
       "      <th>8</th>\n",
       "      <td>K56</td>\n",
       "      <td>Abdome agudo</td>\n",
       "      <td>Capítulo XI - Doenças do aparelho digestivo</td>\n",
       "      <td>Outras doenças dos intestinos</td>\n",
       "      <td>Íleo paralítico e obstrução intestinal sem hérnia</td>\n",
       "      <td>Íleo paralítico e obstrução intestinal sem hérnia</td>\n",
       "      <td>NaN</td>\n",
       "    </tr>\n",
       "    <tr>\n",
       "      <th>9</th>\n",
       "      <td>F101</td>\n",
       "      <td>Abuso crônico de substâncias</td>\n",
       "      <td>Capítulo V - Transtornos mentais e comportamen...</td>\n",
       "      <td>Transtornos mentais e comportamentais devidos ...</td>\n",
       "      <td>Transtornos mentais e comportamentais devidos ...</td>\n",
       "      <td>Transtornos mentais e comportamentais devidos ...</td>\n",
       "      <td>longitudinal</td>\n",
       "    </tr>\n",
       "  </tbody>\n",
       "</table>\n",
       "</div>"
      ],
      "text/plain": [
       "    cid                alice_category  \\\n",
       "0   K35                  Abdome agudo   \n",
       "1   K37                  Abdome agudo   \n",
       "2   K36                  Abdome agudo   \n",
       "3  K561                  Abdome agudo   \n",
       "4  K562                  Abdome agudo   \n",
       "5  K564                  Abdome agudo   \n",
       "6  K565                  Abdome agudo   \n",
       "7  K566                  Abdome agudo   \n",
       "8   K56                  Abdome agudo   \n",
       "9  F101  Abuso crônico de substâncias   \n",
       "\n",
       "                                             chapter  \\\n",
       "0        Capítulo XI - Doenças do aparelho digestivo   \n",
       "1        Capítulo XI - Doenças do aparelho digestivo   \n",
       "2        Capítulo XI - Doenças do aparelho digestivo   \n",
       "3        Capítulo XI - Doenças do aparelho digestivo   \n",
       "4        Capítulo XI - Doenças do aparelho digestivo   \n",
       "5        Capítulo XI - Doenças do aparelho digestivo   \n",
       "6        Capítulo XI - Doenças do aparelho digestivo   \n",
       "7        Capítulo XI - Doenças do aparelho digestivo   \n",
       "8        Capítulo XI - Doenças do aparelho digestivo   \n",
       "9  Capítulo V - Transtornos mentais e comportamen...   \n",
       "\n",
       "                                               group  \\\n",
       "0                                Doenças do apêndice   \n",
       "1                                Doenças do apêndice   \n",
       "2                                Doenças do apêndice   \n",
       "3                      Outras doenças dos intestinos   \n",
       "4                      Outras doenças dos intestinos   \n",
       "5                      Outras doenças dos intestinos   \n",
       "6                      Outras doenças dos intestinos   \n",
       "7                      Outras doenças dos intestinos   \n",
       "8                      Outras doenças dos intestinos   \n",
       "9  Transtornos mentais e comportamentais devidos ...   \n",
       "\n",
       "                                            category  \\\n",
       "0                                   Apendicite aguda   \n",
       "1              Apendicite, sem outras especificações   \n",
       "2                        Outras formas de apendicite   \n",
       "3  Íleo paralítico e obstrução intestinal sem hérnia   \n",
       "4  Íleo paralítico e obstrução intestinal sem hérnia   \n",
       "5  Íleo paralítico e obstrução intestinal sem hérnia   \n",
       "6  Íleo paralítico e obstrução intestinal sem hérnia   \n",
       "7  Íleo paralítico e obstrução intestinal sem hérnia   \n",
       "8  Íleo paralítico e obstrução intestinal sem hérnia   \n",
       "9  Transtornos mentais e comportamentais devidos ...   \n",
       "\n",
       "                                         subcategory alice_acute_class  \n",
       "0                                   Apendicite aguda               NaN  \n",
       "1              Apendicite, sem outras especificações             agudo  \n",
       "2                        Outras formas de apendicite             agudo  \n",
       "3                                     Intussuscepção      longitudinal  \n",
       "4                                              Volvo      longitudinal  \n",
       "5                     Outras obstruções do intestino             agudo  \n",
       "6      Aderências intestinais (bridas) com obstrução      longitudinal  \n",
       "7  Outras formas de obstrução intestinal, e as nã...      longitudinal  \n",
       "8  Íleo paralítico e obstrução intestinal sem hérnia               NaN  \n",
       "9  Transtornos mentais e comportamentais devidos ...      longitudinal  "
      ]
     },
     "execution_count": 12,
     "metadata": {},
     "output_type": "execute_result"
    }
   ],
   "source": [
    "df3 = df2.merge(df1, how = 'left', on = 'cid')\n",
    "df3.drop_duplicates(inplace = True)\n",
    "df3.head(10)"
   ]
  },
  {
   "cell_type": "markdown",
   "metadata": {},
   "source": [
    "## 3. Export"
   ]
  },
  {
   "cell_type": "code",
   "execution_count": 13,
   "metadata": {},
   "outputs": [
    {
     "name": "stdout",
     "output_type": "stream",
     "text": [
      "Table alice_cid_categories inserted successfully, with 2531 rows.\n"
     ]
    }
   ],
   "source": [
    "di.redshift.insert_table(df3, table_name='alice_cid_categories', if_exists='replace')"
   ]
  }
 ],
 "metadata": {
  "kernelspec": {
   "display_name": "Python 3.9.2 64-bit",
   "language": "python",
   "name": "python3"
  },
  "language_info": {
   "codemirror_mode": {
    "name": "ipython",
    "version": 3
   },
   "file_extension": ".py",
   "mimetype": "text/x-python",
   "name": "python",
   "nbconvert_exporter": "python",
   "pygments_lexer": "ipython3",
   "version": "3.9.2"
  },
  "orig_nbformat": 4,
  "vscode": {
   "interpreter": {
    "hash": "aee8b7b246df8f9039afb4144a1f6fd8d2ca17a180786b69acc140d282b71a49"
   }
  }
 },
 "nbformat": 4,
 "nbformat_minor": 2
}
