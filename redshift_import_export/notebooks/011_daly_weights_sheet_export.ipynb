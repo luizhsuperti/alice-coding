{
 "cells": [
  {
   "cell_type": "markdown",
   "metadata": {},
   "source": [
    "# DALY Disability Weights sheets export to redshift\n",
    "\n",
    "The *gestão de saúde magenta* squad inputs dw weights for daly calculations manually in a google sheet. This notebook is to export the sheet, after downloading from the Google Drive and storing it in a local computer. Since the sheet is updated not very often, there is not much gain from automating the process in Airflow (*yet*).\n",
    "\n",
    "Steps:\n",
    "\n",
    "    - Download the google sheet DALY weights and store it in the 'redshift_import_export\\external\\' package folder;\n",
    "\n",
    "    - run this notebook to upload to Redshift;\n",
    "    \n",
    "    - use the DW to make calculations, new tables, dashes...\n",
    "***"
   ]
  },
  {
   "cell_type": "markdown",
   "metadata": {},
   "source": [
    "## 0. Setup"
   ]
  },
  {
   "cell_type": "code",
   "execution_count": 1,
   "metadata": {},
   "outputs": [],
   "source": [
    "#connection to redshift\n",
    "from redshift_import_export.interfaces.data_interactor import DataInteractor\n",
    "di = DataInteractor()\n",
    "import requests\n",
    "\n",
    "\n",
    "#standard packages\n",
    "import warnings\n",
    "warnings.filterwarnings('ignore')\n",
    "import os\n",
    "import collections\n",
    "import pandas as pd\n",
    "import numpy as np\n",
    "\n",
    "\n",
    "\n",
    "#time packages\n",
    "import datetime as dt"
   ]
  },
  {
   "cell_type": "markdown",
   "metadata": {},
   "source": [
    "## 1. Import"
   ]
  },
  {
   "cell_type": "code",
   "execution_count": 2,
   "metadata": {},
   "outputs": [],
   "source": [
    "df = pd.read_csv(os.path.abspath(os.path.join(os.getcwd(), os.pardir)) + '/data/external/ALICE CIDS-DALYs - Volumetria.csv')"
   ]
  },
  {
   "cell_type": "code",
   "execution_count": 3,
   "metadata": {},
   "outputs": [
    {
     "data": {
      "text/plain": [
       "Index(['CID', 'subcategoria', 'categoria', 'severidade',\n",
       "       'GHE Sequela/GBD Higher level', 'GHE/GBD 2019 health state',\n",
       "       'GHE/GBD 2019 description', 'Peso DALY-Alice - limite inferior',\n",
       "       'Peso DALY-Alice', 'Peso DALY-Alice - limite superior',\n",
       "       'VALIDADO POR EQUIPE?', 'References', 'Notes', 'Unnamed: 13',\n",
       "       'Unnamed: 14', 'EXTRAS'],\n",
       "      dtype='object')"
      ]
     },
     "execution_count": 3,
     "metadata": {},
     "output_type": "execute_result"
    }
   ],
   "source": [
    "df.columns"
   ]
  },
  {
   "cell_type": "markdown",
   "metadata": {},
   "source": [
    "## 2. Transform"
   ]
  },
  {
   "cell_type": "code",
   "execution_count": 4,
   "metadata": {},
   "outputs": [],
   "source": [
    "df_skew = df[['CID','severidade', 'Peso DALY-Alice - limite inferior','Peso DALY-Alice', 'Peso DALY-Alice - limite superior']]\n",
    "df_skew.rename(columns ={'CID': 'cid',\n",
    "                         'severidade': 'severity',\n",
    "                         'Peso DALY-Alice - limite inferior': 'daly_weight_lower',\n",
    "                         'Peso DALY-Alice': 'daly_weight',\n",
    "                         'Peso DALY-Alice - limite superior': 'daly_weight_upper'}, inplace=True)\n",
    "\n",
    "df_skew['cid2'] = df_skew['cid'].shift(1)\n",
    "df_skew['cid3'] = np.where(df_skew['cid'].isna(), df_skew['cid2'], df_skew['cid'])\n",
    "df_skew.drop(columns = ['cid', 'cid2'], inplace=True)\n",
    "df_skew.rename(columns = {'cid3': 'cid'}, inplace=True)"
   ]
  },
  {
   "cell_type": "markdown",
   "metadata": {},
   "source": [
    "## 3. Export"
   ]
  },
  {
   "cell_type": "code",
   "execution_count": 5,
   "metadata": {},
   "outputs": [
    {
     "name": "stdout",
     "output_type": "stream",
     "text": [
      "Table daly_weights_for_alice inserted successfully, with 480 rows.\n"
     ]
    }
   ],
   "source": [
    "di.redshift.insert_table(df_skew, table_name='daly_weights_for_alice', if_exists='replace')"
   ]
  },
  {
   "cell_type": "code",
   "execution_count": null,
   "metadata": {},
   "outputs": [],
   "source": []
  }
 ],
 "metadata": {
  "kernelspec": {
   "display_name": "Python 3.9.2 64-bit",
   "language": "python",
   "name": "python3"
  },
  "language_info": {
   "codemirror_mode": {
    "name": "ipython",
    "version": 3
   },
   "file_extension": ".py",
   "mimetype": "text/x-python",
   "name": "python",
   "nbconvert_exporter": "python",
   "pygments_lexer": "ipython3",
   "version": "3.9.2 (default, Feb 24 2021, 13:26:09) \n[Clang 12.0.0 (clang-1200.0.32.29)]"
  },
  "orig_nbformat": 4,
  "vscode": {
   "interpreter": {
    "hash": "aee8b7b246df8f9039afb4144a1f6fd8d2ca17a180786b69acc140d282b71a49"
   }
  }
 },
 "nbformat": 4,
 "nbformat_minor": 2
}
