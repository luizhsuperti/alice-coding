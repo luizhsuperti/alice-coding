{
 "cells": [
  {
   "cell_type": "markdown",
   "metadata": {},
   "source": [
    "# CC-cost for Sep/22\n",
    "\n",
    "This script runs a `sql` code to create a panel data, based on the `case_records_current` table, where we have each `ICD-10` member change of status, and the link between the status change with change in daly weights. \n",
    "The calculation involves a lot of cleaning,   such as desconsidering impetous changes of status or *cancelled* icds status as the first status input, etc, we leave that for the sql code, and here is just the script to \n",
    "run it and export to the redshift.\n",
    "\n",
    "Steps:\n",
    "\n",
    "    - run this notebook to upload to Redshift;\n",
    "    \n",
    "    - use the new panel to make calculations, new tables, dashes...\n",
    "***"
   ]
  },
  {
   "cell_type": "markdown",
   "metadata": {},
   "source": [
    "## 0. Setup"
   ]
  },
  {
   "cell_type": "code",
   "execution_count": 2,
   "metadata": {},
   "outputs": [],
   "source": [
    "#connection to redshift\n",
    "from redshift_import_export.interfaces.data_interactor import DataInteractor\n",
    "di = DataInteractor()\n",
    "import requests\n",
    "\n",
    "\n",
    "#standard packages\n",
    "import warnings\n",
    "warnings.filterwarnings('ignore')\n",
    "import os\n",
    "import collections\n",
    "import pandas as pd\n",
    "import numpy as np\n",
    "\n",
    "\n",
    "\n",
    "#time packages\n",
    "import datetime as dt"
   ]
  },
  {
   "cell_type": "markdown",
   "metadata": {},
   "source": [
    "## 1. Import"
   ]
  },
  {
   "cell_type": "code",
   "execution_count": 28,
   "metadata": {},
   "outputs": [],
   "source": [
    "jan_df = pd.read_csv(os.path.abspath(os.path.join(os.getcwd(), os.pardir)) + '/data/external/care-cost-historico - care_cost_jan_v6.csv')\n",
    "fev_df = pd.read_csv(os.path.abspath(os.path.join(os.getcwd(), os.pardir)) + '/data/external/care-cost-historico - care_cost_fev_v6.csv')\n",
    "mar_df = pd.read_csv(os.path.abspath(os.path.join(os.getcwd(), os.pardir)) + '/data/external/care-cost-historico - care_cost_mar_v6.csv')\n",
    "apr_df = pd.read_csv(os.path.abspath(os.path.join(os.getcwd(), os.pardir)) + '/data/external/care-cost-historico - care_cost_abr_v6.csv')\n",
    "may_df = pd.read_csv(os.path.abspath(os.path.join(os.getcwd(), os.pardir)) + '/data/external/care-cost-historico - care_cost_mai_v6.csv')\n",
    "jun_df = pd.read_csv(os.path.abspath(os.path.join(os.getcwd(), os.pardir)) + '/data/external/care-cost-historico - care_cost_jun_v6.csv')\n",
    "jul_df = pd.read_csv(os.path.abspath(os.path.join(os.getcwd(), os.pardir)) + '/data/external/care-cost-historico - care_cost_jul_v6.csv')\n",
    "aug_df = pd.read_csv(os.path.abspath(os.path.join(os.getcwd(), os.pardir)) + '/data/external/care-cost-historico - care_cost_ago_v6.csv')\n",
    "sep_df = pd.read_csv(os.path.abspath(os.path.join(os.getcwd(), os.pardir)) + '/data/external/care-cost-historico - care_cost_set_v6.csv')\n"
   ]
  },
  {
   "attachments": {},
   "cell_type": "markdown",
   "metadata": {},
   "source": [
    "## 2. Transform"
   ]
  },
  {
   "cell_type": "code",
   "execution_count": 29,
   "metadata": {},
   "outputs": [],
   "source": [
    "jan_df_clean = jan_df.groupby('cid').sum()[['volume', 'care_cost_total']]\n",
    "jan_df_clean['avg_care_cost_jan'] = jan_df_clean['care_cost_total']/jan_df_clean['volume']\n",
    "#jan_df_clean['n_jan'] = 1\n",
    "jan_df_clean = jan_df_clean[['avg_care_cost_jan']]\n",
    "#\n",
    "\n",
    "fev_df_clean = fev_df.groupby('cid').sum()[['volume', 'care_cost_total']]\n",
    "fev_df_clean['avg_care_cost_fev'] = fev_df_clean['care_cost_total']/fev_df_clean['volume']\n",
    "#fev_df_clean['n_fev'] = 1\n",
    "fev_df_clean = fev_df_clean[['avg_care_cost_fev']]\n",
    "#\n",
    "mar_df_clean = mar_df.groupby('cid').sum()[['volume', 'care_cost_total']]\n",
    "mar_df_clean['avg_care_cost_mar'] = mar_df_clean['care_cost_total']/mar_df_clean['volume']\n",
    "#mar_df_clean['n_mar'] = 1\n",
    "mar_df_clean = mar_df_clean[['avg_care_cost_mar']]\n",
    "#\n",
    "apr_df_clean = apr_df.groupby('cid').sum()[['volume', 'care_cost_total']]\n",
    "apr_df_clean['avg_care_cost_apr'] = apr_df_clean['care_cost_total']/apr_df_clean['volume']\n",
    "#apr_df_clean['n_apr'] = 1\n",
    "apr_df_clean = apr_df_clean[['avg_care_cost_apr']]\n",
    "#\n",
    "may_df_clean = may_df.groupby('cid').sum()[['volume', 'care_cost_total']]\n",
    "may_df_clean['avg_care_cost_may'] = may_df_clean['care_cost_total']/may_df_clean['volume']\n",
    "#may_df_clean['n_may'] = 1\n",
    "may_df_clean = may_df_clean[['avg_care_cost_may']]\n",
    "#\n",
    "jun_df_clean = jun_df.groupby('cid').sum()[['volume', 'care_cost_total']]\n",
    "jun_df_clean['avg_care_cost_jun'] = jun_df_clean['care_cost_total']/jun_df_clean['volume']\n",
    "#jun_df_clean['n_jun'] = 1\n",
    "jun_df_clean = jun_df_clean[['avg_care_cost_jun']]\n",
    "#\n",
    "jul_df_clean = jul_df.groupby('cid').sum()[['volume', 'care_cost_total']]\n",
    "jul_df_clean['avg_care_cost_jul'] = jul_df_clean['care_cost_total']/jul_df_clean['volume']\n",
    "#jul_df_clean['n_jul'] = 1\n",
    "jul_df_clean = jul_df_clean[['avg_care_cost_jul']]\n",
    "#\n",
    "aug_df_clean = aug_df.groupby('cid').sum()[['volume', 'care_cost_total']]\n",
    "aug_df_clean['avg_care_cost_aug'] = aug_df_clean['care_cost_total']/aug_df_clean['volume']\n",
    "#aug_df_clean['n_aug'] = 1\n",
    "aug_df_clean = aug_df_clean[['avg_care_cost_aug']]\n",
    "#\n",
    "sep_df_clean = sep_df.groupby('cid').sum()[['volume', 'care_cost_total']]\n",
    "sep_df_clean['avg_care_cost_sep'] = sep_df_clean['care_cost_total']/sep_df_clean['volume']\n",
    "#sep_df_clean['n_sep'] = 1\n",
    "sep_df_clean = sep_df_clean[['avg_care_cost_sep']]"
   ]
  },
  {
   "cell_type": "code",
   "execution_count": 30,
   "metadata": {},
   "outputs": [],
   "source": [
    "df = jan_df_clean.merge(\n",
    "    fev_df_clean, how='outer', left_index=True, right_index=True).merge(\n",
    "        mar_df_clean, how='outer', left_index=True, right_index=True).merge(\n",
    "            apr_df_clean, how='outer', left_index=True, right_index=True).merge(\n",
    "                may_df_clean, how='outer', left_index=True, right_index=True).merge(\n",
    "                    jun_df_clean,  how='outer', left_index=True, right_index=True).merge(\n",
    "                        jul_df_clean, how='outer', left_index=True, right_index=True).merge(\n",
    "                            aug_df_clean, how='outer', left_index=True, right_index=True).merge(\n",
    "                                sep_df_clean, how='outer', left_index=True, right_index=True)\n",
    "\n",
    "\n"
   ]
  },
  {
   "cell_type": "code",
   "execution_count": 38,
   "metadata": {},
   "outputs": [
    {
     "data": {
      "text/html": [
       "<div>\n",
       "<style scoped>\n",
       "    .dataframe tbody tr th:only-of-type {\n",
       "        vertical-align: middle;\n",
       "    }\n",
       "\n",
       "    .dataframe tbody tr th {\n",
       "        vertical-align: top;\n",
       "    }\n",
       "\n",
       "    .dataframe thead th {\n",
       "        text-align: right;\n",
       "    }\n",
       "</style>\n",
       "<table border=\"1\" class=\"dataframe\">\n",
       "  <thead>\n",
       "    <tr style=\"text-align: right;\">\n",
       "      <th></th>\n",
       "      <th>cid</th>\n",
       "      <th>avg_care_cost</th>\n",
       "    </tr>\n",
       "  </thead>\n",
       "  <tbody>\n",
       "    <tr>\n",
       "      <th>0</th>\n",
       "      <td>A014</td>\n",
       "      <td>1098.743075</td>\n",
       "    </tr>\n",
       "    <tr>\n",
       "      <th>1</th>\n",
       "      <td>A02</td>\n",
       "      <td>59.211280</td>\n",
       "    </tr>\n",
       "    <tr>\n",
       "      <th>2</th>\n",
       "      <td>A045</td>\n",
       "      <td>661.298756</td>\n",
       "    </tr>\n",
       "    <tr>\n",
       "      <th>3</th>\n",
       "      <td>A05</td>\n",
       "      <td>205.927040</td>\n",
       "    </tr>\n",
       "    <tr>\n",
       "      <th>4</th>\n",
       "      <td>A059</td>\n",
       "      <td>926.130665</td>\n",
       "    </tr>\n",
       "    <tr>\n",
       "      <th>5</th>\n",
       "      <td>A06</td>\n",
       "      <td>464.673869</td>\n",
       "    </tr>\n",
       "    <tr>\n",
       "      <th>6</th>\n",
       "      <td>A071</td>\n",
       "      <td>266.428447</td>\n",
       "    </tr>\n",
       "    <tr>\n",
       "      <th>7</th>\n",
       "      <td>A08</td>\n",
       "      <td>859.667693</td>\n",
       "    </tr>\n",
       "    <tr>\n",
       "      <th>8</th>\n",
       "      <td>A080</td>\n",
       "      <td>278.126043</td>\n",
       "    </tr>\n",
       "    <tr>\n",
       "      <th>9</th>\n",
       "      <td>A082</td>\n",
       "      <td>0.000000</td>\n",
       "    </tr>\n",
       "  </tbody>\n",
       "</table>\n",
       "</div>"
      ],
      "text/plain": [
       "    cid  avg_care_cost\n",
       "0  A014    1098.743075\n",
       "1   A02      59.211280\n",
       "2  A045     661.298756\n",
       "3   A05     205.927040\n",
       "4  A059     926.130665\n",
       "5   A06     464.673869\n",
       "6  A071     266.428447\n",
       "7   A08     859.667693\n",
       "8  A080     278.126043\n",
       "9  A082       0.000000"
      ]
     },
     "execution_count": 38,
     "metadata": {},
     "output_type": "execute_result"
    }
   ],
   "source": [
    "avg_care_cost_list = df.mean(axis = 1).rename('avg_care_cost').reset_index()\n",
    "avg_care_cost_list.head(10)"
   ]
  },
  {
   "cell_type": "markdown",
   "metadata": {},
   "source": [
    "## 3. Export"
   ]
  },
  {
   "cell_type": "code",
   "execution_count": 39,
   "metadata": {},
   "outputs": [
    {
     "name": "stdout",
     "output_type": "stream",
     "text": [
      "Table avg_care_cost_list inserted successfully, with 2416 rows.\n"
     ]
    }
   ],
   "source": [
    "di.redshift.insert_table(avg_care_cost_list, table_name='avg_care_cost_list', if_exists='replace')"
   ]
  },
  {
   "cell_type": "code",
   "execution_count": null,
   "metadata": {},
   "outputs": [],
   "source": []
  }
 ],
 "metadata": {
  "kernelspec": {
   "display_name": "Python 3.9.2 64-bit",
   "language": "python",
   "name": "python3"
  },
  "language_info": {
   "codemirror_mode": {
    "name": "ipython",
    "version": 3
   },
   "file_extension": ".py",
   "mimetype": "text/x-python",
   "name": "python",
   "nbconvert_exporter": "python",
   "pygments_lexer": "ipython3",
   "version": "3.9.2"
  },
  "orig_nbformat": 4,
  "vscode": {
   "interpreter": {
    "hash": "aee8b7b246df8f9039afb4144a1f6fd8d2ca17a180786b69acc140d282b71a49"
   }
  }
 },
 "nbformat": 4,
 "nbformat_minor": 2
}
