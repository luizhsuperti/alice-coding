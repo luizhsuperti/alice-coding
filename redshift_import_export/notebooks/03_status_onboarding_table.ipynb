{
 "cells": [
  {
   "cell_type": "markdown",
   "metadata": {},
   "source": [
    "# Status onboarding\n",
    "\n",
    "This script runs a `sql` code to create a panel data, based on the `case_records_current` table, where we have each `ICD-10` member change of status, and the link between the status change with change in daly weights. \n",
    "The calculation involves a lot of cleaning,   such as desconsidering impetous changes of status or *cancelled* icds status as the first status input, etc, we leave that for the sql code, and here is just the script to \n",
    "run it and export to the redshift.\n",
    "\n",
    "Steps:\n",
    "\n",
    "    - run this notebook to upload to Redshift;\n",
    "    \n",
    "    - use the new panel to make calculations, new tables, dashes...\n",
    "***"
   ]
  },
  {
   "cell_type": "markdown",
   "metadata": {},
   "source": [
    "## 0. Setup"
   ]
  },
  {
   "cell_type": "code",
   "execution_count": 1,
   "metadata": {},
   "outputs": [],
   "source": [
    "#connection to redshift\n",
    "from redshift_import_export.interfaces.data_interactor import DataInteractor\n",
    "di = DataInteractor()\n",
    "import requests\n",
    "\n",
    "\n",
    "#standard packages\n",
    "import warnings\n",
    "warnings.filterwarnings('ignore')\n",
    "import os\n",
    "import collections\n",
    "import pandas as pd\n",
    "import numpy as np\n",
    "\n",
    "\n",
    "\n",
    "#time packages\n",
    "import datetime as dt"
   ]
  },
  {
   "cell_type": "markdown",
   "metadata": {},
   "source": [
    "## 1. Import"
   ]
  },
  {
   "cell_type": "code",
   "execution_count": 5,
   "metadata": {},
   "outputs": [
    {
     "data": {
      "text/html": [
       "<div>\n",
       "<style scoped>\n",
       "    .dataframe tbody tr th:only-of-type {\n",
       "        vertical-align: middle;\n",
       "    }\n",
       "\n",
       "    .dataframe tbody tr th {\n",
       "        vertical-align: top;\n",
       "    }\n",
       "\n",
       "    .dataframe thead th {\n",
       "        text-align: right;\n",
       "    }\n",
       "</style>\n",
       "<table border=\"1\" class=\"dataframe\">\n",
       "  <thead>\n",
       "    <tr style=\"text-align: right;\">\n",
       "      <th></th>\n",
       "      <th>member_internal_code</th>\n",
       "      <th>membership_phi_sk</th>\n",
       "      <th>follow_up_expected</th>\n",
       "      <th>category</th>\n",
       "      <th>Status</th>\n",
       "      <th>Obs</th>\n",
       "    </tr>\n",
       "  </thead>\n",
       "  <tbody>\n",
       "    <tr>\n",
       "      <th>0</th>\n",
       "      <td>NC18V46</td>\n",
       "      <td>ddw</td>\n",
       "      <td>Jornada Bem-Estar</td>\n",
       "      <td>Primeiro PDA</td>\n",
       "      <td>Concluído</td>\n",
       "      <td>Manutenção</td>\n",
       "    </tr>\n",
       "    <tr>\n",
       "      <th>1</th>\n",
       "      <td>NC1HQEB</td>\n",
       "      <td>NaN</td>\n",
       "      <td>Consulta 20 min</td>\n",
       "      <td>Screening</td>\n",
       "      <td>Concluído</td>\n",
       "      <td>Mudança de Produto</td>\n",
       "    </tr>\n",
       "    <tr>\n",
       "      <th>2</th>\n",
       "      <td>NC1ETEJ</td>\n",
       "      <td>NaN</td>\n",
       "      <td>Consulta 20 min</td>\n",
       "      <td>Primeiro PDA</td>\n",
       "      <td>Concluído</td>\n",
       "      <td>Estava SEM CID</td>\n",
       "    </tr>\n",
       "    <tr>\n",
       "      <th>3</th>\n",
       "      <td>NC1T3AW</td>\n",
       "      <td>NaN</td>\n",
       "      <td>Jornada Bem-Estar</td>\n",
       "      <td>Screening</td>\n",
       "      <td>Concluído</td>\n",
       "      <td>Manutenção</td>\n",
       "    </tr>\n",
       "    <tr>\n",
       "      <th>4</th>\n",
       "      <td>NC1BSQD</td>\n",
       "      <td>NaN</td>\n",
       "      <td>Consulta 20 min</td>\n",
       "      <td>Primeiro PDA</td>\n",
       "      <td>Concluído</td>\n",
       "      <td>Mudança de Produto</td>\n",
       "    </tr>\n",
       "    <tr>\n",
       "      <th>5</th>\n",
       "      <td>NC1SJ0T</td>\n",
       "      <td>NaN</td>\n",
       "      <td>Consulta 20 min</td>\n",
       "      <td>Screening</td>\n",
       "      <td>Concluído</td>\n",
       "      <td>Mudança de Produto</td>\n",
       "    </tr>\n",
       "    <tr>\n",
       "      <th>6</th>\n",
       "      <td>NC1OSEW</td>\n",
       "      <td>NaN</td>\n",
       "      <td>Jornada Bem-Estar</td>\n",
       "      <td>Primeiro PDA</td>\n",
       "      <td>Concluído</td>\n",
       "      <td>-</td>\n",
       "    </tr>\n",
       "    <tr>\n",
       "      <th>7</th>\n",
       "      <td>NC1ZYIM</td>\n",
       "      <td>NaN</td>\n",
       "      <td>Consulta 20 min</td>\n",
       "      <td>Screening</td>\n",
       "      <td>Concluído</td>\n",
       "      <td>Mudança de Produto</td>\n",
       "    </tr>\n",
       "    <tr>\n",
       "      <th>8</th>\n",
       "      <td>NC1KXK3</td>\n",
       "      <td>NaN</td>\n",
       "      <td>Jornada Bem-Estar</td>\n",
       "      <td>Primeiro PDA</td>\n",
       "      <td>Concluído</td>\n",
       "      <td>Manutenção</td>\n",
       "    </tr>\n",
       "    <tr>\n",
       "      <th>9</th>\n",
       "      <td>NC1F41G</td>\n",
       "      <td>NaN</td>\n",
       "      <td>Consulta 20 min</td>\n",
       "      <td>Screening</td>\n",
       "      <td>Concluído</td>\n",
       "      <td>Onsite</td>\n",
       "    </tr>\n",
       "  </tbody>\n",
       "</table>\n",
       "</div>"
      ],
      "text/plain": [
       "  member_internal_code membership_phi_sk follow_up_expected      category  \\\n",
       "0              NC18V46               ddw  Jornada Bem-Estar  Primeiro PDA   \n",
       "1              NC1HQEB               NaN    Consulta 20 min     Screening   \n",
       "2              NC1ETEJ               NaN    Consulta 20 min  Primeiro PDA   \n",
       "3              NC1T3AW               NaN  Jornada Bem-Estar     Screening   \n",
       "4              NC1BSQD               NaN    Consulta 20 min  Primeiro PDA   \n",
       "5              NC1SJ0T               NaN    Consulta 20 min     Screening   \n",
       "6              NC1OSEW               NaN  Jornada Bem-Estar  Primeiro PDA   \n",
       "7              NC1ZYIM               NaN    Consulta 20 min     Screening   \n",
       "8              NC1KXK3               NaN  Jornada Bem-Estar  Primeiro PDA   \n",
       "9              NC1F41G               NaN    Consulta 20 min     Screening   \n",
       "\n",
       "      Status                 Obs  \n",
       "0  Concluído          Manutenção  \n",
       "1  Concluído  Mudança de Produto  \n",
       "2  Concluído      Estava SEM CID  \n",
       "3  Concluído          Manutenção  \n",
       "4  Concluído  Mudança de Produto  \n",
       "5  Concluído  Mudança de Produto  \n",
       "6  Concluído                   -  \n",
       "7  Concluído  Mudança de Produto  \n",
       "8  Concluído          Manutenção  \n",
       "9  Concluído              Onsite  "
      ]
     },
     "execution_count": 5,
     "metadata": {},
     "output_type": "execute_result"
    }
   ],
   "source": [
    "df = pd.read_csv(os.path.abspath(os.path.join(os.getcwd(), os.pardir)) + '/data/external/Status Onboarding Manual - DW - DADOS.csv')\n",
    "df.head(10)"
   ]
  },
  {
   "cell_type": "markdown",
   "metadata": {},
   "source": [
    "## 3. Export"
   ]
  },
  {
   "cell_type": "code",
   "execution_count": 6,
   "metadata": {},
   "outputs": [
    {
     "name": "stdout",
     "output_type": "stream",
     "text": [
      "Table aux_status_onboarding_manual_table inserted successfully, with 44 rows.\n"
     ]
    }
   ],
   "source": [
    "di.redshift.insert_table(df, table_name='aux_status_onboarding_manual_table', if_exists='replace')"
   ]
  },
  {
   "cell_type": "code",
   "execution_count": null,
   "metadata": {},
   "outputs": [],
   "source": []
  }
 ],
 "metadata": {
  "kernelspec": {
   "display_name": "Python 3.9.2 64-bit",
   "language": "python",
   "name": "python3"
  },
  "language_info": {
   "codemirror_mode": {
    "name": "ipython",
    "version": 3
   },
   "file_extension": ".py",
   "mimetype": "text/x-python",
   "name": "python",
   "nbconvert_exporter": "python",
   "pygments_lexer": "ipython3",
   "version": "3.9.2 (default, Feb 24 2021, 13:26:09) \n[Clang 12.0.0 (clang-1200.0.32.29)]"
  },
  "orig_nbformat": 4,
  "vscode": {
   "interpreter": {
    "hash": "aee8b7b246df8f9039afb4144a1f6fd8d2ca17a180786b69acc140d282b71a49"
   }
  }
 },
 "nbformat": 4,
 "nbformat_minor": 2
}
