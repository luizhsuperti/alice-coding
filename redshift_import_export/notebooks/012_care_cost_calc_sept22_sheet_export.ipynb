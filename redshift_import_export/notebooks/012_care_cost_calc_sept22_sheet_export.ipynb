{
 "cells": [
  {
   "cell_type": "markdown",
   "metadata": {},
   "source": [
    "# CC-cost for Sep/22\n",
    "\n",
    "This script runs a `sql` code to create a panel data, based on the `case_records_current` table, where we have each `ICD-10` member change of status, and the link between the status change with change in daly weights. \n",
    "The calculation involves a lot of cleaning,   such as desconsidering impetous changes of status or *cancelled* icds status as the first status input, etc, we leave that for the sql code, and here is just the script to \n",
    "run it and export to the redshift.\n",
    "\n",
    "Steps:\n",
    "\n",
    "    - run this notebook to upload to Redshift;\n",
    "    \n",
    "    - use the new panel to make calculations, new tables, dashes...\n",
    "***"
   ]
  },
  {
   "cell_type": "markdown",
   "metadata": {},
   "source": [
    "## 0. Setup"
   ]
  },
  {
   "cell_type": "code",
   "execution_count": 1,
   "metadata": {},
   "outputs": [],
   "source": [
    "#connection to redshift\n",
    "from redshift_import_export.interfaces.data_interactor import DataInteractor\n",
    "di = DataInteractor()\n",
    "import requests\n",
    "\n",
    "\n",
    "#standard packages\n",
    "import warnings\n",
    "warnings.filterwarnings('ignore')\n",
    "import os\n",
    "import collections\n",
    "import pandas as pd\n",
    "import numpy as np\n",
    "\n",
    "\n",
    "\n",
    "#time packages\n",
    "import datetime as dt"
   ]
  },
  {
   "cell_type": "markdown",
   "metadata": {},
   "source": [
    "## 1. Import"
   ]
  },
  {
   "cell_type": "code",
   "execution_count": 2,
   "metadata": {},
   "outputs": [
    {
     "data": {
      "text/html": [
       "<div>\n",
       "<style scoped>\n",
       "    .dataframe tbody tr th:only-of-type {\n",
       "        vertical-align: middle;\n",
       "    }\n",
       "\n",
       "    .dataframe tbody tr th {\n",
       "        vertical-align: top;\n",
       "    }\n",
       "\n",
       "    .dataframe thead th {\n",
       "        text-align: right;\n",
       "    }\n",
       "</style>\n",
       "<table border=\"1\" class=\"dataframe\">\n",
       "  <thead>\n",
       "    <tr style=\"text-align: right;\">\n",
       "      <th></th>\n",
       "      <th>grupo_etario</th>\n",
       "      <th>Disease.Code.Value</th>\n",
       "      <th>volumetria</th>\n",
       "      <th>care_cost_medio</th>\n",
       "      <th>categoria_Alice</th>\n",
       "    </tr>\n",
       "  </thead>\n",
       "  <tbody>\n",
       "    <tr>\n",
       "      <th>0</th>\n",
       "      <td>18-60</td>\n",
       "      <td>S423</td>\n",
       "      <td>1</td>\n",
       "      <td>190745.22</td>\n",
       "      <td>Fratura do ombro e do braço</td>\n",
       "    </tr>\n",
       "    <tr>\n",
       "      <th>1</th>\n",
       "      <td>18-60</td>\n",
       "      <td>F41</td>\n",
       "      <td>412</td>\n",
       "      <td>377.03</td>\n",
       "      <td>Transtornos Ansiosos</td>\n",
       "    </tr>\n",
       "    <tr>\n",
       "      <th>2</th>\n",
       "      <td>0-2</td>\n",
       "      <td>P599</td>\n",
       "      <td>6</td>\n",
       "      <td>22105.57</td>\n",
       "      <td>Icterícia neonatal devida a outras causas e às...</td>\n",
       "    </tr>\n",
       "    <tr>\n",
       "      <th>3</th>\n",
       "      <td>18-60</td>\n",
       "      <td>F411</td>\n",
       "      <td>834</td>\n",
       "      <td>147.85</td>\n",
       "      <td>Transtornos Ansiosos</td>\n",
       "    </tr>\n",
       "    <tr>\n",
       "      <th>4</th>\n",
       "      <td>18-60</td>\n",
       "      <td>N80</td>\n",
       "      <td>106</td>\n",
       "      <td>966.83</td>\n",
       "      <td>Endometriose</td>\n",
       "    </tr>\n",
       "    <tr>\n",
       "      <th>5</th>\n",
       "      <td>18-60</td>\n",
       "      <td>F412</td>\n",
       "      <td>300</td>\n",
       "      <td>309.24</td>\n",
       "      <td>Transtornos Ansiosos</td>\n",
       "    </tr>\n",
       "    <tr>\n",
       "      <th>6</th>\n",
       "      <td>18-60</td>\n",
       "      <td>K21</td>\n",
       "      <td>125</td>\n",
       "      <td>726.45</td>\n",
       "      <td>Doenças do esôfago, do estômago e do duodeno</td>\n",
       "    </tr>\n",
       "    <tr>\n",
       "      <th>7</th>\n",
       "      <td>18-60</td>\n",
       "      <td>E66</td>\n",
       "      <td>725</td>\n",
       "      <td>112.66</td>\n",
       "      <td>Obesidade</td>\n",
       "    </tr>\n",
       "    <tr>\n",
       "      <th>8</th>\n",
       "      <td>18-60</td>\n",
       "      <td>F32</td>\n",
       "      <td>307</td>\n",
       "      <td>227.45</td>\n",
       "      <td>Transtornos Depressivos</td>\n",
       "    </tr>\n",
       "    <tr>\n",
       "      <th>9</th>\n",
       "      <td>18-60</td>\n",
       "      <td>R10</td>\n",
       "      <td>28</td>\n",
       "      <td>2480.78</td>\n",
       "      <td>Sinais e sintomas</td>\n",
       "    </tr>\n",
       "  </tbody>\n",
       "</table>\n",
       "</div>"
      ],
      "text/plain": [
       "  grupo_etario Disease.Code.Value  volumetria  care_cost_medio  \\\n",
       "0        18-60               S423           1        190745.22   \n",
       "1        18-60                F41         412           377.03   \n",
       "2          0-2               P599           6         22105.57   \n",
       "3        18-60               F411         834           147.85   \n",
       "4        18-60                N80         106           966.83   \n",
       "5        18-60               F412         300           309.24   \n",
       "6        18-60                K21         125           726.45   \n",
       "7        18-60                E66         725           112.66   \n",
       "8        18-60                F32         307           227.45   \n",
       "9        18-60                R10          28          2480.78   \n",
       "\n",
       "                                     categoria_Alice  \n",
       "0                        Fratura do ombro e do braço  \n",
       "1                               Transtornos Ansiosos  \n",
       "2  Icterícia neonatal devida a outras causas e às...  \n",
       "3                               Transtornos Ansiosos  \n",
       "4                                       Endometriose  \n",
       "5                               Transtornos Ansiosos  \n",
       "6       Doenças do esôfago, do estômago e do duodeno  \n",
       "7                                          Obesidade  \n",
       "8                            Transtornos Depressivos  \n",
       "9                                  Sinais e sintomas  "
      ]
     },
     "execution_count": 2,
     "metadata": {},
     "output_type": "execute_result"
    }
   ],
   "source": [
    "df = pd.read_csv(os.path.abspath(os.path.join(os.getcwd(), os.pardir)) + '/data/external/Care Cost Setembro 2022 - Sheet1.csv')\n",
    "df.head(10)"
   ]
  },
  {
   "cell_type": "code",
   "execution_count": 4,
   "metadata": {},
   "outputs": [],
   "source": [
    "df.rename(columns = {'Disease.Code.Value': 'disease_code_value'}, inplace = True)\n",
    "df2= df[['grupo_etario', 'disease_code_value','volumetria', 'care_cost_medio', 'categoria_Alice']]"
   ]
  },
  {
   "cell_type": "markdown",
   "metadata": {},
   "source": [
    "## 3. Export"
   ]
  },
  {
   "cell_type": "code",
   "execution_count": 5,
   "metadata": {},
   "outputs": [
    {
     "name": "stdout",
     "output_type": "stream",
     "text": [
      "Table care_cost_for_dalys_calculation inserted successfully, with 8188 rows.\n"
     ]
    }
   ],
   "source": [
    "di.redshift.insert_table(df2, table_name='care_cost_for_dalys_calculation', if_exists='replace')"
   ]
  },
  {
   "cell_type": "code",
   "execution_count": null,
   "metadata": {},
   "outputs": [],
   "source": []
  }
 ],
 "metadata": {
  "kernelspec": {
   "display_name": "Python 3.9.2 64-bit",
   "language": "python",
   "name": "python3"
  },
  "language_info": {
   "codemirror_mode": {
    "name": "ipython",
    "version": 3
   },
   "file_extension": ".py",
   "mimetype": "text/x-python",
   "name": "python",
   "nbconvert_exporter": "python",
   "pygments_lexer": "ipython3",
   "version": "3.9.2"
  },
  "orig_nbformat": 4,
  "vscode": {
   "interpreter": {
    "hash": "aee8b7b246df8f9039afb4144a1f6fd8d2ca17a180786b69acc140d282b71a49"
   }
  }
 },
 "nbformat": 4,
 "nbformat_minor": 2
}
