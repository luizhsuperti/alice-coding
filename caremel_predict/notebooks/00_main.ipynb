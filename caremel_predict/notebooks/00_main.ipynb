{
 "cells": [
  {
   "cell_type": "markdown",
   "metadata": {},
   "source": [
    " # 1. Setup"
   ]
  },
  {
   "cell_type": "code",
   "execution_count": 1,
   "metadata": {},
   "outputs": [],
   "source": [
    "from caremel_predict.interfaces.data_interactor import DataInteractor\n",
    "import collections\n",
    "import numpy as np\n",
    "import pandas as pd\n",
    "import sqlalchemy\n",
    "import os\n",
    "# Import date and timedelta class\n",
    "# from datetime module\n",
    "from datetime import date\n",
    "from datetime import timedelta\n",
    "\n",
    "#request \n",
    "import requests\n",
    "di = DataInteractor()\n",
    "\n",
    "#Functions\n",
    "def _add_in_dict_ds(row):\n",
    "    try:\n",
    "        ds_dict[row['member_internal_code']] = {\n",
    "            **ds_dict[row['member_internal_code']],\n",
    "            **{\n",
    "                row['cid']: 1\n",
    "            }\n",
    "        }\n",
    "    except:\n",
    "        ds_dict[row['member_internal_code']] = {row['cid']: 1}\n",
    "#\n",
    "def _add_in_dict_fp(row):\n",
    "    if row['question_text'] in QUESTIONS:\n",
    "        try:\n",
    "            fp_dict[row['member_internal_code']] = {\n",
    "                **fp_dict[row['member_internal_code']],\n",
    "                **{\n",
    "                    row['question_text']: row['answer_text']\n",
    "                }\n",
    "            }\n",
    "        except:\n",
    "            fp_dict[row['member_internal_code']] = {\n",
    "                row['question_text']: row['answer_text']\n",
    "            }\n",
    "#\n",
    "def _request_first_layer(input):\n",
    "    r = requests.post(\n",
    "        \"https://sm-gateway.datalake.alice.tools/caramelo/first_layer\",\n",
    "        json=input)\n",
    "    if r.status_code == 200:\n",
    "        return r.json()\n",
    "    else:\n",
    "        print(\"Request failed\")\n",
    "        return None\n",
    "\n",
    "#\n",
    "def _request_second_layer(input):\n",
    "    r = requests.post(\n",
    "        \"https://sm-gateway.datalake.alice.tools/caramelo/second_layer\",\n",
    "        json=input)\n",
    "    if r.status_code == 200:\n",
    "        return r.json()\n",
    "    else:\n",
    "        print(\"Request failed\")\n",
    "        return None\n",
    "\n",
    "# Questions from questionnaire to be considered\n",
    "QUESTIONS = ['Alguma dessas doenças está presente na sua família: Acidente vascular cerebral (derrame) -  Pode selecionar todas as opções aplicáveis.',\n",
    "                'Alguma dessas doenças está presente na sua família: Câncer de Intestino -  Pode selecionar todas as opções aplicáveis.',\n",
    "                'Alguma dessas doenças está presente na sua família: Câncer de Mama -  Pode selecionar todas as opções aplicáveis.',\n",
    "                'Alguma dessas doenças está presente na sua família: Câncer de pele -  Pode selecionar todas as opções aplicáveis.',\n",
    "                'Alguma dessas doenças está presente na sua família: Diabetes -  Pode selecionar todas as opções aplicáveis.',\n",
    "                'Alguma dessas doenças está presente na sua família: Hipertensão arterial -  Pode selecionar todas as opções aplicáveis.',\n",
    "                'Alguma dessas doenças está presente na sua família: Infarto do miocárdio -  Pode selecionar todas as opções aplicáveis.',\n",
    "                'O que te incomoda em relação à sua saúde?',\n",
    "                'Qual a sua altura? (em cm)',\n",
    "                'Qual o seu peso atual? (em kg)',\n",
    "                'Você fuma ou já fumou?',\n",
    "                'Você usa drogas recreativas (como maconha ou outras drogas sintéticas)?',    \n",
    "                'Se sentiu para baixo, deprimido(a) ou sem perspectiva?',\n",
    "                'Teve pouco interesse ou pouco prazer em fazer as coisas?',\n",
    "                'Não ser capaz de impedir ou controlar as preocupações',\n",
    "                'Sentir-se nervoso(a), ansioso(a) ou muito tenso(a)',\n",
    "                'Em uma escala de 0 a 10, que nota você dá à sua saúde hoje?']"
   ]
  },
  {
   "cell_type": "markdown",
   "metadata": {},
   "source": [
    "## 2. Import"
   ]
  },
  {
   "cell_type": "code",
   "execution_count": 2,
   "metadata": {},
   "outputs": [
    {
     "name": "stderr",
     "output_type": "stream",
     "text": [
      "/Users/luiz.superti/Library/Python/3.9/lib/python/site-packages/pandas/io/sql.py:762: UserWarning: pandas only support SQLAlchemy connectable(engine/connection) ordatabase string URI or sqlite3 DBAPI2 connectionother DBAPI2 objects are not tested, please consider using SQLAlchemy\n",
      "  warnings.warn(\n",
      "/Users/luiz.superti/Library/Python/3.9/lib/python/site-packages/pandas/io/sql.py:762: UserWarning: pandas only support SQLAlchemy connectable(engine/connection) ordatabase string URI or sqlite3 DBAPI2 connectionother DBAPI2 objects are not tested, please consider using SQLAlchemy\n",
      "  warnings.warn(\n",
      "/Users/luiz.superti/Library/Python/3.9/lib/python/site-packages/pandas/io/sql.py:762: UserWarning: pandas only support SQLAlchemy connectable(engine/connection) ordatabase string URI or sqlite3 DBAPI2 connectionother DBAPI2 objects are not tested, please consider using SQLAlchemy\n",
      "  warnings.warn(\n"
     ]
    }
   ],
   "source": [
    "onboarding_df = di.redshift.run_sql_query(os.path.abspath(os.path.join(os.getcwd(), os.pardir)) + '/data/queries/onboarding_df.sql')\n",
    "df_ds = di.redshift.run_sql_query(os.path.abspath(os.path.join(os.getcwd(), os.pardir)) + '/data/queries/df_ds.sql')\n",
    "df_fp = di.redshift.run_sql_query(os.path.abspath(os.path.join(os.getcwd(), os.pardir)) + '/data/queries/df_fp.sql')"
   ]
  },
  {
   "cell_type": "markdown",
   "metadata": {},
   "source": [
    "## 3. Transform"
   ]
  },
  {
   "cell_type": "code",
   "execution_count": 3,
   "metadata": {},
   "outputs": [
    {
     "name": "stderr",
     "output_type": "stream",
     "text": [
      "/var/folders/cg/wkjm197x02l9tmhwc_l_18km0000gr/T/ipykernel_70265/808925311.py:137: SettingWithCopyWarning: \n",
      "A value is trying to be set on a copy of a slice from a DataFrame\n",
      "\n",
      "See the caveats in the documentation: https://pandas.pydata.org/pandas-docs/stable/user_guide/indexing.html#returning-a-view-versus-a-copy\n",
      "  df0.drop_duplicates(inplace=True)\n"
     ]
    }
   ],
   "source": [
    "#list of cids codes\n",
    "df_ds['cid'] = df_ds['cid'].apply(lambda x: x[0:3])\n",
    "ds_dict = collections.defaultdict()\n",
    "\n",
    "df_ds.apply(lambda row: _add_in_dict_ds(row), axis=1)\n",
    "df_ds_row = pd.DataFrame.from_dict(ds_dict, orient='index').reset_index(drop=False).rename(columns={'index': 'member_internal_code'})\n",
    "df_ds_row = df_ds_row.merge(df_ds)\n",
    "\n",
    "df_ds_row.fillna(0, inplace=True)\n",
    "df_ds_row.drop(columns='cid', inplace=True)\n",
    "df_ds_row['is_risk_or_chronic_dis'] = np.where(\n",
    "(df_ds_row['E66'] == 1) | (df_ds_row['N63'] == 1) |\n",
    "(df_ds_row['I10'] == 1) | (df_ds_row['E05'] == 1) |\n",
    "(df_ds_row['E11'] == 1) | (df_ds_row['B24'] == 1) |\n",
    "(df_ds_row['F84'] == 1) | (df_ds_row['M05'] == 1) |\n",
    "(df_ds_row['Q90'] == 1) | (df_ds_row['I64'] == 1) |\n",
    "(df_ds_row['I50'] == 1) | (df_ds_row['N18'] == 1) |\n",
    "(df_ds_row['Z95'] == 1), 1, 0)\n",
    "\n",
    "df_ds_row.drop_duplicates(inplace=True)\n",
    "\n",
    "\n",
    "# questionnaires\n",
    "fp_dict = collections.defaultdict()\n",
    "df_fp.apply(lambda row: _add_in_dict_fp(row), axis=1)\n",
    "df_fp_row = pd.DataFrame.from_dict(fp_dict, orient='index').reset_index(drop=False).rename(\n",
    "                                                             columns={'index': 'member_internal_code'})\n",
    "df_fp_row.fillna(-1, inplace=True)\n",
    "\n",
    "\n",
    "#gad and phq\n",
    "df_fp_row['phq_2_w'] = df_fp_row['Se sentiu para baixo, deprimido(a) ou sem perspectiva?'].astype(float) + df_fp_row['Teve pouco interesse ou pouco prazer em fazer as coisas?'].astype(float)\n",
    "df_fp_row['phq_2_w'] = df_fp_row['phq_2_w'].fillna(-1)\n",
    "df_fp_row.loc[df_fp_row['phq_2_w']<0,'phq_2_w'] = -1\n",
    "\n",
    "df_fp_row['gad_2_w'] = df_fp_row['Não ser capaz de impedir ou controlar as preocupações'].astype(float) + df_fp_row['Sentir-se nervoso(a), ansioso(a) ou muito tenso(a)'].astype(float)\n",
    "df_fp_row['gad_2_w'] = df_fp_row['gad_2_w'].fillna(-1)\n",
    "df_fp_row.loc[df_fp_row['gad_2_w']<0,'gad_2_w'] = -1\n",
    "\n",
    "#euroqol\n",
    "df_fp_row['euroqol_w'] = df_fp_row['Em uma escala de 0 a 10, que nota você dá à sua saúde hoje?'].astype(float)/10\n",
    "df_fp_row['euroqol_w'] = df_fp_row['euroqol_w'].fillna(-1)\n",
    "\n",
    "\n",
    "#blood pressure, cancer, heart attack and diabetes questions\n",
    "df_fp_row['has_ancestry_blood_pressure'] = np.where((df_fp_row['Alguma dessas doenças está presente na sua família: Hipertensão arterial -  Pode selecionar todas as opções aplicáveis.'].str.contains(\"Avós\"))|(\n",
    "            df_fp_row['Alguma dessas doenças está presente na sua família: Hipertensão arterial -  Pode selecionar todas as opções aplicáveis.'].str.contains(\"Pai\"))|(\n",
    "            df_fp_row['Alguma dessas doenças está presente na sua família: Hipertensão arterial -  Pode selecionar todas as opções aplicáveis.'].str.contains(\"Mãe\"))|(\n",
    "            df_fp_row['Alguma dessas doenças está presente na sua família: Hipertensão arterial -  Pode selecionar todas as opções aplicáveis.'].str.contains(\"Irmãos\")),1,-1)\n",
    "df_fp_row.loc[df_fp_row['Alguma dessas doenças está presente na sua família: Hipertensão arterial -  Pode selecionar todas as opções aplicáveis.']=='Não','has_ancestry_blood_pressure'] = 0\n",
    "\n",
    "#heart attack\n",
    "df_fp_row['has_ancestry_heart_attack0'] = np.where((df_fp_row['Alguma dessas doenças está presente na sua família: Infarto do miocárdio -  Pode selecionar todas as opções aplicáveis.'].str.contains(\"Avós\"))|(\n",
    "            df_fp_row['Alguma dessas doenças está presente na sua família: Infarto do miocárdio -  Pode selecionar todas as opções aplicáveis.'].str.contains(\"Pai\"))|(\n",
    "            df_fp_row['Alguma dessas doenças está presente na sua família: Infarto do miocárdio -  Pode selecionar todas as opções aplicáveis.'].str.contains(\"Mãe\"))|(\n",
    "            df_fp_row['Alguma dessas doenças está presente na sua família: Infarto do miocárdio -  Pode selecionar todas as opções aplicáveis.'].str.contains(\"Irmãos\")),1,-1)\n",
    "df_fp_row.loc[df_fp_row['Alguma dessas doenças está presente na sua família: Infarto do miocárdio -  Pode selecionar todas as opções aplicáveis.']=='Não','has_ancestry_heart_attack0'] = 0\n",
    "df_fp_row['has_ancestry_heart_attack1'] = np.where((df_fp_row['Alguma dessas doenças está presente na sua família: Acidente vascular cerebral (derrame) -  Pode selecionar todas as opções aplicáveis.'].str.contains(\"Avós\"))|(\n",
    "            df_fp_row['Alguma dessas doenças está presente na sua família: Acidente vascular cerebral (derrame) -  Pode selecionar todas as opções aplicáveis.'].str.contains(\"Pai\"))|(\n",
    "            df_fp_row['Alguma dessas doenças está presente na sua família: Acidente vascular cerebral (derrame) -  Pode selecionar todas as opções aplicáveis.'].str.contains(\"Mãe\"))|(\n",
    "            df_fp_row['Alguma dessas doenças está presente na sua família: Acidente vascular cerebral (derrame) -  Pode selecionar todas as opções aplicáveis.'].str.contains(\"Irmãos\")),1,-1)\n",
    "df_fp_row.loc[df_fp_row['Alguma dessas doenças está presente na sua família: Acidente vascular cerebral (derrame) -  Pode selecionar todas as opções aplicáveis.']=='Não','has_ancestry_heart_attack1'] = 0\n",
    "\n",
    "##cancers\n",
    "df_fp_row['has_ancestry_cancer0'] = np.where((df_fp_row['Alguma dessas doenças está presente na sua família: Câncer de Mama -  Pode selecionar todas as opções aplicáveis.'].str.contains(\"Avós\"))|(\n",
    "            df_fp_row['Alguma dessas doenças está presente na sua família: Câncer de Mama -  Pode selecionar todas as opções aplicáveis.'].str.contains(\"Pai\"))|(\n",
    "            df_fp_row['Alguma dessas doenças está presente na sua família: Câncer de Mama -  Pode selecionar todas as opções aplicáveis.'].str.contains(\"Mãe\"))|(\n",
    "            df_fp_row['Alguma dessas doenças está presente na sua família: Câncer de Mama -  Pode selecionar todas as opções aplicáveis.'].str.contains(\"Irmãos\")),1,-1)\n",
    "df_fp_row.loc[df_fp_row['Alguma dessas doenças está presente na sua família: Câncer de Mama -  Pode selecionar todas as opções aplicáveis.']=='Não','has_ancestry_cancer0'] = 0\n",
    "df_fp_row['has_ancestry_cancer1'] = np.where((df_fp_row['Alguma dessas doenças está presente na sua família: Câncer de pele -  Pode selecionar todas as opções aplicáveis.'].str.contains(\"Avós\"))|(\n",
    "            df_fp_row['Alguma dessas doenças está presente na sua família: Câncer de pele -  Pode selecionar todas as opções aplicáveis.'].str.contains(\"Pai\"))|(\n",
    "            df_fp_row['Alguma dessas doenças está presente na sua família: Câncer de pele -  Pode selecionar todas as opções aplicáveis.'].str.contains(\"Mãe\"))|(\n",
    "            df_fp_row['Alguma dessas doenças está presente na sua família: Câncer de pele -  Pode selecionar todas as opções aplicáveis.'].str.contains(\"Irmãos\")),1,-1)\n",
    "df_fp_row.loc[df_fp_row['Alguma dessas doenças está presente na sua família: Câncer de pele -  Pode selecionar todas as opções aplicáveis.']=='Não','has_ancestry_cancer1'] = 0\n",
    "df_fp_row['has_ancestry_cancer2'] = np.where((df_fp_row['Alguma dessas doenças está presente na sua família: Câncer de Intestino -  Pode selecionar todas as opções aplicáveis.'].str.contains(\"Avós\"))|(\n",
    "            df_fp_row['Alguma dessas doenças está presente na sua família: Câncer de Intestino -  Pode selecionar todas as opções aplicáveis.'].str.contains(\"Pai\"))|(\n",
    "            df_fp_row['Alguma dessas doenças está presente na sua família: Câncer de Intestino -  Pode selecionar todas as opções aplicáveis.'].str.contains(\"Mãe\"))|(\n",
    "            df_fp_row['Alguma dessas doenças está presente na sua família: Câncer de Intestino -  Pode selecionar todas as opções aplicáveis.'].str.contains(\"Irmãos\")),1,-1)\n",
    "df_fp_row.loc[df_fp_row['Alguma dessas doenças está presente na sua família: Câncer de Intestino -  Pode selecionar todas as opções aplicáveis.']=='Não','has_ancestry_cancer2'] = 0\n",
    "\n",
    "#diabetes\n",
    "df_fp_row['has_ancestry_diabetes'] = np.where((df_fp_row['Alguma dessas doenças está presente na sua família: Diabetes -  Pode selecionar todas as opções aplicáveis.'].str.contains(\"Avós\"))|(\n",
    "            df_fp_row['Alguma dessas doenças está presente na sua família: Diabetes -  Pode selecionar todas as opções aplicáveis.'].str.contains(\"Pai\"))|(\n",
    "            df_fp_row['Alguma dessas doenças está presente na sua família: Diabetes -  Pode selecionar todas as opções aplicáveis.'].str.contains(\"Mãe\"))|(\n",
    "            df_fp_row['Alguma dessas doenças está presente na sua família: Diabetes -  Pode selecionar todas as opções aplicáveis.'].str.contains(\"Irmãos\")),1,-1)\n",
    "df_fp_row.loc[df_fp_row['Alguma dessas doenças está presente na sua família: Diabetes -  Pode selecionar todas as opções aplicáveis.']=='Não', 'has_ancestry_diabetes'] = 0\n",
    "\n",
    "df_fp_row['has_ancestry_heart_attack'] = np.where((df_fp_row['has_ancestry_heart_attack0']==1)|(df_fp_row['has_ancestry_heart_attack1']==1),1,-1)\n",
    "df_fp_row.loc[(df_fp_row['has_ancestry_heart_attack0']==0)&(df_fp_row['has_ancestry_heart_attack1']==0),'has_ancestry_heart_attack'] = 0\n",
    "\n",
    "df_fp_row['has_ancestry_cancer'] = np.where((df_fp_row['has_ancestry_cancer0']==1)|(df_fp_row['has_ancestry_cancer1']==1)|(df_fp_row['has_ancestry_cancer2']==1),1,-1)\n",
    "df_fp_row.loc[(df_fp_row['has_ancestry_cancer0']==0)&(df_fp_row['has_ancestry_cancer1']==0)&(df_fp_row['has_ancestry_cancer2']==0),'has_ancestry_cancer'] = 0\n",
    "\n",
    "\n",
    "\n",
    "# has some medical condition that wants to treat\n",
    "df_fp_row['has_incomodo_para_tratar_len'] = df_fp_row['O que te incomoda em relação à sua saúde?'].apply(lambda x: len(str(x)))\n",
    "df_fp_row['v1'] = df_fp_row['O que te incomoda em relação à sua saúde?'].apply(lambda x:str.lower(str(x)))\n",
    "df_fp_row['has_incomodo_para_tratar'] = np.where((df_fp_row['has_incomodo_para_tratar_len']>3) & (\n",
    "                                                    df_fp_row['v1']!='nada') &  (\n",
    "                                                    df_fp_row['v1']!='não sei') & (\n",
    "                                                    df_fp_row['v1']!='nada em específico') & (\n",
    "                                                    df_fp_row['v1']!='por enquanto nada') & (\n",
    "                                                    df_fp_row['v1']!='no momento nada') & (\n",
    "                                                    df_fp_row['v1']!='nada em particular') & (\n",
    "                                                    df_fp_row['v1']!='nada.') & (\n",
    "                                                    df_fp_row['v1']!='ainda nada') & (\n",
    "                                                    df_fp_row['v1']!='por enquanto nada.') & (\n",
    "                                                    df_fp_row['v1']!='por enquanto, nada.') & (\n",
    "                                                    df_fp_row['v1']!='nada até o momento') & (\n",
    "                                                    df_fp_row['v1']!='Ainda nada') & (\n",
    "                                                    df_fp_row['v1']!='No momento nada :)'\n",
    "                                                    ),1,0)\n",
    "df_fp_row.loc[df_fp_row['O que te incomoda em relação à sua saúde?'] == 'null', 'has_incomodo_para_tratar'] = -1\n",
    "df_fp_row.loc[df_fp_row['v1'] == '-1', 'has_incomodo_para_tratar'] = -1\n",
    "\n",
    "#smoke\n",
    "# Fumo\n",
    "df_fp_row['smoke'] = np.where(df_fp_row['Você fuma ou já fumou?']=='10',0,1)\n",
    "df_fp_row.loc[df_fp_row['Você fuma ou já fumou?'] == '-1', ['smoke']] = -1\n",
    "\n",
    "# drogas\n",
    "df_fp_row['v1'] = df_fp_row['Você usa drogas recreativas (como maconha ou outras drogas sintéticas)?'].apply(lambda x: str(x).partition('@')[0])\n",
    "df_fp_row['drug'] = np.where(df_fp_row['v1']=='Não',0,1)\n",
    "df_fp_row.loc[df_fp_row['v1'] == \"-1\", ['drug']] = -1\n",
    "df_fp_row.loc[df_fp_row['v1'] == \"null\", ['drug']] = -1\n",
    "\n",
    "#imc\n",
    "df_fp_row['imc'] = df_fp_row['Qual o seu peso atual? (em kg)'].apply(lambda x: float(x)) / (df_fp_row['Qual a sua altura? (em cm)'].apply(lambda x:float(x))/100)**2\n",
    "df_fp_row['imc'] = df_fp_row['imc'].fillna(-1)\n",
    "df_fp_row.loc[df_fp_row['imc']<0,'imc'] = -1\n",
    "df_fp_row['imc'] = df_fp_row['imc'].apply(lambda x: round(x,2))\n",
    "\n",
    "\n",
    "#static info\n",
    "df0 = df_fp[['member_internal_code', 'member_sex']]\n",
    "df0.drop_duplicates(inplace=True)\n"
   ]
  },
  {
   "cell_type": "code",
   "execution_count": 4,
   "metadata": {},
   "outputs": [],
   "source": [
    "ml_df0 = df_fp_row[['member_internal_code',\n",
    "                    'has_ancestry_diabetes',\n",
    "                    'gad_2_w',\n",
    "                    'phq_2_w',\n",
    "                    'euroqol_w',\n",
    "                    'has_ancestry_blood_pressure',\n",
    "                    'has_ancestry_heart_attack',\n",
    "                    'has_ancestry_cancer',\n",
    "                    'has_incomodo_para_tratar',\n",
    "                    'smoke',\n",
    "                    'drug',\n",
    "                    'imc']].merge(df_ds_row[['member_internal_code', 'is_risk_or_chronic_dis']],how = 'left', on = 'member_internal_code')"
   ]
  },
  {
   "cell_type": "code",
   "execution_count": 5,
   "metadata": {},
   "outputs": [],
   "source": [
    "static_info_df = onboarding_df[['member_internal_code',\n",
    "                                'onboarding_risk_value',\n",
    "                                 'age',\n",
    "                                 'status_onboarding_curated',\n",
    "                                 'onboarding_form_ended_at',\n",
    "                                 'follow_up_expected']].merge(df0, how = 'left', left_on = 'member_internal_code', right_on = 'member_internal_code')\n",
    "static_info_df['is_female'] = np.where(static_info_df['member_sex']=='FEMALE',1,0)\n",
    "static_info_df.drop(columns=['member_sex'],inplace=True)\n",
    "\n",
    "ml_df = static_info_df.merge(ml_df0, how  = 'left', on = 'member_internal_code')\n",
    "#add variables\n",
    "ml_df['is_risk_or_chronic_dis'] = ml_df['is_risk_or_chronic_dis'].fillna(0)\n",
    "ml_df['has_ancestry_rheum'] = -1\n",
    "\n",
    "ml_df.fillna(-1,inplace=True)\n",
    "\n",
    "ml_df.rename(columns = {'onboarding_risk_value': 'ds_mat_score',\n",
    "                        'imc': 'imc_w',\n",
    "                        'has_incomodo_para_tratar': 'tem_incomodo_p_tratar'}, inplace = True)\n"
   ]
  },
  {
   "cell_type": "markdown",
   "metadata": {},
   "source": [
    "***"
   ]
  },
  {
   "cell_type": "code",
   "execution_count": 6,
   "metadata": {},
   "outputs": [],
   "source": [
    "ml_df['caremel_pipe_input'] = np.where(ml_df['follow_up_expected']=='Consulta 20 min',1,-1)\n",
    "ml_df.loc[ml_df['follow_up_expected']=='Jornada Bem-Estar', 'caremel_pipe_input'] = 1\n",
    "ml_df['member_valid_for_caremel'] = np.where(ml_df['status_onboarding_curated']=='Finalizou',1,0)\n",
    "#ml_df['onboard_form_yesterday'] = np.where(ml_df['onboarding_form_ended_at'].apply(lambda x: pd.to_datetime(x, errors = 'coerce').date() ) == date.today() - timedelta(days=1),1,0)"
   ]
  },
  {
   "cell_type": "code",
   "execution_count": 7,
   "metadata": {},
   "outputs": [],
   "source": [
    "#caremel_input = ml_df[(ml_df['caremel_pipe_input']!=-1) & (ml_df['member_valid_for_caremel']==1) & (ml_df['onboard_form_yesterday']==1)] \n",
    "caremel_input = ml_df[(ml_df['caremel_pipe_input']!=-1) & (ml_df['member_valid_for_caremel']==1)]\n",
    "caremel_input = caremel_input.drop(columns = ['status_onboarding_curated', 'onboarding_form_ended_at', 'follow_up_expected', 'member_valid_for_caremel'])"
   ]
  },
  {
   "cell_type": "markdown",
   "metadata": {},
   "source": [
    "## 5. Request & Prediction"
   ]
  },
  {
   "cell_type": "code",
   "execution_count": 8,
   "metadata": {},
   "outputs": [
    {
     "name": "stderr",
     "output_type": "stream",
     "text": [
      "100%|██████████| 708/708 [08:25<00:00,  1.40it/s]\n"
     ]
    }
   ],
   "source": [
    "from bs4 import BeautifulSoup as bs4\n",
    "import datetime\n",
    "from tqdm import tqdm\n",
    "\n",
    "\n",
    "first_layer_times = []\n",
    "second_layer_times = []\n",
    "for index, row in tqdm(caremel_input.iterrows(), total=caremel_input.shape[0]):\n",
    "    if row['caremel_pipe_input'] == 1:\n",
    "        aux_time = datetime.datetime.now()\n",
    "        aux_first_risk = _request_first_layer(row.to_dict())\n",
    "        first_layer_times.append(\n",
    "            (datetime.datetime.now() - aux_time).total_seconds())\n",
    "        caremel_input.loc[index, 'first_layer_risk'] = aux_first_risk['risk']\n"
   ]
  },
  {
   "cell_type": "code",
   "execution_count": 9,
   "metadata": {},
   "outputs": [],
   "source": [
    "caremel_input['follow_up_caremel'] = np.where(caremel_input['first_layer_risk'] == 'NO_RISK', 'Jornada Bem-Estar', 'Consulta 20 min')\n",
    "#caremel_input.loc[caremel_input['second_layer_risk'] =='MEDIUM_RISK', 'follow_up_caremel'] = 'Consulta 20 min'\n",
    "caremel_input['health_plan_task_caremel'] = np.where(caremel_input['first_layer_risk'] == 'NO_RISK', 'PDA Pilar', 'Med - Consulta Longitudinal')\n",
    "#caremel_input.loc[caremel_input['second_layer_risk'] =='MEDIUM_RISK', 'health_plan_task_caremel'] = 'Med - Consulta Longitudinal'\n",
    "caremel_input['appointment_orientations_caremel'] = np.where((caremel_input['first_layer_risk'] == 'LOW_RISK'),'De acordo com a AI da Wanda, o risco pode ser um pouco maior do que o apontado na DS/Videocall','')  # type: ignore\n",
    "#caremel_input.loc[caremel_input['second_layer_risk'] =='MEDIUM_RISK', 'appointment_orientations_caremel'] = 'De acordo com a AI da Wanda, o risco pode ser um pouco maior do que o apontado na DS/Videocall'"
   ]
  },
  {
   "cell_type": "code",
   "execution_count": 10,
   "metadata": {},
   "outputs": [],
   "source": [
    "new_onboarding_df = onboarding_df.merge(caremel_input[['member_internal_code', 'follow_up_caremel','health_plan_task_caremel','appointment_orientations_caremel']], how = 'left', on = 'member_internal_code')\n",
    "\n",
    "#FINAL FOLLOW-UP: O ANTERIOR + MUDANCAS TRAZIDAS PELO CAREMEL\n",
    "new_onboarding_df['final_follow_up'] = new_onboarding_df['follow_up_expected']\n",
    "new_onboarding_df.loc[(onboarding_df['onboarding_risk'] =='NO_RISK') & (new_onboarding_df['follow_up_caremel'] =='Consulta 20 min') , 'final_follow_up'] = 'Consulta 20 min'\n",
    "new_onboarding_df.loc[(onboarding_df['onboarding_risk'] =='LOW_RISK') & (new_onboarding_df['follow_up_caremel'] =='Jornada Bem-Estar') , 'final_follow_up'] = 'Jornada Bem-Estar'\n",
    "\n",
    "#FINAL HEALTH PLAN-TRASK: O ANTERIOR + MUDANCAS TRAZIDAS PELO CAREMEL\n",
    "new_onboarding_df['final_health_plan_task'] = new_onboarding_df['health_plan_task_expected']\n",
    "new_onboarding_df.loc[(new_onboarding_df['onboarding_risk'] =='NO_RISK') & (new_onboarding_df['follow_up_caremel'] =='Consulta 20 min') , 'final_health_plan_task'] = 'Med - Consulta Longitudinal'\n",
    "new_onboarding_df.loc[(new_onboarding_df['onboarding_risk'] =='LOW_RISK') & (new_onboarding_df['follow_up_caremel'] =='Jornada Bem-Estar') , 'final_health_plan_task'] = 'PDA Pilar'\n",
    "\n",
    "#FINAL appointment orientations: O ANTERIOR + MUDANCAS TRAZIDAS PELO CAREMEL\n",
    "new_onboarding_df['final_appointment_orientations'] = new_onboarding_df['appointment_orientations']\n",
    "new_onboarding_df.loc[(new_onboarding_df['onboarding_risk'] =='NO_RISK') & (new_onboarding_df['appointment_orientations_caremel'] =='De acordo com a AI da Wanda, o risco pode ser um pouco maior do que o apontado na DS/Videocall') , 'final_appointment_orientations'] = 'De acordo com a AI da Wanda, o risco pode ser um pouco maior do que o apontado na DS/Videocall'\n"
   ]
  },
  {
   "cell_type": "code",
   "execution_count": 11,
   "metadata": {},
   "outputs": [],
   "source": [
    "#new_onboarding_df[['follow_up_expected','follow_up_caremel']].value_counts()"
   ]
  },
  {
   "cell_type": "markdown",
   "metadata": {},
   "source": [
    "#### append to old dataframe"
   ]
  },
  {
   "cell_type": "code",
   "execution_count": 12,
   "metadata": {},
   "outputs": [],
   "source": [
    "#onboard_ds = onboard_ds.merge(onboarding_df_skew, how = 'left', on = 'member_internal_code')\n",
    "#onboard_ds['final_follow_up'] = np.where(onboard_ds['final_follow_up_y'].isna(), onboard_ds['final_follow_up_x'], onboard_ds['final_follow_up_y'])\n",
    "#onboard_ds['final_appointment_orientations'] = np.where(onboard_ds['final_appointment_orientations_y'].isna(), onboard_ds['final_appointment_orientations_x'], onboard_ds['final_appointment_orientations_y'])\n",
    "#onboard_ds['final_health_plan_task'] = np.where(onboard_ds['final_health_plan_task_y'].isna(), onboard_ds['final_health_plan_task_x'], onboard_ds['final_health_plan_task_y'])\n",
    "\n",
    "#onboard_ds.drop(columns=['final_follow_up_y', 'final_follow_up_x', 'final_appointment_orientations_y', 'final_appointment_orientations_x', 'final_health_plan_task_y', 'final_health_plan_task_x'], inplace=True)"
   ]
  },
  {
   "cell_type": "markdown",
   "metadata": {},
   "source": [
    "# 6.Export to datalek"
   ]
  },
  {
   "cell_type": "code",
   "execution_count": 13,
   "metadata": {},
   "outputs": [
    {
     "name": "stderr",
     "output_type": "stream",
     "text": [
      "/Users/luiz.superti/Library/Python/3.9/lib/python/site-packages/pandas/io/sql.py:1766: SAWarning: Dialect redshift:psycopg2 will not make use of SQL compilation caching as it does not set the 'supports_statement_cache' attribute to ``True``.  This can have significant performance implications including some performance degradations in comparison to prior SQLAlchemy versions.  Dialect maintainers should seek to set this attribute to True after appropriate development and testing for SQLAlchemy 1.4 caching support.   Alternatively, this attribute may be set to False which will disable this warning. (Background on this error at: https://sqlalche.me/e/14/cprf)\n",
      "  return insp.has_table(name, schema or self.meta.schema)\n"
     ]
    },
    {
     "name": "stdout",
     "output_type": "stream",
     "text": [
      "Table caremel_onboarding inserted successfully, with 960 rows.\n"
     ]
    }
   ],
   "source": [
    "di.redshift.insert_table(new_onboarding_df, table_name='caremel_onboarding', if_exists='replace')"
   ]
  },
  {
   "cell_type": "markdown",
   "metadata": {},
   "source": [
    "***"
   ]
  },
  {
   "cell_type": "markdown",
   "metadata": {},
   "source": []
  }
 ],
 "metadata": {
  "kernelspec": {
   "display_name": "Python 3.9.2 64-bit",
   "language": "python",
   "name": "python3"
  },
  "language_info": {
   "codemirror_mode": {
    "name": "ipython",
    "version": 3
   },
   "file_extension": ".py",
   "mimetype": "text/x-python",
   "name": "python",
   "nbconvert_exporter": "python",
   "pygments_lexer": "ipython3",
   "version": "3.9.2"
  },
  "orig_nbformat": 4,
  "vscode": {
   "interpreter": {
    "hash": "aee8b7b246df8f9039afb4144a1f6fd8d2ca17a180786b69acc140d282b71a49"
   }
  }
 },
 "nbformat": 4,
 "nbformat_minor": 2
}
